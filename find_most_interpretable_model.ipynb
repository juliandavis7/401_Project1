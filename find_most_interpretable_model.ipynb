{
 "cells": [
  {
   "cell_type": "code",
   "execution_count": 1,
   "metadata": {},
   "outputs": [],
   "source": [
    "import pandas as pd\n",
    "import numpy as np\n",
    "from numpy.linalg import inv\n",
    "import sklearn\n",
    "import matplotlib.pyplot as plt"
   ]
  },
  {
   "cell_type": "code",
   "execution_count": 2,
   "metadata": {},
   "outputs": [],
   "source": [
    "# linear regression methodology\n",
    "class LR:\n",
    "    \n",
    "    def fit(self, X_train, y_train):\n",
    "        # create vector of ones...\n",
    "        ones = np.ones(shape=len(X_train))[..., None]\n",
    "        #...and add to feature matrix\n",
    "        X = np.concatenate((ones, X_train), 1)\n",
    "        #calculate coefficients using closed-form solution\n",
    "        self.coeffs = inv(X.transpose().dot(X)).dot(X.transpose()).dot(y_train)\n",
    "        \n",
    "    def predict(self, X_test):\n",
    "        ones = np.ones(shape=len(X_test))[..., None]\n",
    "        X_test = np.concatenate((ones, X_test), 1)\n",
    "        y_hat = X_test.dot(self.coeffs)\n",
    "        return y_hat\n"
   ]
  },
  {
   "cell_type": "code",
   "execution_count": 16,
   "metadata": {},
   "outputs": [],
   "source": [
    "# cross validation methodology\n",
    "def k_fold(k, df):\n",
    "    n = len(df)\n",
    "    cut = int(n/k)\n",
    "    folds = []\n",
    "    start = 0\n",
    "    end = cut\n",
    "    for i in range(0, k):\n",
    "        fold = df[start: end]\n",
    "        folds.append(fold)\n",
    "        start += int(n/k)\n",
    "        end += int(n/k)\n",
    "    return folds\n",
    "\n",
    "def mse(actual, predicted):\n",
    "    return -(((actual - predicted)**2).mean())\n",
    "\n",
    "def cv(folds, response):\n",
    "    test_errors = []\n",
    "    for i in range(0, len(folds)):\n",
    "        X_train = pd.DataFrame()\n",
    "        Y_train = pd.Series(dtype=float)\n",
    "        for j in range(0, len(folds)):\n",
    "            if i == j:\n",
    "                X_test = folds[j].drop([response], axis=1)\n",
    "                Y_test = folds[j][response]\n",
    "            if i != j:\n",
    "                X_train = X_train.append(folds[j].drop([response], axis=1))\n",
    "                Y_train = Y_train.append(folds[j][response])\n",
    "    \n",
    "        model = LR()\n",
    "        model.fit(X_train, Y_train.transpose())\n",
    "        Y_pred = pd.DataFrame()\n",
    "        Y_pred = model.predict(X_test)\n",
    "        error = mse(Y_test, Y_pred) \n",
    "        test_errors.append(error)\n",
    "        rmse = np.sqrt(-sum(test_errors)/len(folds))\n",
    "        rss = (Y_test - Y_pred)**2\n",
    "        rss = rss.sum()\n",
    "        n = len(folds[j])\n",
    "        p = len(X_train.columns)\n",
    "        BIC = p * np.log(n) + n * np.log(rss/n)\n",
    "    return rmse, BIC"
   ]
  },
  {
   "cell_type": "code",
   "execution_count": 8,
   "metadata": {},
   "outputs": [],
   "source": [
    "# Standardizing the Dataframe\n",
    "\n",
    "def standardize(df): \n",
    "    #standardize only quantitative variables\n",
    "    df_st = ((df.select_dtypes(float) - df.select_dtypes(float).mean()) / df.select_dtypes(float).std()) \n",
    "\n",
    "    #join the standardized quantites back with original df \n",
    "    df_st = df.select_dtypes(exclude=float).join(df_st)\n",
    "    return df_st "
   ]
  },
  {
   "cell_type": "code",
   "execution_count": 9,
   "metadata": {},
   "outputs": [
    {
     "data": {
      "text/html": [
       "<div>\n",
       "<style scoped>\n",
       "    .dataframe tbody tr th:only-of-type {\n",
       "        vertical-align: middle;\n",
       "    }\n",
       "\n",
       "    .dataframe tbody tr th {\n",
       "        vertical-align: top;\n",
       "    }\n",
       "\n",
       "    .dataframe thead th {\n",
       "        text-align: right;\n",
       "    }\n",
       "</style>\n",
       "<table border=\"1\" class=\"dataframe\">\n",
       "  <thead>\n",
       "    <tr style=\"text-align: right;\">\n",
       "      <th></th>\n",
       "      <th></th>\n",
       "      <th>Pack</th>\n",
       "      <th>State Bottle Retail</th>\n",
       "      <th>Population</th>\n",
       "      <th>Volume Sold (Gallons) Per Capita</th>\n",
       "      <th>Income Per Capita</th>\n",
       "      <th>Precincts</th>\n",
       "      <th>Votes</th>\n",
       "      <th>Republicans 2016</th>\n",
       "      <th>Democrats 2016</th>\n",
       "      <th>Green 2016</th>\n",
       "      <th>...</th>\n",
       "      <th>Black</th>\n",
       "      <th>Hispanic</th>\n",
       "      <th>Asian</th>\n",
       "      <th>Amerindian</th>\n",
       "      <th>Other</th>\n",
       "      <th>Median Age</th>\n",
       "      <th>Teen.births</th>\n",
       "      <th>Sexually.transmitted.infections</th>\n",
       "      <th>Unemployment</th>\n",
       "      <th>Violent.crime</th>\n",
       "    </tr>\n",
       "    <tr>\n",
       "      <th>County</th>\n",
       "      <th>Month-Year</th>\n",
       "      <th></th>\n",
       "      <th></th>\n",
       "      <th></th>\n",
       "      <th></th>\n",
       "      <th></th>\n",
       "      <th></th>\n",
       "      <th></th>\n",
       "      <th></th>\n",
       "      <th></th>\n",
       "      <th></th>\n",
       "      <th></th>\n",
       "      <th></th>\n",
       "      <th></th>\n",
       "      <th></th>\n",
       "      <th></th>\n",
       "      <th></th>\n",
       "      <th></th>\n",
       "      <th></th>\n",
       "      <th></th>\n",
       "      <th></th>\n",
       "      <th></th>\n",
       "    </tr>\n",
       "  </thead>\n",
       "  <tbody>\n",
       "    <tr>\n",
       "      <th rowspan=\"5\" valign=\"top\">adair</th>\n",
       "      <th>01-2012</th>\n",
       "      <td>354</td>\n",
       "      <td>369.00</td>\n",
       "      <td>7468</td>\n",
       "      <td>0.009092</td>\n",
       "      <td>42093</td>\n",
       "      <td>6.0</td>\n",
       "      <td>3759.0</td>\n",
       "      <td>65.336526</td>\n",
       "      <td>29.981378</td>\n",
       "      <td>0.345837</td>\n",
       "      <td>...</td>\n",
       "      <td>0.05</td>\n",
       "      <td>0.95</td>\n",
       "      <td>0.25</td>\n",
       "      <td>0.1</td>\n",
       "      <td>0.65</td>\n",
       "      <td>44.8</td>\n",
       "      <td>26.4</td>\n",
       "      <td>146.1</td>\n",
       "      <td>0.042</td>\n",
       "      <td>48.19</td>\n",
       "    </tr>\n",
       "    <tr>\n",
       "      <th>02-2012</th>\n",
       "      <td>395</td>\n",
       "      <td>524.48</td>\n",
       "      <td>7468</td>\n",
       "      <td>0.009487</td>\n",
       "      <td>42093</td>\n",
       "      <td>6.0</td>\n",
       "      <td>3759.0</td>\n",
       "      <td>65.336526</td>\n",
       "      <td>29.981378</td>\n",
       "      <td>0.345837</td>\n",
       "      <td>...</td>\n",
       "      <td>0.05</td>\n",
       "      <td>0.95</td>\n",
       "      <td>0.25</td>\n",
       "      <td>0.1</td>\n",
       "      <td>0.65</td>\n",
       "      <td>44.8</td>\n",
       "      <td>26.4</td>\n",
       "      <td>146.1</td>\n",
       "      <td>0.042</td>\n",
       "      <td>48.19</td>\n",
       "    </tr>\n",
       "    <tr>\n",
       "      <th>03-2012</th>\n",
       "      <td>320</td>\n",
       "      <td>284.23</td>\n",
       "      <td>7468</td>\n",
       "      <td>0.005108</td>\n",
       "      <td>42093</td>\n",
       "      <td>6.0</td>\n",
       "      <td>3759.0</td>\n",
       "      <td>65.336526</td>\n",
       "      <td>29.981378</td>\n",
       "      <td>0.345837</td>\n",
       "      <td>...</td>\n",
       "      <td>0.05</td>\n",
       "      <td>0.95</td>\n",
       "      <td>0.25</td>\n",
       "      <td>0.1</td>\n",
       "      <td>0.65</td>\n",
       "      <td>44.8</td>\n",
       "      <td>26.4</td>\n",
       "      <td>146.1</td>\n",
       "      <td>0.042</td>\n",
       "      <td>48.19</td>\n",
       "    </tr>\n",
       "    <tr>\n",
       "      <th>04-2012</th>\n",
       "      <td>510</td>\n",
       "      <td>458.76</td>\n",
       "      <td>7468</td>\n",
       "      <td>0.009859</td>\n",
       "      <td>42093</td>\n",
       "      <td>6.0</td>\n",
       "      <td>3759.0</td>\n",
       "      <td>65.336526</td>\n",
       "      <td>29.981378</td>\n",
       "      <td>0.345837</td>\n",
       "      <td>...</td>\n",
       "      <td>0.05</td>\n",
       "      <td>0.95</td>\n",
       "      <td>0.25</td>\n",
       "      <td>0.1</td>\n",
       "      <td>0.65</td>\n",
       "      <td>44.8</td>\n",
       "      <td>26.4</td>\n",
       "      <td>146.1</td>\n",
       "      <td>0.042</td>\n",
       "      <td>48.19</td>\n",
       "    </tr>\n",
       "    <tr>\n",
       "      <th>05-2012</th>\n",
       "      <td>430</td>\n",
       "      <td>587.60</td>\n",
       "      <td>7468</td>\n",
       "      <td>0.010932</td>\n",
       "      <td>42093</td>\n",
       "      <td>6.0</td>\n",
       "      <td>3759.0</td>\n",
       "      <td>65.336526</td>\n",
       "      <td>29.981378</td>\n",
       "      <td>0.345837</td>\n",
       "      <td>...</td>\n",
       "      <td>0.05</td>\n",
       "      <td>0.95</td>\n",
       "      <td>0.25</td>\n",
       "      <td>0.1</td>\n",
       "      <td>0.65</td>\n",
       "      <td>44.8</td>\n",
       "      <td>26.4</td>\n",
       "      <td>146.1</td>\n",
       "      <td>0.042</td>\n",
       "      <td>48.19</td>\n",
       "    </tr>\n",
       "  </tbody>\n",
       "</table>\n",
       "<p>5 rows × 30 columns</p>\n",
       "</div>"
      ],
      "text/plain": [
       "                   Pack  State Bottle Retail  Population  \\\n",
       "County Month-Year                                          \n",
       "adair  01-2012      354               369.00        7468   \n",
       "       02-2012      395               524.48        7468   \n",
       "       03-2012      320               284.23        7468   \n",
       "       04-2012      510               458.76        7468   \n",
       "       05-2012      430               587.60        7468   \n",
       "\n",
       "                   Volume Sold (Gallons) Per Capita  Income Per Capita  \\\n",
       "County Month-Year                                                        \n",
       "adair  01-2012                             0.009092              42093   \n",
       "       02-2012                             0.009487              42093   \n",
       "       03-2012                             0.005108              42093   \n",
       "       04-2012                             0.009859              42093   \n",
       "       05-2012                             0.010932              42093   \n",
       "\n",
       "                   Precincts   Votes  Republicans 2016  Democrats 2016  \\\n",
       "County Month-Year                                                        \n",
       "adair  01-2012           6.0  3759.0         65.336526       29.981378   \n",
       "       02-2012           6.0  3759.0         65.336526       29.981378   \n",
       "       03-2012           6.0  3759.0         65.336526       29.981378   \n",
       "       04-2012           6.0  3759.0         65.336526       29.981378   \n",
       "       05-2012           6.0  3759.0         65.336526       29.981378   \n",
       "\n",
       "                   Green 2016  ...  Black  Hispanic  Asian  Amerindian  Other  \\\n",
       "County Month-Year              ...                                              \n",
       "adair  01-2012       0.345837  ...   0.05      0.95   0.25         0.1   0.65   \n",
       "       02-2012       0.345837  ...   0.05      0.95   0.25         0.1   0.65   \n",
       "       03-2012       0.345837  ...   0.05      0.95   0.25         0.1   0.65   \n",
       "       04-2012       0.345837  ...   0.05      0.95   0.25         0.1   0.65   \n",
       "       05-2012       0.345837  ...   0.05      0.95   0.25         0.1   0.65   \n",
       "\n",
       "                   Median Age  Teen.births  Sexually.transmitted.infections  \\\n",
       "County Month-Year                                                             \n",
       "adair  01-2012           44.8         26.4                            146.1   \n",
       "       02-2012           44.8         26.4                            146.1   \n",
       "       03-2012           44.8         26.4                            146.1   \n",
       "       04-2012           44.8         26.4                            146.1   \n",
       "       05-2012           44.8         26.4                            146.1   \n",
       "\n",
       "                   Unemployment  Violent.crime  \n",
       "County Month-Year                               \n",
       "adair  01-2012            0.042          48.19  \n",
       "       02-2012            0.042          48.19  \n",
       "       03-2012            0.042          48.19  \n",
       "       04-2012            0.042          48.19  \n",
       "       05-2012            0.042          48.19  \n",
       "\n",
       "[5 rows x 30 columns]"
      ]
     },
     "execution_count": 9,
     "metadata": {},
     "output_type": "execute_result"
    }
   ],
   "source": [
    "df = pd.read_csv(\"iowa_month_county.csv\") \n",
    "df.set_index([\"County\", \"Month-Year\"], inplace=True)\n",
    "df.head()"
   ]
  },
  {
   "cell_type": "code",
   "execution_count": 42,
   "metadata": {},
   "outputs": [
    {
     "name": "stdout",
     "output_type": "stream",
     "text": [
      "rmse: 0.9931250435879557\n",
      "     \n",
      "BIC: -1089.379654239777\n"
     ]
    }
   ],
   "source": [
    "# 1 predictor: Pack\n",
    "df_test = df[[\"Pack\",\"Volume Sold (Gallons) Per Capita\"]]\n",
    "df_test = standardize(df_test)\n",
    "response = \"Volume Sold (Gallons) Per Capita\"\n",
    "folds = k_fold(5,df_test)\n",
    "out = cv(folds, response)\n",
    "print(\"rmse:\", out[0])\n",
    "print(\"     \")\n",
    "print(\"BIC:\", out[1])\n",
    "PCK = out[1]"
   ]
  },
  {
   "cell_type": "code",
   "execution_count": 43,
   "metadata": {},
   "outputs": [
    {
     "name": "stdout",
     "output_type": "stream",
     "text": [
      "rmse: 1.0147376266442851\n",
      "     \n",
      "BIC: -1100.550282332577\n"
     ]
    }
   ],
   "source": [
    "# 1 predictor: State Bottle Retail\n",
    "df_test = df[[\"State Bottle Retail\",\"Volume Sold (Gallons) Per Capita\"]]\n",
    "df_test = standardize(df_test)\n",
    "response = \"Volume Sold (Gallons) Per Capita\"\n",
    "folds = k_fold(5,df_test)\n",
    "out = cv(folds, response)\n",
    "print(\"rmse:\", out[0])\n",
    "print(\"     \")\n",
    "print(\"BIC:\", out[1])\n",
    "SBR = out[1]"
   ]
  },
  {
   "cell_type": "code",
   "execution_count": 44,
   "metadata": {},
   "outputs": [
    {
     "name": "stdout",
     "output_type": "stream",
     "text": [
      "rmse: 0.9803072999709112\n",
      "     \n",
      "BIC: -997.8025275470935\n"
     ]
    }
   ],
   "source": [
    "# 1 predictor: Population\n",
    "df_test = df[[\"Population\",\"Volume Sold (Gallons) Per Capita\"]]\n",
    "df_test = standardize(df_test)\n",
    "response = \"Volume Sold (Gallons) Per Capita\"\n",
    "folds = k_fold(5,df_test)\n",
    "out = cv(folds, response)\n",
    "print(\"rmse:\", out[0])\n",
    "print(\"     \")\n",
    "print(\"BIC:\", out[1])\n",
    "PPLN = out[1]"
   ]
  },
  {
   "cell_type": "code",
   "execution_count": 45,
   "metadata": {},
   "outputs": [
    {
     "name": "stdout",
     "output_type": "stream",
     "text": [
      "rmse: 1.0046163613540184\n",
      "     \n",
      "BIC: -747.322570246465\n"
     ]
    }
   ],
   "source": [
    "# 1 predictor: Income per capita\n",
    "df_test = df[[\"Income Per Capita\",\"Volume Sold (Gallons) Per Capita\"]]\n",
    "df_test = standardize(df_test)\n",
    "response = \"Volume Sold (Gallons) Per Capita\"\n",
    "folds = k_fold(5,df_test)\n",
    "out = cv(folds, response)\n",
    "print(\"rmse:\", out[0])\n",
    "print(\"     \")\n",
    "print(\"BIC:\", out[1])\n",
    "IPC = out[1]"
   ]
  },
  {
   "cell_type": "code",
   "execution_count": 46,
   "metadata": {},
   "outputs": [
    {
     "name": "stdout",
     "output_type": "stream",
     "text": [
      "rmse: 0.9791782383177384\n",
      "     \n",
      "BIC: -1007.5794563205553\n"
     ]
    }
   ],
   "source": [
    "# 1 predictor: Precincts\n",
    "df_test = df[[\"Precincts\",\"Volume Sold (Gallons) Per Capita\"]]\n",
    "df_test = standardize(df_test)\n",
    "response = \"Volume Sold (Gallons) Per Capita\"\n",
    "folds = k_fold(5,df_test)\n",
    "out = cv(folds, response)\n",
    "print(\"rmse:\", out[0])\n",
    "print(\"     \")\n",
    "print(\"BIC:\", out[1])\n",
    "PRCT = out[1]"
   ]
  },
  {
   "cell_type": "code",
   "execution_count": 47,
   "metadata": {},
   "outputs": [
    {
     "name": "stdout",
     "output_type": "stream",
     "text": [
      "rmse: 0.9779765465219404\n",
      "     \n",
      "BIC: -990.0870929517489\n"
     ]
    }
   ],
   "source": [
    "# 1 predictor: Votes\n",
    "df_test = df[[\"Votes\",\"Volume Sold (Gallons) Per Capita\"]]\n",
    "df_test = standardize(df_test)\n",
    "response = \"Volume Sold (Gallons) Per Capita\"\n",
    "folds = k_fold(5,df_test)\n",
    "out = cv(folds, response)\n",
    "print(\"rmse:\", out[0])\n",
    "print(\"     \")\n",
    "print(\"BIC:\", out[1])\n",
    "VOTE = out[1]"
   ]
  },
  {
   "cell_type": "code",
   "execution_count": 48,
   "metadata": {},
   "outputs": [
    {
     "name": "stdout",
     "output_type": "stream",
     "text": [
      "rmse: 0.9695591820343095\n",
      "     \n",
      "BIC: -1010.8328624992433\n"
     ]
    }
   ],
   "source": [
    "# 1 predictor: Republicans 2016\n",
    "df_test = df[[\"Republicans 2016\",\"Volume Sold (Gallons) Per Capita\"]]\n",
    "df_test = standardize(df_test)\n",
    "response = \"Volume Sold (Gallons) Per Capita\"\n",
    "folds = k_fold(5,df_test)\n",
    "out = cv(folds, response)\n",
    "print(\"rmse:\", out[0])\n",
    "print(\"     \")\n",
    "print(\"BIC:\", out[1])\n",
    "RPB = out[1]"
   ]
  },
  {
   "cell_type": "code",
   "execution_count": 49,
   "metadata": {},
   "outputs": [
    {
     "name": "stdout",
     "output_type": "stream",
     "text": [
      "rmse: 0.9656914257785936\n",
      "     \n",
      "BIC: -1024.9519346794254\n"
     ]
    }
   ],
   "source": [
    "# 1 predictor: Democrats 2016\n",
    "df_test = df[[\"Democrats 2016\",\"Volume Sold (Gallons) Per Capita\"]]\n",
    "df_test = standardize(df_test)\n",
    "response = \"Volume Sold (Gallons) Per Capita\"\n",
    "folds = k_fold(5,df_test)\n",
    "out = cv(folds, response)\n",
    "print(\"rmse:\", out[0])\n",
    "print(\"     \")\n",
    "print(\"BIC:\", out[1])\n",
    "DMC = out[1]"
   ]
  },
  {
   "cell_type": "code",
   "execution_count": 50,
   "metadata": {},
   "outputs": [
    {
     "name": "stdout",
     "output_type": "stream",
     "text": [
      "rmse: 1.0295210353695152\n",
      "     \n",
      "BIC: -677.0933235600629\n"
     ]
    }
   ],
   "source": [
    "# 1 predictor: Green 2016\n",
    "df_test = df[[\"Green 2016\",\"Volume Sold (Gallons) Per Capita\"]]\n",
    "df_test = standardize(df_test)\n",
    "response = \"Volume Sold (Gallons) Per Capita\"\n",
    "folds = k_fold(5,df_test)\n",
    "out = cv(folds, response)\n",
    "print(\"rmse:\", out[0])\n",
    "print(\"     \")\n",
    "print(\"BIC:\", out[1])\n",
    "GRN = out[1]"
   ]
  },
  {
   "cell_type": "code",
   "execution_count": 51,
   "metadata": {},
   "outputs": [
    {
     "name": "stdout",
     "output_type": "stream",
     "text": [
      "rmse: 1.0129082534079275\n",
      "     \n",
      "BIC: -633.7540720894933\n"
     ]
    }
   ],
   "source": [
    "# 1 predictor: Libertarians 2016\n",
    "df_test = df[[\"Libertarians 2016\",\"Volume Sold (Gallons) Per Capita\"]]\n",
    "df_test = standardize(df_test)\n",
    "response = \"Volume Sold (Gallons) Per Capita\"\n",
    "folds = k_fold(5,df_test)\n",
    "out = cv(folds, response)\n",
    "print(\"rmse:\", out[0])\n",
    "print(\"     \")\n",
    "print(\"BIC:\", out[1])\n",
    "LBR = out[1]"
   ]
  },
  {
   "cell_type": "code",
   "execution_count": 52,
   "metadata": {},
   "outputs": [
    {
     "name": "stdout",
     "output_type": "stream",
     "text": [
      "rmse: 0.9882379329866818\n",
      "     \n",
      "BIC: -773.86745627841\n"
     ]
    }
   ],
   "source": [
    "# 1 predictor: At Least High School Diploma\n",
    "df_test = df[[\"At Least High School Diploma\",\"Volume Sold (Gallons) Per Capita\"]]\n",
    "df_test = standardize(df_test)\n",
    "response = \"Volume Sold (Gallons) Per Capita\"\n",
    "folds = k_fold(5,df_test)\n",
    "out = cv(folds, response)\n",
    "print(\"rmse:\", out[0])\n",
    "print(\"     \")\n",
    "print(\"BIC:\", out[1])\n",
    "HSD = out[1] "
   ]
  },
  {
   "cell_type": "code",
   "execution_count": 53,
   "metadata": {},
   "outputs": [
    {
     "name": "stdout",
     "output_type": "stream",
     "text": [
      "rmse: 0.9636097965659541\n",
      "     \n",
      "BIC: -870.1873635624872\n"
     ]
    }
   ],
   "source": [
    "# 1 predictor: At Least Bachelors's Degree\n",
    "df_test = df[[\"At Least Bachelors's Degree\",\"Volume Sold (Gallons) Per Capita\"]]\n",
    "df_test = standardize(df_test)\n",
    "response = \"Volume Sold (Gallons) Per Capita\"\n",
    "folds = k_fold(5,df_test)\n",
    "out = cv(folds, response)\n",
    "print(\"rmse:\", out[0])\n",
    "print(\"     \")\n",
    "print(\"BIC:\", out[1])\n",
    "BD = out[1]"
   ]
  },
  {
   "cell_type": "code",
   "execution_count": 54,
   "metadata": {},
   "outputs": [
    {
     "name": "stdout",
     "output_type": "stream",
     "text": [
      "rmse: 1.0088735821379569\n",
      "     \n",
      "BIC: -627.7869859947737\n"
     ]
    }
   ],
   "source": [
    "# 1 predictor: School Enrollment\n",
    "df_test = df[[\"School Enrollment\",\"Volume Sold (Gallons) Per Capita\"]]\n",
    "df_test = standardize(df_test)\n",
    "response = \"Volume Sold (Gallons) Per Capita\"\n",
    "folds = k_fold(5,df_test)\n",
    "out = cv(folds, response)\n",
    "print(\"rmse:\", out[0])\n",
    "print(\"     \")\n",
    "print(\"BIC:\", out[1])\n",
    "SE = out[1]"
   ]
  },
  {
   "cell_type": "code",
   "execution_count": 55,
   "metadata": {},
   "outputs": [
    {
     "name": "stdout",
     "output_type": "stream",
     "text": [
      "rmse: 1.003198925749258\n",
      "     \n",
      "BIC: -683.8031488398211\n"
     ]
    }
   ],
   "source": [
    "# 1 predictor: Median Earnings 2010\n",
    "df_test = df[[\"Median Earnings 2010\",\"Volume Sold (Gallons) Per Capita\"]]\n",
    "df_test = standardize(df_test)\n",
    "response = \"Volume Sold (Gallons) Per Capita\"\n",
    "folds = k_fold(5,df_test)\n",
    "out = cv(folds, response)\n",
    "print(\"rmse:\", out[0])\n",
    "print(\"     \")\n",
    "print(\"BIC:\", out[1])\n",
    "ME = out[1]"
   ]
  },
  {
   "cell_type": "code",
   "execution_count": 56,
   "metadata": {},
   "outputs": [
    {
     "name": "stdout",
     "output_type": "stream",
     "text": [
      "rmse: 1.0044321172083146\n",
      "     \n",
      "BIC: -700.024319293957\n"
     ]
    }
   ],
   "source": [
    "# 1 predictor: Poverty.Rate.below.federal.poverty.threshold\n",
    "df_test = df[[\"Poverty.Rate.below.federal.poverty.threshold\",\"Volume Sold (Gallons) Per Capita\"]]\n",
    "df_test = standardize(df_test)\n",
    "response = \"Volume Sold (Gallons) Per Capita\"\n",
    "folds = k_fold(5,df_test)\n",
    "out = cv(folds, response)\n",
    "print(\"rmse:\", out[0])\n",
    "print(\"     \")\n",
    "print(\"BIC:\", out[1])\n",
    "PR = out[1]"
   ]
  },
  {
   "cell_type": "code",
   "execution_count": 57,
   "metadata": {},
   "outputs": [
    {
     "name": "stdout",
     "output_type": "stream",
     "text": [
      "rmse: 0.9884284113760441\n",
      "     \n",
      "BIC: -824.7969153654225\n"
     ]
    }
   ],
   "source": [
    "# 1 predictor: White\n",
    "df_test = df[[\"White\",\"Volume Sold (Gallons) Per Capita\"]]\n",
    "df_test = standardize(df_test)\n",
    "response = \"Volume Sold (Gallons) Per Capita\"\n",
    "folds = k_fold(5,df_test)\n",
    "out = cv(folds, response)\n",
    "print(\"rmse:\", out[0])\n",
    "print(\"     \")\n",
    "print(\"BIC:\", out[1])\n",
    "WHT = out[1]"
   ]
  },
  {
   "cell_type": "code",
   "execution_count": 58,
   "metadata": {},
   "outputs": [
    {
     "name": "stdout",
     "output_type": "stream",
     "text": [
      "rmse: 0.9527654108797137\n",
      "     \n",
      "BIC: -1117.3197110580072\n"
     ]
    }
   ],
   "source": [
    "# 1 predictor: Black\n",
    "df_test = df[[\"Black\",\"Volume Sold (Gallons) Per Capita\"]]\n",
    "df_test = standardize(df_test)\n",
    "response = \"Volume Sold (Gallons) Per Capita\"\n",
    "folds = k_fold(5,df_test)\n",
    "out = cv(folds, response)\n",
    "print(\"rmse:\", out[0])\n",
    "print(\"     \")\n",
    "print(\"BIC:\", out[1])\n",
    "BLCK = out[1]"
   ]
  },
  {
   "cell_type": "code",
   "execution_count": 60,
   "metadata": {},
   "outputs": [
    {
     "name": "stdout",
     "output_type": "stream",
     "text": [
      "rmse: 1.0039054783656416\n",
      "     \n",
      "BIC: -702.0821818600314\n"
     ]
    }
   ],
   "source": [
    "# 1 predictor: Hispanic\n",
    "df_test = df[[\"Hispanic\",\"Volume Sold (Gallons) Per Capita\"]]\n",
    "df_test = standardize(df_test)\n",
    "response = \"Volume Sold (Gallons) Per Capita\"\n",
    "folds = k_fold(5,df_test)\n",
    "out = cv(folds, response)\n",
    "print(\"rmse:\", out[0])\n",
    "print(\"     \")\n",
    "print(\"BIC:\", out[1])\n",
    "HSP = out[1]"
   ]
  },
  {
   "cell_type": "code",
   "execution_count": 61,
   "metadata": {},
   "outputs": [
    {
     "name": "stdout",
     "output_type": "stream",
     "text": [
      "rmse: 1.0000476606297906\n",
      "     \n",
      "BIC: -818.2722493807632\n"
     ]
    }
   ],
   "source": [
    "# 1 predictor: Median age\n",
    "df_test = df[[\"Median Age\",\"Volume Sold (Gallons) Per Capita\"]]\n",
    "df_test = standardize(df_test)\n",
    "response = \"Volume Sold (Gallons) Per Capita\"\n",
    "folds = k_fold(5,df_test)\n",
    "out = cv(folds, response)\n",
    "print(\"rmse:\", out[0])\n",
    "print(\"     \")\n",
    "print(\"BIC:\", out[1])\n",
    "MA = out[1]"
   ]
  },
  {
   "cell_type": "code",
   "execution_count": 62,
   "metadata": {},
   "outputs": [
    {
     "name": "stdout",
     "output_type": "stream",
     "text": [
      "rmse: 1.0039551852338024\n",
      "     \n",
      "BIC: -670.6502939527218\n"
     ]
    }
   ],
   "source": [
    "# 1 predictor: Unemployment\n",
    "df_test = df[[\"Unemployment\",\"Volume Sold (Gallons) Per Capita\"]]\n",
    "df_test = standardize(df_test)\n",
    "response = \"Volume Sold (Gallons) Per Capita\"\n",
    "folds = k_fold(5,df_test)\n",
    "out = cv(folds, response)\n",
    "print(\"rmse:\", out[0])\n",
    "print(\"     \")\n",
    "print(\"BIC:\", out[1])\n",
    "UE = out[1]"
   ]
  },
  {
   "cell_type": "code",
   "execution_count": 65,
   "metadata": {},
   "outputs": [
    {
     "data": {
      "text/html": [
       "<div>\n",
       "<style scoped>\n",
       "    .dataframe tbody tr th:only-of-type {\n",
       "        vertical-align: middle;\n",
       "    }\n",
       "\n",
       "    .dataframe tbody tr th {\n",
       "        vertical-align: top;\n",
       "    }\n",
       "\n",
       "    .dataframe thead th {\n",
       "        text-align: right;\n",
       "    }\n",
       "</style>\n",
       "<table border=\"1\" class=\"dataframe\">\n",
       "  <thead>\n",
       "    <tr style=\"text-align: right;\">\n",
       "      <th></th>\n",
       "      <th>Predictors</th>\n",
       "      <th>BIC</th>\n",
       "    </tr>\n",
       "  </thead>\n",
       "  <tbody>\n",
       "    <tr>\n",
       "      <th>0</th>\n",
       "      <td>Pack</td>\n",
       "      <td>-1089.379654</td>\n",
       "    </tr>\n",
       "    <tr>\n",
       "      <th>1</th>\n",
       "      <td>State Bottle Retail</td>\n",
       "      <td>-1100.550282</td>\n",
       "    </tr>\n",
       "    <tr>\n",
       "      <th>2</th>\n",
       "      <td>Population</td>\n",
       "      <td>-997.802528</td>\n",
       "    </tr>\n",
       "    <tr>\n",
       "      <th>3</th>\n",
       "      <td>Income Per Capita</td>\n",
       "      <td>-747.322570</td>\n",
       "    </tr>\n",
       "    <tr>\n",
       "      <th>4</th>\n",
       "      <td>Precincts</td>\n",
       "      <td>-1007.579456</td>\n",
       "    </tr>\n",
       "    <tr>\n",
       "      <th>5</th>\n",
       "      <td>Votes</td>\n",
       "      <td>-990.087093</td>\n",
       "    </tr>\n",
       "    <tr>\n",
       "      <th>6</th>\n",
       "      <td>Republicans 2016</td>\n",
       "      <td>-1010.832862</td>\n",
       "    </tr>\n",
       "    <tr>\n",
       "      <th>7</th>\n",
       "      <td>Democrats 2016</td>\n",
       "      <td>-1024.951935</td>\n",
       "    </tr>\n",
       "    <tr>\n",
       "      <th>8</th>\n",
       "      <td>Green 2016</td>\n",
       "      <td>-677.093324</td>\n",
       "    </tr>\n",
       "    <tr>\n",
       "      <th>9</th>\n",
       "      <td>Libertarian 2016</td>\n",
       "      <td>-633.754072</td>\n",
       "    </tr>\n",
       "    <tr>\n",
       "      <th>10</th>\n",
       "      <td>At least high school diploma</td>\n",
       "      <td>-773.867456</td>\n",
       "    </tr>\n",
       "    <tr>\n",
       "      <th>11</th>\n",
       "      <td>At least bachelors degree</td>\n",
       "      <td>-870.187364</td>\n",
       "    </tr>\n",
       "    <tr>\n",
       "      <th>12</th>\n",
       "      <td>school enrollment</td>\n",
       "      <td>-627.786986</td>\n",
       "    </tr>\n",
       "    <tr>\n",
       "      <th>13</th>\n",
       "      <td>median earnings</td>\n",
       "      <td>-683.803149</td>\n",
       "    </tr>\n",
       "    <tr>\n",
       "      <th>14</th>\n",
       "      <td>poverty rate</td>\n",
       "      <td>-700.024319</td>\n",
       "    </tr>\n",
       "    <tr>\n",
       "      <th>15</th>\n",
       "      <td>white</td>\n",
       "      <td>-824.796915</td>\n",
       "    </tr>\n",
       "    <tr>\n",
       "      <th>16</th>\n",
       "      <td>black</td>\n",
       "      <td>-1117.319711</td>\n",
       "    </tr>\n",
       "    <tr>\n",
       "      <th>17</th>\n",
       "      <td>hispanic</td>\n",
       "      <td>-702.082182</td>\n",
       "    </tr>\n",
       "    <tr>\n",
       "      <th>18</th>\n",
       "      <td>median earnings</td>\n",
       "      <td>-818.272249</td>\n",
       "    </tr>\n",
       "    <tr>\n",
       "      <th>19</th>\n",
       "      <td>unemployment</td>\n",
       "      <td>-670.650294</td>\n",
       "    </tr>\n",
       "  </tbody>\n",
       "</table>\n",
       "</div>"
      ],
      "text/plain": [
       "                      Predictors          BIC\n",
       "0                           Pack -1089.379654\n",
       "1            State Bottle Retail -1100.550282\n",
       "2                     Population  -997.802528\n",
       "3              Income Per Capita  -747.322570\n",
       "4                      Precincts -1007.579456\n",
       "5                          Votes  -990.087093\n",
       "6               Republicans 2016 -1010.832862\n",
       "7                 Democrats 2016 -1024.951935\n",
       "8                     Green 2016  -677.093324\n",
       "9               Libertarian 2016  -633.754072\n",
       "10  At least high school diploma  -773.867456\n",
       "11     At least bachelors degree  -870.187364\n",
       "12             school enrollment  -627.786986\n",
       "13               median earnings  -683.803149\n",
       "14                  poverty rate  -700.024319\n",
       "15                         white  -824.796915\n",
       "16                         black -1117.319711\n",
       "17                      hispanic  -702.082182\n",
       "18               median earnings  -818.272249\n",
       "19                  unemployment  -670.650294"
      ]
     },
     "execution_count": 65,
     "metadata": {},
     "output_type": "execute_result"
    }
   ],
   "source": [
    "data = {\"Predictors\": [\"Pack\",\"State Bottle Retail\",\"Population\",\"Income Per Capita\",\"Precincts\", \"Votes\",\n",
    "                      \"Republicans 2016\", \"Democrats 2016\", \"Green 2016\", \"Libertarian 2016\",\n",
    "                       \"At least high school diploma\", \"At least bachelors degree\",\"school enrollment\",\n",
    "                      \"median earnings\", \"poverty rate\",\"white\", \"black\",\"hispanic\", \"median earnings\",\"unemployment\"],\n",
    "       \"BIC\": [PCK,SBR,PPLN,IPC, PRCT, VOTE, RPB,DMC, GRN, LBR,HSD, BD, SE,ME,PR, WHT,BLCK,HSP,MA, UE],}\n",
    "one_predictor = pd.DataFrame(data, columns = [\"Predictors\", \"BIC\"])\n",
    "one_predictor"
   ]
  },
  {
   "cell_type": "code",
   "execution_count": 66,
   "metadata": {},
   "outputs": [
    {
     "name": "stdout",
     "output_type": "stream",
     "text": [
      "rmse: 1.01082297886988\n",
      "     \n",
      "BIC: -600.9435936438922\n"
     ]
    }
   ],
   "source": [
    "# 2 predictors: Unemployment, School Enrollment\n",
    "df_test = df[[\"Unemployment\",\"School Enrollment\",\"Volume Sold (Gallons) Per Capita\"]]\n",
    "df_test = standardize(df_test)\n",
    "response = \"Volume Sold (Gallons) Per Capita\"\n",
    "folds = k_fold(5,df_test)\n",
    "out = cv(folds, response)\n",
    "print(\"rmse:\", out[0])\n",
    "print(\"     \")\n",
    "print(\"BIC:\", out[1])"
   ]
  },
  {
   "cell_type": "code",
   "execution_count": 69,
   "metadata": {},
   "outputs": [
    {
     "name": "stdout",
     "output_type": "stream",
     "text": [
      "rmse: 1.0298012943431492\n",
      "     \n",
      "BIC: -663.7212789387083\n"
     ]
    }
   ],
   "source": [
    "# 2 predictors: Unemployment, Green\n",
    "df_test = df[[\"Unemployment\",\"Green 2016\",\"Volume Sold (Gallons) Per Capita\"]]\n",
    "df_test = standardize(df_test)\n",
    "response = \"Volume Sold (Gallons) Per Capita\"\n",
    "folds = k_fold(5,df_test)\n",
    "out = cv(folds, response)\n",
    "print(\"rmse:\", out[0])\n",
    "print(\"     \")\n",
    "print(\"BIC:\", out[1])"
   ]
  },
  {
   "cell_type": "code",
   "execution_count": 70,
   "metadata": {},
   "outputs": [
    {
     "name": "stdout",
     "output_type": "stream",
     "text": [
      "rmse: 1.0150510399398829\n",
      "     \n",
      "BIC: -619.119876679664\n"
     ]
    }
   ],
   "source": [
    "# 2 predictor: Unemployment, Libertarians\n",
    "df_test = df[[\"Unemployment\",\"Libertarians 2016\",\"Volume Sold (Gallons) Per Capita\"]]\n",
    "df_test = standardize(df_test)\n",
    "response = \"Volume Sold (Gallons) Per Capita\"\n",
    "folds = k_fold(5,df_test)\n",
    "out = cv(folds, response)\n",
    "print(\"rmse:\", out[0])\n",
    "print(\"     \")\n",
    "print(\"BIC:\", out[1])"
   ]
  },
  {
   "cell_type": "code",
   "execution_count": 71,
   "metadata": {},
   "outputs": [
    {
     "name": "stdout",
     "output_type": "stream",
     "text": [
      "rmse: 1.0033596325643706\n",
      "     \n",
      "BIC: -788.101477812162\n"
     ]
    }
   ],
   "source": [
    "# 2 predictors: Unemployment, Income Per CApita\n",
    "df_test = df[[\"Unemployment\",\"Income Per Capita\",\"Volume Sold (Gallons) Per Capita\"]]\n",
    "df_test = standardize(df_test)\n",
    "response = \"Volume Sold (Gallons) Per Capita\"\n",
    "folds = k_fold(5,df_test)\n",
    "out = cv(folds, response)\n",
    "print(\"rmse:\", out[0])\n",
    "print(\"     \")\n",
    "print(\"BIC:\", out[1])"
   ]
  },
  {
   "cell_type": "code",
   "execution_count": 74,
   "metadata": {},
   "outputs": [
    {
     "name": "stdout",
     "output_type": "stream",
     "text": [
      "rmse: 1.0070637622640102\n",
      "     \n",
      "BIC: -674.7842028741434\n"
     ]
    }
   ],
   "source": [
    "# 2 predictor: Unemployment, Poverty rate\n",
    "df_test = df[[\"Unemployment\",\"Poverty.Rate.below.federal.poverty.threshold\",\"Volume Sold (Gallons) Per Capita\"]]\n",
    "df_test = standardize(df_test)\n",
    "response = \"Volume Sold (Gallons) Per Capita\"\n",
    "folds = k_fold(5,df_test)\n",
    "out = cv(folds, response)\n",
    "print(\"rmse:\", out[0])\n",
    "print(\"     \")\n",
    "print(\"BIC:\", out[1])"
   ]
  },
  {
   "cell_type": "code",
   "execution_count": 81,
   "metadata": {},
   "outputs": [
    {
     "name": "stdout",
     "output_type": "stream",
     "text": [
      "rmse: 0.9798149325549946\n",
      "     \n",
      "BIC: -973.4770752311853\n"
     ]
    }
   ],
   "source": [
    "# 2 predictor: Unemployment, Votes\n",
    "df_test = df[[\"Unemployment\",\"Votes\",\"Volume Sold (Gallons) Per Capita\"]]\n",
    "df_test = standardize(df_test)\n",
    "response = \"Volume Sold (Gallons) Per Capita\"\n",
    "folds = k_fold(5,df_test)\n",
    "out = cv(folds, response)\n",
    "print(\"rmse:\", out[0])\n",
    "print(\"     \")\n",
    "print(\"BIC:\", out[1])"
   ]
  },
  {
   "cell_type": "markdown",
   "metadata": {},
   "source": [
    "# Best 2 predictor model: Unemployment, School Enrollment"
   ]
  },
  {
   "cell_type": "code",
   "execution_count": 77,
   "metadata": {},
   "outputs": [
    {
     "name": "stdout",
     "output_type": "stream",
     "text": [
      "rmse: 1.0187539627257054\n",
      "     \n",
      "BIC: -567.0184725472167\n"
     ]
    }
   ],
   "source": [
    "# 3 predictors: Unemployment, School Enrollment, Libertarian\n",
    "df_test = df[[\"Unemployment\",\"School Enrollment\",\"Libertarians 2016\",\"Volume Sold (Gallons) Per Capita\"]]\n",
    "df_test = standardize(df_test)\n",
    "response = \"Volume Sold (Gallons) Per Capita\"\n",
    "folds = k_fold(5,df_test)\n",
    "out = cv(folds, response)\n",
    "print(\"rmse:\", out[0])\n",
    "print(\"     \")\n",
    "print(\"BIC:\", out[1])"
   ]
  },
  {
   "cell_type": "code",
   "execution_count": 78,
   "metadata": {},
   "outputs": [
    {
     "name": "stdout",
     "output_type": "stream",
     "text": [
      "rmse: 1.035331992296831\n",
      "     \n",
      "BIC: -597.2161312407978\n"
     ]
    }
   ],
   "source": [
    "# 3 predictors: Unemployment, School Enrollment, Green\n",
    "df_test = df[[\"Unemployment\",\"School Enrollment\",\"Green 2016\",\"Volume Sold (Gallons) Per Capita\"]]\n",
    "df_test = standardize(df_test)\n",
    "response = \"Volume Sold (Gallons) Per Capita\"\n",
    "folds = k_fold(5,df_test)\n",
    "out = cv(folds, response)\n",
    "print(\"rmse:\", out[0])\n",
    "print(\"     \")\n",
    "print(\"BIC:\", out[1])"
   ]
  },
  {
   "cell_type": "code",
   "execution_count": 79,
   "metadata": {},
   "outputs": [
    {
     "name": "stdout",
     "output_type": "stream",
     "text": [
      "rmse: 1.0097936949532549\n",
      "     \n",
      "BIC: -714.7827962979886\n"
     ]
    }
   ],
   "source": [
    "# 3 predictors: Unemployment, School Enrollment, Income Per Capita\n",
    "df_test = df[[\"Unemployment\",\"School Enrollment\",\"Income Per Capita\",\"Volume Sold (Gallons) Per Capita\"]]\n",
    "df_test = standardize(df_test)\n",
    "response = \"Volume Sold (Gallons) Per Capita\"\n",
    "folds = k_fold(5,df_test)\n",
    "out = cv(folds, response)\n",
    "print(\"rmse:\", out[0])\n",
    "print(\"     \")\n",
    "print(\"BIC:\", out[1])"
   ]
  },
  {
   "cell_type": "code",
   "execution_count": 80,
   "metadata": {},
   "outputs": [
    {
     "name": "stdout",
     "output_type": "stream",
     "text": [
      "rmse: 1.0153374849781034\n",
      "     \n",
      "BIC: -599.3055155552553\n"
     ]
    }
   ],
   "source": [
    "# 3 predictors: Unemployment, School Enrollment, Poverty Rate\n",
    "df_test = df[[\"Unemployment\",\"School Enrollment\",\"Poverty.Rate.below.federal.poverty.threshold\",\"Volume Sold (Gallons) Per Capita\"]]\n",
    "df_test = standardize(df_test)\n",
    "response = \"Volume Sold (Gallons) Per Capita\"\n",
    "folds = k_fold(5,df_test)\n",
    "out = cv(folds, response)\n",
    "print(\"rmse:\", out[0])\n",
    "print(\"     \")\n",
    "print(\"BIC:\", out[1])"
   ]
  },
  {
   "cell_type": "markdown",
   "metadata": {},
   "source": [
    "# Best 3 Predictor Model: Unemployment, School Enrollment, Libertarian"
   ]
  },
  {
   "cell_type": "code",
   "execution_count": 82,
   "metadata": {},
   "outputs": [
    {
     "name": "stdout",
     "output_type": "stream",
     "text": [
      "rmse: 1.0474813154414342\n",
      "     \n",
      "BIC: -563.9813885006845\n"
     ]
    }
   ],
   "source": [
    "# 4 predictors: Unemployment, School Enrollment, Libertarian, Green\n",
    "df_test = df[[\"Unemployment\",\"School Enrollment\",\"Libertarians 2016\",\"Green 2016\",\"Volume Sold (Gallons) Per Capita\"]]\n",
    "df_test = standardize(df_test)\n",
    "response = \"Volume Sold (Gallons) Per Capita\"\n",
    "folds = k_fold(5,df_test)\n",
    "out = cv(folds, response)\n",
    "print(\"rmse:\", out[0])\n",
    "print(\"     \")\n",
    "print(\"BIC:\", out[1])"
   ]
  },
  {
   "cell_type": "code",
   "execution_count": 83,
   "metadata": {},
   "outputs": [
    {
     "name": "stdout",
     "output_type": "stream",
     "text": [
      "rmse: 1.0231361457927983\n",
      "     \n",
      "BIC: -600.7886867209256\n"
     ]
    }
   ],
   "source": [
    "# 4 predictors: Unemployment, School Enrollment, Libertarian, Income Per capita\n",
    "df_test = df[[\"Unemployment\",\"School Enrollment\",\"Libertarians 2016\",\"Income Per Capita\",\n",
    "              \"Volume Sold (Gallons) Per Capita\"]]\n",
    "df_test = standardize(df_test)\n",
    "response = \"Volume Sold (Gallons) Per Capita\"\n",
    "folds = k_fold(5,df_test)\n",
    "out = cv(folds, response)\n",
    "print(\"rmse:\", out[0])\n",
    "print(\"     \")\n",
    "print(\"BIC:\", out[1])"
   ]
  },
  {
   "cell_type": "code",
   "execution_count": 84,
   "metadata": {},
   "outputs": [
    {
     "name": "stdout",
     "output_type": "stream",
     "text": [
      "rmse: 1.021836768434966\n",
      "     \n",
      "BIC: -575.9351005115527\n"
     ]
    }
   ],
   "source": [
    "# 4 predictors: Unemployment, School Enrollment, Libertarian, Poverty Rate\n",
    "df_test = df[[\"Unemployment\",\"School Enrollment\",\"Libertarians 2016\",\"Poverty.Rate.below.federal.poverty.threshold\",\n",
    "              \"Volume Sold (Gallons) Per Capita\"]]\n",
    "df_test = standardize(df_test)\n",
    "response = \"Volume Sold (Gallons) Per Capita\"\n",
    "folds = k_fold(5,df_test)\n",
    "out = cv(folds, response)\n",
    "print(\"rmse:\", out[0])\n",
    "print(\"     \")\n",
    "print(\"BIC:\", out[1])"
   ]
  },
  {
   "cell_type": "markdown",
   "metadata": {},
   "source": [
    "# Best 4 predictor model: Unemployment, School Enrollment, Libertarian, Green"
   ]
  },
  {
   "cell_type": "code",
   "execution_count": 86,
   "metadata": {},
   "outputs": [
    {
     "name": "stdout",
     "output_type": "stream",
     "text": [
      "rmse: 1.0683791022542632\n",
      "     \n",
      "BIC: -625.6250962756321\n"
     ]
    }
   ],
   "source": [
    "# 5 predictors: Unemployment, School Enrollment, Libertarian, Green, Income Per capita\n",
    "df_test = df[[\"Unemployment\",\"School Enrollment\",\"Libertarians 2016\",\"Green 2016\",\"Income Per Capita\",\n",
    "              \"Volume Sold (Gallons) Per Capita\"]]\n",
    "df_test = standardize(df_test)\n",
    "response = \"Volume Sold (Gallons) Per Capita\"\n",
    "folds = k_fold(5,df_test)\n",
    "out = cv(folds, response)\n",
    "print(\"rmse:\", out[0])\n",
    "print(\"     \")\n",
    "print(\"BIC:\", out[1])"
   ]
  },
  {
   "cell_type": "code",
   "execution_count": 87,
   "metadata": {},
   "outputs": [
    {
     "name": "stdout",
     "output_type": "stream",
     "text": [
      "rmse: 1.053142027711145\n",
      "     \n",
      "BIC: -557.2540862527572\n"
     ]
    }
   ],
   "source": [
    "# 5 predictors: Unemployment, School Enrollment, Libertarian, Green, Poverty rate\n",
    "df_test = df[[\"Unemployment\",\"School Enrollment\",\"Libertarians 2016\",\"Green 2016\",\"Poverty.Rate.below.federal.poverty.threshold\",\n",
    "              \"Volume Sold (Gallons) Per Capita\"]]\n",
    "df_test = standardize(df_test)\n",
    "response = \"Volume Sold (Gallons) Per Capita\"\n",
    "folds = k_fold(5,df_test)\n",
    "out = cv(folds, response)\n",
    "print(\"rmse:\", out[0])\n",
    "print(\"     \")\n",
    "print(\"BIC:\", out[1])"
   ]
  },
  {
   "cell_type": "code",
   "execution_count": 88,
   "metadata": {},
   "outputs": [
    {
     "name": "stdout",
     "output_type": "stream",
     "text": [
      "rmse: 1.0490313120698354\n",
      "     \n",
      "BIC: -702.6874145850519\n"
     ]
    }
   ],
   "source": [
    "# 6 predictors: Unemployment, School Enrollment, Libertarian, Green, Poverty rate\n",
    "df_test = df[[\"Unemployment\",\"School Enrollment\",\"Libertarians 2016\",\"Green 2016\",\"Poverty.Rate.below.federal.poverty.threshold\",\n",
    "              \"Income Per Capita\",\"Volume Sold (Gallons) Per Capita\"]]\n",
    "df_test = standardize(df_test)\n",
    "response = \"Volume Sold (Gallons) Per Capita\"\n",
    "folds = k_fold(5,df_test)\n",
    "out = cv(folds, response)\n",
    "print(\"rmse:\", out[0])\n",
    "print(\"     \")\n",
    "print(\"BIC:\", out[1])"
   ]
  },
  {
   "cell_type": "markdown",
   "metadata": {},
   "source": [
    "# Most Interpretable model:  Unemployment, School Enrollment, Libertarian, Green, Poverty rate"
   ]
  },
  {
   "cell_type": "code",
   "execution_count": null,
   "metadata": {},
   "outputs": [],
   "source": []
  }
 ],
 "metadata": {
  "kernelspec": {
   "display_name": "Python 3",
   "language": "python",
   "name": "python3"
  },
  "language_info": {
   "codemirror_mode": {
    "name": "ipython",
    "version": 3
   },
   "file_extension": ".py",
   "mimetype": "text/x-python",
   "name": "python",
   "nbconvert_exporter": "python",
   "pygments_lexer": "ipython3",
   "version": "3.7.3"
  }
 },
 "nbformat": 4,
 "nbformat_minor": 4
}

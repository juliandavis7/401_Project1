{
 "cells": [
  {
   "cell_type": "code",
   "execution_count": 37,
   "metadata": {},
   "outputs": [],
   "source": [
    "import pandas as pd\n",
    "import numpy as np\n",
    "\n",
    "# import matplotlib\n",
    "import matplotlib.pyplot as plt\n",
    "# import seaborn\n",
    "import seaborn as sns\n",
    "%matplotlib inline"
   ]
  },
  {
   "cell_type": "code",
   "execution_count": 42,
   "metadata": {},
   "outputs": [
    {
     "name": "stdout",
     "output_type": "stream",
     "text": [
      "Invoice/Item Number                          S23102300041\n",
      "Date                                           12/20/2014\n",
      "Store Number                                         4346\n",
      "Store Name                                 Roy's Foodland\n",
      "Address                                      105 PEARL ST\n",
      "City                                           SHELLSBURG\n",
      "Zip Code                                            52332\n",
      "Store Location               POINT (-91.869285 42.094155)\n",
      "County Number                                           6\n",
      "County                                             Benton\n",
      "Category                                          1012100\n",
      "Category Name                           CANADIAN WHISKIES\n",
      "Vendor Number                                         115\n",
      "Vendor Name              Constellation Wine Company, Inc.\n",
      "Item Number                                         11774\n",
      "Item Description                             Black Velvet\n",
      "Pack                                                   24\n",
      "Bottle Volume (ml)                                    375\n",
      "State Bottle Cost                                    3.07\n",
      "State Bottle Retail                                  4.61\n",
      "Bottles Sold                                            6\n",
      "Sale (Dollars)                                      27.66\n",
      "Volume Sold (Liters)                                 2.25\n",
      "Volume Sold (Gallons)                                0.59\n",
      "Name: 1, dtype: object\n"
     ]
    }
   ],
   "source": [
    "df = pd.read_csv(\"iowa-sample.csv\")\n",
    "print(df.loc[1])"
   ]
  },
  {
   "cell_type": "code",
   "execution_count": 45,
   "metadata": {},
   "outputs": [
    {
     "name": "stdout",
     "output_type": "stream",
     "text": [
      "531\n",
      "528\n",
      "530\n",
      "198\n",
      "229\n",
      "92\n",
      "92\n",
      "57\n",
      "57\n",
      "39\n",
      "39\n",
      "587\n",
      "430\n"
     ]
    }
   ],
   "source": [
    "print(len(df[\"Store Number\"].unique()))\n",
    "print(len(df[\"Store Name\"].unique()))\n",
    "print(len(df[\"Address\"].unique()))\n",
    "print(len(df[\"City\"].unique()))\n",
    "print(len(df[\"Zip Code\"].unique()))\n",
    "print(len(df[\"County Number\"].unique()))\n",
    "print(len(df[\"County\"].unique()))\n",
    "print(len(df[\"Category\"].unique()))\n",
    "print(len(df[\"Category Name\"].unique()))\n",
    "print(len(df[\"Vendor Number\"].unique()))\n",
    "print(len(df[\"Vendor Name\"].unique()))\n",
    "print(len(df[\"Item Number\"].unique()))\n",
    "print(len(df[\"Item Description\"].unique()))\n",
    "\n",
    "# df.drop([\"Store Nunber\", \"Address\", \"County Number\", \n",
    "#             \"Category\", \"Vendor Number\"], axis=1, inplace=True)\n"
   ]
  },
  {
   "cell_type": "code",
   "execution_count": 25,
   "metadata": {},
   "outputs": [
    {
     "data": {
      "text/plain": [
       "Invoice/Item Number              string\n",
       "Date                     datetime64[ns]\n",
       "Store Number                      Int64\n",
       "Store Name                     category\n",
       "City                           category\n",
       "Zip Code                       category\n",
       "Store Location                   string\n",
       "County Number                     Int64\n",
       "County                           string\n",
       "Category                          Int64\n",
       "Category Name                    string\n",
       "Vendor Number                     Int64\n",
       "Vendor Name                      string\n",
       "Item Number                       Int64\n",
       "Item Description                 string\n",
       "Pack                              Int64\n",
       "Bottle Volume (ml)                Int64\n",
       "State Bottle Cost               float64\n",
       "State Bottle Retail             float64\n",
       "Bottles Sold                      Int64\n",
       "Sale (Dollars)                  float64\n",
       "Volume Sold (Liters)            float64\n",
       "Volume Sold (Gallons)           float64\n",
       "dtype: object"
      ]
     },
     "execution_count": 25,
     "metadata": {},
     "output_type": "execute_result"
    }
   ],
   "source": [
    "df_small = df.head()\n",
    "df_small = df_small.convert_dtypes()\n",
    "\n",
    "df_small[\"Date\"] = pd.to_datetime(df_small[\"Date\"], format=\"%m/%d/%Y\")\n",
    "\n",
    "df_small[\"Store Name\"] = df_small[\"Store Name\"].astype('category')\n",
    "df_small[\"City\"] = df_small[\"City\"].astype('category')\n",
    "df_small[\"Zip Code\"] = df_small[\"Zip Code\"].astype('category')\n",
    "\n",
    "df_small.dtypes"
   ]
  },
  {
   "cell_type": "code",
   "execution_count": 7,
   "metadata": {},
   "outputs": [
    {
     "data": {
      "text/html": [
       "<div>\n",
       "<style scoped>\n",
       "    .dataframe tbody tr th:only-of-type {\n",
       "        vertical-align: middle;\n",
       "    }\n",
       "\n",
       "    .dataframe tbody tr th {\n",
       "        vertical-align: top;\n",
       "    }\n",
       "\n",
       "    .dataframe thead th {\n",
       "        text-align: right;\n",
       "    }\n",
       "</style>\n",
       "<table border=\"1\" class=\"dataframe\">\n",
       "  <thead>\n",
       "    <tr style=\"text-align: right;\">\n",
       "      <th></th>\n",
       "      <th>CEDAR RAPIDS</th>\n",
       "      <th>DES MOINES</th>\n",
       "      <th>GLENWOOD</th>\n",
       "      <th>SHELLSBURG</th>\n",
       "      <th>SIOUX CITY</th>\n",
       "    </tr>\n",
       "  </thead>\n",
       "  <tbody>\n",
       "    <tr>\n",
       "      <th>0</th>\n",
       "      <td>0</td>\n",
       "      <td>1</td>\n",
       "      <td>0</td>\n",
       "      <td>0</td>\n",
       "      <td>0</td>\n",
       "    </tr>\n",
       "    <tr>\n",
       "      <th>1</th>\n",
       "      <td>0</td>\n",
       "      <td>0</td>\n",
       "      <td>0</td>\n",
       "      <td>1</td>\n",
       "      <td>0</td>\n",
       "    </tr>\n",
       "    <tr>\n",
       "      <th>2</th>\n",
       "      <td>1</td>\n",
       "      <td>0</td>\n",
       "      <td>0</td>\n",
       "      <td>0</td>\n",
       "      <td>0</td>\n",
       "    </tr>\n",
       "    <tr>\n",
       "      <th>3</th>\n",
       "      <td>0</td>\n",
       "      <td>0</td>\n",
       "      <td>1</td>\n",
       "      <td>0</td>\n",
       "      <td>0</td>\n",
       "    </tr>\n",
       "    <tr>\n",
       "      <th>4</th>\n",
       "      <td>0</td>\n",
       "      <td>0</td>\n",
       "      <td>0</td>\n",
       "      <td>0</td>\n",
       "      <td>1</td>\n",
       "    </tr>\n",
       "  </tbody>\n",
       "</table>\n",
       "</div>"
      ],
      "text/plain": [
       "   CEDAR RAPIDS  DES MOINES  GLENWOOD  SHELLSBURG  SIOUX CITY\n",
       "0             0           1         0           0           0\n",
       "1             0           0         0           1           0\n",
       "2             1           0         0           0           0\n",
       "3             0           0         1           0           0\n",
       "4             0           0         0           0           1"
      ]
     },
     "execution_count": 7,
     "metadata": {},
     "output_type": "execute_result"
    }
   ],
   "source": [
    "pd.get_dummies(df_small[\"City\"])"
   ]
  },
  {
   "cell_type": "code",
   "execution_count": 183,
   "metadata": {},
   "outputs": [
    {
     "data": {
      "text/plain": [
       "array([13.5724999 , 12.41648163, 11.26046336, 10.1044451 ,  8.94842683,\n",
       "        7.79240856,  6.6363903 ,  5.48037203,  4.32435376,  3.1683355 ,\n",
       "        2.01231723,  0.85629897])"
      ]
     },
     "execution_count": 183,
     "metadata": {},
     "output_type": "execute_result"
    }
   ],
   "source": [
    "class LR:\n",
    "    \n",
    "    def fit(self, X_train, y_train):\n",
    "        # create vector of ones...\n",
    "        ones = np.ones(shape=len(X_train))[..., None]\n",
    "        #...and add to feature matrix\n",
    "        X = np.concatenate((ones, X_train), 1)\n",
    "        #calculate coefficients using closed-form solution\n",
    "        self.coeffs = inv(X.transpose().dot(X)).dot(X.transpose()).dot(y_train)\n",
    "        \n",
    "    def predict(self, X_test):\n",
    "        ones = np.ones(shape=len(X_test))[..., None]\n",
    "        X_test = np.concatenate((ones, X_test), 1)\n",
    "        y_hat = X_test.dot(self.coeffs)\n",
    "        return y_hat\n",
    "\n",
    "# # extract the feature names of the boston data set and prepend the intercept\n",
    "# feature_names = np.insert(boston.feature_names, 0, 'INT')\n",
    "\n",
    "# # collect results into a DataFrame for pretty printing\n",
    "# results = pd.DataFrame({'coeffs':coeffs}, index=feature_names)\n"
   ]
  },
  {
   "cell_type": "code",
   "execution_count": 184,
   "metadata": {},
   "outputs": [],
   "source": [
    "from sklearn.linear_model import LinearRegression\n",
    "\n",
    "data_dir = \"https://dlsun.github.io/pods/data/\"\n",
    "bordeaux_df = pd.read_csv(data_dir + \"bordeaux.csv\",\n",
    "                          index_col=\"year\")\n",
    "bordeaux_train = bordeaux_df.loc[:1980].copy()\n",
    "bordeaux_test = bordeaux_df.loc[1980:].copy()\n",
    "\n",
    "X_train = bordeaux_train[[\"age\"]]\n",
    "X_test = bordeaux_test[[\"age\"]]\n",
    "y_train = bordeaux_train[\"price\"]\n"
   ]
  },
  {
   "cell_type": "code",
   "execution_count": 185,
   "metadata": {},
   "outputs": [
    {
     "data": {
      "text/plain": [
       "array([13.5724999 , 12.41648163, 11.26046336, 10.1044451 ,  8.94842683,\n",
       "        7.79240856,  6.6363903 ,  5.48037203,  4.32435376,  3.1683355 ,\n",
       "        2.01231723,  0.85629897])"
      ]
     },
     "execution_count": 185,
     "metadata": {},
     "output_type": "execute_result"
    }
   ],
   "source": [
    "model = LinearRegression()\n",
    "model.fit(X=X_train, y=y_train)\n",
    "model.predict(X=X_test)"
   ]
  },
  {
   "cell_type": "code",
   "execution_count": 186,
   "metadata": {},
   "outputs": [
    {
     "data": {
      "text/plain": [
       "array([13.5724999 , 12.41648163, 11.26046336, 10.1044451 ,  8.94842683,\n",
       "        7.79240856,  6.6363903 ,  5.48037203,  4.32435376,  3.1683355 ,\n",
       "        2.01231723,  0.85629897])"
      ]
     },
     "execution_count": 186,
     "metadata": {},
     "output_type": "execute_result"
    }
   ],
   "source": [
    "model = LR()\n",
    "model.fit(X_train, y_train)\n",
    "model.predict(X_test)"
   ]
  },
  {
   "cell_type": "code",
   "execution_count": 188,
   "metadata": {},
   "outputs": [
    {
     "data": {
      "text/plain": [
       "array([2.77507496, 3.17926885, 3.4231464 , 3.71919787, 2.83391541,\n",
       "       3.48195778, 2.4330387 , 2.91879638, 3.5924235 , 3.97294747,\n",
       "       4.04789338, 3.14087609])"
      ]
     },
     "execution_count": 188,
     "metadata": {},
     "output_type": "execute_result"
    }
   ],
   "source": [
    "bordeaux_train[\"log(price)\"] = np.log(bordeaux_train[\"price\"])\n",
    "X=bordeaux_train[[\"summer\", \"win\", \"har\", \"age\"]]\n",
    "y=bordeaux_train[\"log(price)\"]\n",
    "\n",
    "ashen_model = LinearRegression()\n",
    "ashen_model.fit(\n",
    "    X=bordeaux_train[[\"summer\", \"win\", \"har\", \"age\"]],\n",
    "    y=bordeaux_train[\"log(price)\"]\n",
    ")\n",
    "ashen_model.predict(\n",
    "    X=bordeaux_test[[\"summer\", \"win\", \"har\", \"age\"]]\n",
    ")"
   ]
  },
  {
   "cell_type": "code",
   "execution_count": 190,
   "metadata": {},
   "outputs": [
    {
     "data": {
      "text/plain": [
       "array([2.77507496, 3.17926885, 3.4231464 , 3.71919787, 2.83391541,\n",
       "       3.48195778, 2.4330387 , 2.91879638, 3.5924235 , 3.97294747,\n",
       "       4.04789338, 3.14087609])"
      ]
     },
     "execution_count": 190,
     "metadata": {},
     "output_type": "execute_result"
    }
   ],
   "source": [
    "model = LR()\n",
    "model.fit(X, y)\n",
    "X_test = bordeaux_test[[\"summer\", \"win\", \"har\", \"age\"]]\n",
    "model.predict(X_test)"
   ]
  },
  {
   "cell_type": "code",
   "execution_count": null,
   "metadata": {},
   "outputs": [],
   "source": []
  }
 ],
 "metadata": {
  "kernelspec": {
   "display_name": "Python 3",
   "language": "python",
   "name": "python3"
  },
  "language_info": {
   "codemirror_mode": {
    "name": "ipython",
    "version": 3
   },
   "file_extension": ".py",
   "mimetype": "text/x-python",
   "name": "python",
   "nbconvert_exporter": "python",
   "pygments_lexer": "ipython3",
   "version": "3.8.3"
  }
 },
 "nbformat": 4,
 "nbformat_minor": 4
}

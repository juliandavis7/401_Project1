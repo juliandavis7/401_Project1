{
 "cells": [
  {
   "cell_type": "code",
   "execution_count": 2,
   "metadata": {},
   "outputs": [],
   "source": [
    "import pandas as pd\n",
    "import numpy as np\n",
    "\n",
    "# import matplotlib\n",
    "import matplotlib.pyplot as plt\n",
    "# import seaborn\n",
    "import seaborn as sns\n",
    "%matplotlib inline"
   ]
  },
  {
   "cell_type": "code",
   "execution_count": 16,
   "metadata": {},
   "outputs": [
    {
     "data": {
      "text/html": [
       "<div>\n",
       "<style scoped>\n",
       "    .dataframe tbody tr th:only-of-type {\n",
       "        vertical-align: middle;\n",
       "    }\n",
       "\n",
       "    .dataframe tbody tr th {\n",
       "        vertical-align: top;\n",
       "    }\n",
       "\n",
       "    .dataframe thead th {\n",
       "        text-align: right;\n",
       "    }\n",
       "</style>\n",
       "<table border=\"1\" class=\"dataframe\">\n",
       "  <thead>\n",
       "    <tr style=\"text-align: right;\">\n",
       "      <th></th>\n",
       "      <th>Invoice/Item Number</th>\n",
       "      <th>Date</th>\n",
       "      <th>Store Number</th>\n",
       "      <th>Store Name</th>\n",
       "      <th>City</th>\n",
       "      <th>Zip Code</th>\n",
       "      <th>Store Location</th>\n",
       "      <th>County Number</th>\n",
       "      <th>County</th>\n",
       "      <th>Category</th>\n",
       "      <th>...</th>\n",
       "      <th>Item Number</th>\n",
       "      <th>Item Description</th>\n",
       "      <th>Pack</th>\n",
       "      <th>Bottle Volume (ml)</th>\n",
       "      <th>State Bottle Cost</th>\n",
       "      <th>State Bottle Retail</th>\n",
       "      <th>Bottles Sold</th>\n",
       "      <th>Sale (Dollars)</th>\n",
       "      <th>Volume Sold (Liters)</th>\n",
       "      <th>Volume Sold (Gallons)</th>\n",
       "    </tr>\n",
       "  </thead>\n",
       "  <tbody>\n",
       "    <tr>\n",
       "      <th>0</th>\n",
       "      <td>S08096000008</td>\n",
       "      <td>10/04/2012</td>\n",
       "      <td>4641</td>\n",
       "      <td>Kum &amp; Go #573 / SE 14th DM</td>\n",
       "      <td>DES MOINES</td>\n",
       "      <td>50315</td>\n",
       "      <td>NaN</td>\n",
       "      <td>77</td>\n",
       "      <td>Polk</td>\n",
       "      <td>1022100</td>\n",
       "      <td>...</td>\n",
       "      <td>89191</td>\n",
       "      <td>Jose Cuervo Especial Reposado Tequila Mini</td>\n",
       "      <td>12</td>\n",
       "      <td>500</td>\n",
       "      <td>11.50</td>\n",
       "      <td>17.25</td>\n",
       "      <td>1</td>\n",
       "      <td>17.25</td>\n",
       "      <td>0.50</td>\n",
       "      <td>0.13</td>\n",
       "    </tr>\n",
       "    <tr>\n",
       "      <th>1</th>\n",
       "      <td>S23102300041</td>\n",
       "      <td>12/20/2014</td>\n",
       "      <td>4346</td>\n",
       "      <td>Roy's Foodland</td>\n",
       "      <td>SHELLSBURG</td>\n",
       "      <td>52332</td>\n",
       "      <td>POINT (-91.869285 42.094155)</td>\n",
       "      <td>6</td>\n",
       "      <td>Benton</td>\n",
       "      <td>1012100</td>\n",
       "      <td>...</td>\n",
       "      <td>11774</td>\n",
       "      <td>Black Velvet</td>\n",
       "      <td>24</td>\n",
       "      <td>375</td>\n",
       "      <td>3.07</td>\n",
       "      <td>4.61</td>\n",
       "      <td>6</td>\n",
       "      <td>27.66</td>\n",
       "      <td>2.25</td>\n",
       "      <td>0.59</td>\n",
       "    </tr>\n",
       "    <tr>\n",
       "      <th>2</th>\n",
       "      <td>S14410500035</td>\n",
       "      <td>09/09/2013</td>\n",
       "      <td>3628</td>\n",
       "      <td>Wal-Mart 1528 / Cedar Rapids</td>\n",
       "      <td>CEDAR RAPIDS</td>\n",
       "      <td>52402</td>\n",
       "      <td>POINT (-91.680734 42.034748)</td>\n",
       "      <td>57</td>\n",
       "      <td>Linn</td>\n",
       "      <td>1062300</td>\n",
       "      <td>...</td>\n",
       "      <td>43410</td>\n",
       "      <td>Captain Morgan Parrot Bay Coconut</td>\n",
       "      <td>12</td>\n",
       "      <td>750</td>\n",
       "      <td>7.49</td>\n",
       "      <td>11.23</td>\n",
       "      <td>12</td>\n",
       "      <td>134.76</td>\n",
       "      <td>9.00</td>\n",
       "      <td>2.38</td>\n",
       "    </tr>\n",
       "    <tr>\n",
       "      <th>3</th>\n",
       "      <td>S09427600021</td>\n",
       "      <td>12/12/2012</td>\n",
       "      <td>4708</td>\n",
       "      <td>No Frills Supermarkets #803 / Glenwo</td>\n",
       "      <td>GLENWOOD</td>\n",
       "      <td>51534</td>\n",
       "      <td>POINT (-95.742987 41.04635)</td>\n",
       "      <td>65</td>\n",
       "      <td>Mills</td>\n",
       "      <td>1011100</td>\n",
       "      <td>...</td>\n",
       "      <td>24458</td>\n",
       "      <td>Kessler Blend Whiskey</td>\n",
       "      <td>6</td>\n",
       "      <td>1750</td>\n",
       "      <td>11.01</td>\n",
       "      <td>16.52</td>\n",
       "      <td>30</td>\n",
       "      <td>495.60</td>\n",
       "      <td>52.50</td>\n",
       "      <td>13.87</td>\n",
       "    </tr>\n",
       "    <tr>\n",
       "      <th>4</th>\n",
       "      <td>S28446900114</td>\n",
       "      <td>10/14/2015</td>\n",
       "      <td>2594</td>\n",
       "      <td>Hy-Vee Food Store / Sioux City</td>\n",
       "      <td>SIOUX CITY</td>\n",
       "      <td>51106</td>\n",
       "      <td>POINT (-96.346969 42.447396)</td>\n",
       "      <td>97</td>\n",
       "      <td>Woodbury</td>\n",
       "      <td>1012100</td>\n",
       "      <td>...</td>\n",
       "      <td>10550</td>\n",
       "      <td>Black Velvet Toasted Caramel</td>\n",
       "      <td>12</td>\n",
       "      <td>750</td>\n",
       "      <td>6.75</td>\n",
       "      <td>10.13</td>\n",
       "      <td>12</td>\n",
       "      <td>121.56</td>\n",
       "      <td>9.00</td>\n",
       "      <td>2.38</td>\n",
       "    </tr>\n",
       "  </tbody>\n",
       "</table>\n",
       "<p>5 rows × 23 columns</p>\n",
       "</div>"
      ],
      "text/plain": [
       "  Invoice/Item Number        Date  Store Number  \\\n",
       "0        S08096000008  10/04/2012          4641   \n",
       "1        S23102300041  12/20/2014          4346   \n",
       "2        S14410500035  09/09/2013          3628   \n",
       "3        S09427600021  12/12/2012          4708   \n",
       "4        S28446900114  10/14/2015          2594   \n",
       "\n",
       "                             Store Name          City  Zip Code  \\\n",
       "0            Kum & Go #573 / SE 14th DM    DES MOINES     50315   \n",
       "1                        Roy's Foodland    SHELLSBURG     52332   \n",
       "2          Wal-Mart 1528 / Cedar Rapids  CEDAR RAPIDS     52402   \n",
       "3  No Frills Supermarkets #803 / Glenwo      GLENWOOD     51534   \n",
       "4        Hy-Vee Food Store / Sioux City    SIOUX CITY     51106   \n",
       "\n",
       "                 Store Location  County Number    County  Category  ...  \\\n",
       "0                           NaN             77      Polk   1022100  ...   \n",
       "1  POINT (-91.869285 42.094155)              6    Benton   1012100  ...   \n",
       "2  POINT (-91.680734 42.034748)             57      Linn   1062300  ...   \n",
       "3   POINT (-95.742987 41.04635)             65     Mills   1011100  ...   \n",
       "4  POINT (-96.346969 42.447396)             97  Woodbury   1012100  ...   \n",
       "\n",
       "  Item Number                            Item Description Pack  \\\n",
       "0       89191  Jose Cuervo Especial Reposado Tequila Mini   12   \n",
       "1       11774                                Black Velvet   24   \n",
       "2       43410           Captain Morgan Parrot Bay Coconut   12   \n",
       "3       24458                       Kessler Blend Whiskey    6   \n",
       "4       10550                Black Velvet Toasted Caramel   12   \n",
       "\n",
       "   Bottle Volume (ml) State Bottle Cost  State Bottle Retail  Bottles Sold  \\\n",
       "0                 500             11.50                17.25             1   \n",
       "1                 375              3.07                 4.61             6   \n",
       "2                 750              7.49                11.23            12   \n",
       "3                1750             11.01                16.52            30   \n",
       "4                 750              6.75                10.13            12   \n",
       "\n",
       "   Sale (Dollars)  Volume Sold (Liters)  Volume Sold (Gallons)  \n",
       "0           17.25                  0.50                   0.13  \n",
       "1           27.66                  2.25                   0.59  \n",
       "2          134.76                  9.00                   2.38  \n",
       "3          495.60                 52.50                  13.87  \n",
       "4          121.56                  9.00                   2.38  \n",
       "\n",
       "[5 rows x 23 columns]"
      ]
     },
     "execution_count": 16,
     "metadata": {},
     "output_type": "execute_result"
    }
   ],
   "source": [
    "df = pd.read_csv(\"iowa-sample.csv\")\n",
    "df.drop([\"Address\"], axis=1, inplace=True)\n",
    "df.head()"
   ]
  },
  {
   "cell_type": "code",
   "execution_count": 17,
   "metadata": {},
   "outputs": [
    {
     "data": {
      "text/plain": [
       "Invoice/Item Number        object\n",
       "Date                       object\n",
       "Store Number                int64\n",
       "Store Name               category\n",
       "Address                    object\n",
       "City                     category\n",
       "Zip Code                    int64\n",
       "Store Location             object\n",
       "County Number               int64\n",
       "County                     object\n",
       "Category                    int64\n",
       "Category Name              object\n",
       "Vendor Number               int64\n",
       "Vendor Name                object\n",
       "Item Number                 int64\n",
       "Item Description           object\n",
       "Pack                        int64\n",
       "Bottle Volume (ml)          int64\n",
       "State Bottle Cost         float64\n",
       "State Bottle Retail       float64\n",
       "Bottles Sold                int64\n",
       "Sale (Dollars)            float64\n",
       "Volume Sold (Liters)      float64\n",
       "Volume Sold (Gallons)     float64\n",
       "dtype: object"
      ]
     },
     "execution_count": 17,
     "metadata": {},
     "output_type": "execute_result"
    }
   ],
   "source": [
    "df_small[\"Store Name\"] = df_small[\"Store Name\"].astype('category')\n",
    "\n",
    "df_small[\"City\"] = df_small[\"City\"].astype('category')\n",
    "\n",
    "df_small[\"Zip Code\"] = df_small[\"Zip Code\"].astype('category')\n",
    "\n",
    "df_small.dtypes"
   ]
  },
  {
   "cell_type": "code",
   "execution_count": 7,
   "metadata": {},
   "outputs": [
    {
     "data": {
      "text/html": [
       "<div>\n",
       "<style scoped>\n",
       "    .dataframe tbody tr th:only-of-type {\n",
       "        vertical-align: middle;\n",
       "    }\n",
       "\n",
       "    .dataframe tbody tr th {\n",
       "        vertical-align: top;\n",
       "    }\n",
       "\n",
       "    .dataframe thead th {\n",
       "        text-align: right;\n",
       "    }\n",
       "</style>\n",
       "<table border=\"1\" class=\"dataframe\">\n",
       "  <thead>\n",
       "    <tr style=\"text-align: right;\">\n",
       "      <th></th>\n",
       "      <th>CEDAR RAPIDS</th>\n",
       "      <th>DES MOINES</th>\n",
       "      <th>GLENWOOD</th>\n",
       "      <th>SHELLSBURG</th>\n",
       "      <th>SIOUX CITY</th>\n",
       "    </tr>\n",
       "  </thead>\n",
       "  <tbody>\n",
       "    <tr>\n",
       "      <th>0</th>\n",
       "      <td>0</td>\n",
       "      <td>1</td>\n",
       "      <td>0</td>\n",
       "      <td>0</td>\n",
       "      <td>0</td>\n",
       "    </tr>\n",
       "    <tr>\n",
       "      <th>1</th>\n",
       "      <td>0</td>\n",
       "      <td>0</td>\n",
       "      <td>0</td>\n",
       "      <td>1</td>\n",
       "      <td>0</td>\n",
       "    </tr>\n",
       "    <tr>\n",
       "      <th>2</th>\n",
       "      <td>1</td>\n",
       "      <td>0</td>\n",
       "      <td>0</td>\n",
       "      <td>0</td>\n",
       "      <td>0</td>\n",
       "    </tr>\n",
       "    <tr>\n",
       "      <th>3</th>\n",
       "      <td>0</td>\n",
       "      <td>0</td>\n",
       "      <td>1</td>\n",
       "      <td>0</td>\n",
       "      <td>0</td>\n",
       "    </tr>\n",
       "    <tr>\n",
       "      <th>4</th>\n",
       "      <td>0</td>\n",
       "      <td>0</td>\n",
       "      <td>0</td>\n",
       "      <td>0</td>\n",
       "      <td>1</td>\n",
       "    </tr>\n",
       "  </tbody>\n",
       "</table>\n",
       "</div>"
      ],
      "text/plain": [
       "   CEDAR RAPIDS  DES MOINES  GLENWOOD  SHELLSBURG  SIOUX CITY\n",
       "0             0           1         0           0           0\n",
       "1             0           0         0           1           0\n",
       "2             1           0         0           0           0\n",
       "3             0           0         1           0           0\n",
       "4             0           0         0           0           1"
      ]
     },
     "execution_count": 7,
     "metadata": {},
     "output_type": "execute_result"
    }
   ],
   "source": [
    "pd.get_dummies(df_small[\"City\"])"
   ]
  },
  {
   "cell_type": "code",
   "execution_count": 183,
   "metadata": {},
   "outputs": [
    {
     "data": {
      "text/plain": [
       "array([13.5724999 , 12.41648163, 11.26046336, 10.1044451 ,  8.94842683,\n",
       "        7.79240856,  6.6363903 ,  5.48037203,  4.32435376,  3.1683355 ,\n",
       "        2.01231723,  0.85629897])"
      ]
     },
     "execution_count": 183,
     "metadata": {},
     "output_type": "execute_result"
    }
   ],
   "source": [
    "class LR:\n",
    "    \n",
    "    def fit(self, X_train, y_train):\n",
    "        # create vector of ones...\n",
    "        ones = np.ones(shape=len(X_train))[..., None]\n",
    "        #...and add to feature matrix\n",
    "        X = np.concatenate((ones, X_train), 1)\n",
    "        #calculate coefficients using closed-form solution\n",
    "        self.coeffs = inv(X.transpose().dot(X)).dot(X.transpose()).dot(y_train)\n",
    "        \n",
    "    def predict(self, X_test):\n",
    "        ones = np.ones(shape=len(X_test))[..., None]\n",
    "        X_test = np.concatenate((ones, X_test), 1)\n",
    "        y_hat = X_test.dot(self.coeffs)\n",
    "        return y_hat\n",
    "\n",
    "# # extract the feature names of the boston data set and prepend the intercept\n",
    "# feature_names = np.insert(boston.feature_names, 0, 'INT')\n",
    "\n",
    "# # collect results into a DataFrame for pretty printing\n",
    "# results = pd.DataFrame({'coeffs':coeffs}, index=feature_names)\n"
   ]
  },
  {
   "cell_type": "code",
   "execution_count": 184,
   "metadata": {},
   "outputs": [],
   "source": [
    "from sklearn.linear_model import LinearRegression\n",
    "\n",
    "data_dir = \"https://dlsun.github.io/pods/data/\"\n",
    "bordeaux_df = pd.read_csv(data_dir + \"bordeaux.csv\",\n",
    "                          index_col=\"year\")\n",
    "bordeaux_train = bordeaux_df.loc[:1980].copy()\n",
    "bordeaux_test = bordeaux_df.loc[1980:].copy()\n",
    "\n",
    "X_train = bordeaux_train[[\"age\"]]\n",
    "X_test = bordeaux_test[[\"age\"]]\n",
    "y_train = bordeaux_train[\"price\"]\n"
   ]
  },
  {
   "cell_type": "code",
   "execution_count": 185,
   "metadata": {},
   "outputs": [
    {
     "data": {
      "text/plain": [
       "array([13.5724999 , 12.41648163, 11.26046336, 10.1044451 ,  8.94842683,\n",
       "        7.79240856,  6.6363903 ,  5.48037203,  4.32435376,  3.1683355 ,\n",
       "        2.01231723,  0.85629897])"
      ]
     },
     "execution_count": 185,
     "metadata": {},
     "output_type": "execute_result"
    }
   ],
   "source": [
    "model = LinearRegression()\n",
    "model.fit(X=X_train, y=y_train)\n",
    "model.predict(X=X_test)"
   ]
  },
  {
   "cell_type": "code",
   "execution_count": 186,
   "metadata": {},
   "outputs": [
    {
     "data": {
      "text/plain": [
       "array([13.5724999 , 12.41648163, 11.26046336, 10.1044451 ,  8.94842683,\n",
       "        7.79240856,  6.6363903 ,  5.48037203,  4.32435376,  3.1683355 ,\n",
       "        2.01231723,  0.85629897])"
      ]
     },
     "execution_count": 186,
     "metadata": {},
     "output_type": "execute_result"
    }
   ],
   "source": [
    "model = LR()\n",
    "model.fit(X_train, y_train)\n",
    "model.predict(X_test)"
   ]
  },
  {
   "cell_type": "code",
   "execution_count": 188,
   "metadata": {},
   "outputs": [
    {
     "data": {
      "text/plain": [
       "array([2.77507496, 3.17926885, 3.4231464 , 3.71919787, 2.83391541,\n",
       "       3.48195778, 2.4330387 , 2.91879638, 3.5924235 , 3.97294747,\n",
       "       4.04789338, 3.14087609])"
      ]
     },
     "execution_count": 188,
     "metadata": {},
     "output_type": "execute_result"
    }
   ],
   "source": [
    "bordeaux_train[\"log(price)\"] = np.log(bordeaux_train[\"price\"])\n",
    "X=bordeaux_train[[\"summer\", \"win\", \"har\", \"age\"]]\n",
    "y=bordeaux_train[\"log(price)\"]\n",
    "\n",
    "ashen_model = LinearRegression()\n",
    "ashen_model.fit(\n",
    "    X=bordeaux_train[[\"summer\", \"win\", \"har\", \"age\"]],\n",
    "    y=bordeaux_train[\"log(price)\"]\n",
    ")\n",
    "ashen_model.predict(\n",
    "    X=bordeaux_test[[\"summer\", \"win\", \"har\", \"age\"]]\n",
    ")"
   ]
  },
  {
   "cell_type": "code",
   "execution_count": 190,
   "metadata": {},
   "outputs": [
    {
     "data": {
      "text/plain": [
       "array([2.77507496, 3.17926885, 3.4231464 , 3.71919787, 2.83391541,\n",
       "       3.48195778, 2.4330387 , 2.91879638, 3.5924235 , 3.97294747,\n",
       "       4.04789338, 3.14087609])"
      ]
     },
     "execution_count": 190,
     "metadata": {},
     "output_type": "execute_result"
    }
   ],
   "source": [
    "model = LR()\n",
    "model.fit(X, y)\n",
    "X_test = bordeaux_test[[\"summer\", \"win\", \"har\", \"age\"]]\n",
    "model.predict(X_test)"
   ]
  },
  {
   "cell_type": "code",
   "execution_count": null,
   "metadata": {},
   "outputs": [],
   "source": []
  }
 ],
 "metadata": {
  "kernelspec": {
   "display_name": "Python 3",
   "language": "python",
   "name": "python3"
  },
  "language_info": {
   "codemirror_mode": {
    "name": "ipython",
    "version": 3
   },
   "file_extension": ".py",
   "mimetype": "text/x-python",
   "name": "python",
   "nbconvert_exporter": "python",
   "pygments_lexer": "ipython3",
   "version": "3.8.3"
  }
 },
 "nbformat": 4,
 "nbformat_minor": 4
}

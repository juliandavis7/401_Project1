{
 "cells": [
  {
   "cell_type": "code",
   "execution_count": 7,
   "metadata": {},
   "outputs": [],
   "source": [
    "import pandas as pd\n",
    "import numpy as np\n",
    "from numpy.linalg import inv"
   ]
  },
  {
   "cell_type": "code",
   "execution_count": 8,
   "metadata": {},
   "outputs": [],
   "source": [
    "# linear regression methodology\n",
    "class LR:\n",
    "    \n",
    "    def fit(self, X_train, y_train):\n",
    "        # create vector of ones...\n",
    "        ones = np.ones(shape=len(X_train))[..., None]\n",
    "        #...and add to feature matrix\n",
    "        X = np.concatenate((ones, X_train), 1)\n",
    "        #calculate coefficients using closed-form solution\n",
    "        self.coeffs = inv(X.transpose().dot(X)).dot(X.transpose()).dot(y_train)\n",
    "        \n",
    "    def predict(self, X_test):\n",
    "        ones = np.ones(shape=len(X_test))[..., None]\n",
    "        X_test = np.concatenate((ones, X_test), 1)\n",
    "        y_hat = X_test.dot(self.coeffs)\n",
    "        return y_hat\n"
   ]
  },
  {
   "cell_type": "code",
   "execution_count": 9,
   "metadata": {},
   "outputs": [
    {
     "data": {
      "text/plain": [
       "array([13.5724999 , 12.41648163, 11.26046336, 10.1044451 ,  8.94842683,\n",
       "        7.79240856,  6.6363903 ,  5.48037203,  4.32435376,  3.1683355 ,\n",
       "        2.01231723,  0.85629897])"
      ]
     },
     "execution_count": 9,
     "metadata": {},
     "output_type": "execute_result"
    }
   ],
   "source": [
    "# sklear linear regression example\n",
    "from sklearn.linear_model import LinearRegression\n",
    "\n",
    "data_dir = \"https://dlsun.github.io/pods/data/\"\n",
    "bordeaux_df = pd.read_csv(data_dir + \"bordeaux.csv\",\n",
    "                          index_col=\"year\")\n",
    "\n",
    "bordeaux_train = bordeaux_df.loc[:1980].copy()\n",
    "bordeaux_test = bordeaux_df.loc[1980:].copy()\n",
    "\n",
    "X_train = bordeaux_train[[\"age\"]]\n",
    "X_test = bordeaux_test[[\"age\"]]\n",
    "y_train = bordeaux_train[\"price\"]\n",
    "\n",
    "model = LinearRegression()\n",
    "model.fit(X=X_train, y=y_train)\n",
    "model.predict(X=X_test)"
   ]
  },
  {
   "cell_type": "code",
   "execution_count": 10,
   "metadata": {},
   "outputs": [
    {
     "data": {
      "text/plain": [
       "array([13.5724999 , 12.41648163, 11.26046336, 10.1044451 ,  8.94842683,\n",
       "        7.79240856,  6.6363903 ,  5.48037203,  4.32435376,  3.1683355 ,\n",
       "        2.01231723,  0.85629897])"
      ]
     },
     "execution_count": 10,
     "metadata": {},
     "output_type": "execute_result"
    }
   ],
   "source": [
    "# our linear regression example on same data\n",
    "model = LR()\n",
    "model.fit(X_train, y_train)\n",
    "model.predict(X_test)"
   ]
  },
  {
   "cell_type": "code",
   "execution_count": 11,
   "metadata": {},
   "outputs": [],
   "source": [
    "# cross validation methodology\n",
    "def k_fold(k, df):\n",
    "    n = len(df)\n",
    "    cut = int(n/k)\n",
    "    folds = []\n",
    "    start = 0\n",
    "    end = cut\n",
    "    for i in range(0, k):\n",
    "        fold = df[start: end]\n",
    "        folds.append(fold)\n",
    "        start += int(n/k)\n",
    "        end += int(n/k)\n",
    "    return folds\n",
    "\n",
    "def mse(actual, predicted):\n",
    "    return -(((actual - predicted)**2).mean())\n",
    "\n",
    "def cv(folds, response):\n",
    "    test_errors = []\n",
    "    for i in range(0, len(folds)):\n",
    "        X_train = pd.DataFrame()\n",
    "        Y_train = pd.Series(dtype=float)\n",
    "        for j in range(0, len(folds)):\n",
    "            if i == j:\n",
    "                X_test = folds[j].drop([response], axis=1)\n",
    "                Y_test = folds[j][response]\n",
    "            if i != j:\n",
    "                X_train = X_train.append(folds[j].drop([response], axis=1))\n",
    "                Y_train = Y_train.append(folds[j][response])\n",
    "    \n",
    "        model = LR()\n",
    "        model.fit(X_train, Y_train.transpose())\n",
    "        Y_pred = pd.DataFrame()\n",
    "        Y_pred = model.predict(X_test)\n",
    "        error = mse(Y_test, Y_pred) \n",
    "        test_errors.append(error)\n",
    "        rmse = np.sqrt(-sum(test_errors)/len(folds))\n",
    "    return test_errors, rmse"
   ]
  },
  {
   "cell_type": "code",
   "execution_count": 12,
   "metadata": {},
   "outputs": [
    {
     "name": "stdout",
     "output_type": "stream",
     "text": [
      "[-0.29898833 -0.27833086]\n",
      "0.5371844859149083\n"
     ]
    }
   ],
   "source": [
    "# sklearn cross validation example\n",
    "from sklearn.linear_model import LinearRegression\n",
    "from sklearn.model_selection import cross_val_score\n",
    "\n",
    "data_dir = \"https://dlsun.github.io/pods/data/\"\n",
    "bordeaux_df = pd.read_csv(data_dir + \"bordeaux.csv\",\n",
    "                          index_col=\"year\")\n",
    "\n",
    "bordeaux_train = bordeaux_df.loc[:1980].copy()\n",
    "bordeaux_train[\"log(price)\"] = np.log(bordeaux_train[\"price\"])\n",
    "bordeaux_train.drop([\"price\"], axis=1, inplace=True)\n",
    "\n",
    "model = LinearRegression()\n",
    "scores = cross_val_score(model, \n",
    "                         X=bordeaux_train[[\"win\", \"summer\"]],\n",
    "                         y=bordeaux_train[\"log(price)\"],\n",
    "                         scoring=\"neg_mean_squared_error\",\n",
    "                         cv=2)\n",
    "\n",
    "print(scores)\n",
    "print(np.sqrt(-scores).mean())"
   ]
  },
  {
   "cell_type": "code",
   "execution_count": 13,
   "metadata": {},
   "outputs": [
    {
     "name": "stdout",
     "output_type": "stream",
     "text": [
      "[-0.3261536583404905, -0.28766838705119696]\n",
      "0.5539955078300217\n"
     ]
    }
   ],
   "source": [
    "# our cross validation on same data\n",
    "bordeaux_train2 = bordeaux_train[[\"win\", \"summer\", \"log(price)\"]]\n",
    "folds = k_fold(2, bordeaux_train2)\n",
    "errs, rmse = cv(folds, \"log(price)\")\n",
    "print(errs)\n",
    "print(rmse)\n"
   ]
  },
  {
   "cell_type": "code",
   "execution_count": null,
   "metadata": {},
   "outputs": [],
   "source": [
    "# Standardizing the Dataframe\n",
    "\n",
    "def standardize(df): \n",
    "    #standardize only quantitative variables\n",
    "    df_st = ((df.select_dtypes(float) - df.select_dtypes(float).mean()) / df.select_dtypes(float).std()) \n",
    "\n",
    "    #join the standardized quantites back with original df \n",
    "    df_st = df.select_dtypes(exclude=float).join(df_st)\n",
    "    return df_st "
   ]
  }
 ],
 "metadata": {
  "kernelspec": {
   "display_name": "Python 3",
   "language": "python",
   "name": "python3"
  },
  "language_info": {
   "codemirror_mode": {
    "name": "ipython",
    "version": 3
   },
   "file_extension": ".py",
   "mimetype": "text/x-python",
   "name": "python",
   "nbconvert_exporter": "python",
   "pygments_lexer": "ipython3",
   "version": "3.8.3"
  }
 },
 "nbformat": 4,
 "nbformat_minor": 4
}

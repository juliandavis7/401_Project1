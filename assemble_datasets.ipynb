{
 "cells": [
  {
   "cell_type": "code",
   "execution_count": 1,
   "metadata": {},
   "outputs": [],
   "source": [
    "import pandas as pd\n",
    "import numpy as np\n",
    "import timeit\n",
    "from numpy.linalg import inv"
   ]
  },
  {
   "cell_type": "code",
   "execution_count": null,
   "metadata": {},
   "outputs": [],
   "source": [
    "start_time = timeit.default_timer()\n",
    "df = pd.read_csv(\"../data_proj1/iowaliquor.csv\", low_memory=False)\n",
    "\n",
    "elapsed = timeit.default_timer() - start_time\n",
    "print(\"Time (minutes) elapsed for this cell:\", elapsed/60)\n",
    "\n",
    "df.head()"
   ]
  },
  {
   "cell_type": "code",
   "execution_count": null,
   "metadata": {},
   "outputs": [],
   "source": [
    "# DATA CLEANING/ORGANIZATION\n",
    "start_time = timeit.default_timer()\n",
    "\n",
    "# only include the features we need\n",
    "df = df[[\"Date\", \"County\", \"Pack\", \"Category Name\", \n",
    "         \"Vendor Name\", \"State Bottle Cost\", \"State Bottle Retail\", \n",
    "         \"Bottles Sold\", \"Sale (Dollars)\", \"Volume Sold (Gallons)\"]]\n",
    "\n",
    "# type casting\n",
    "categorical_cols = [\"Category Name\", \"Vendor Name\"]\n",
    "for col in categorical_cols:\n",
    "    df[col] = df[col].astype('category')\n",
    "    \n",
    "# get year from date\n",
    "df['Date'] = pd.to_datetime(df['Date'])\n",
    "df.insert(1, 'Year', df['Date'].dt.year)\n",
    "\n",
    "# get dummies for categorical variables\n",
    "county_var = df[\"County\"]\n",
    "df = pd.get_dummies(df.drop([\"County\"], axis=1))\n",
    "df[\"County\"] = county_var\n",
    "\n",
    "elapsed = timeit.default_timer() - start_time\n",
    "print(\"Time (minutes) elapsed for this cell:\", elapsed/60) "
   ]
  },
  {
   "cell_type": "code",
   "execution_count": null,
   "metadata": {},
   "outputs": [],
   "source": [
    "# AGGREGATION BY COUNTY AND YEAR\n",
    "start_time = timeit.default_timer()\n",
    "\n",
    "df.insert(1, 'Month-Year', df['Date'].dt.strftime('%m-%Y'))\n",
    "df.drop([\"Date\", \"Year\"], axis=1, inplace=True)\n",
    "\n",
    "df = df.groupby(['County', 'Month-Year']).agg('sum')\n",
    "\n",
    "# add the year column back to the data frame\n",
    "df.reset_index(level=[\"County\", \"Month-Year\"], inplace=True)\n",
    "df.insert(1, \"Year\", df[\"Month-Year\"].str.replace(\"..-\", \"\"))\n",
    "df[\"Year\"] = df[\"Year\"].astype(int)\n",
    "\n",
    "elapsed = timeit.default_timer() - start_time\n",
    "print(\"Time (minutes) elapsed for this cell:\", elapsed/60) "
   ]
  },
  {
   "cell_type": "code",
   "execution_count": null,
   "metadata": {},
   "outputs": [],
   "source": [
    "# EXTERNAL DATASET, IOWA POPULATION FOR (county, year) PAIRS\n",
    "df2 = pd.read_excel(\"iowa_county.xlsx\")\n",
    "\n",
    "# data cleaning/organization\n",
    "df2 = df2.iloc[4:103]\n",
    "df2.drop([\"Unnamed: 1\", \"Unnamed: 2\"], axis=1, inplace=True)\n",
    "df2.rename(columns=\n",
    "{\"table with row headers in column A \" +\n",
    " \"and column headers in rows 3 through \" +\n",
    " \"4 (leading dots indicate sub-parts)\": \"County\",\n",
    "                    \"Unnamed: 3\": \"2010\", \n",
    "                    \"Unnamed: 4\": \"2011\", \n",
    "                    \"Unnamed: 5\": \"2012\", \n",
    "                    \"Unnamed: 6\": \"2013\", \n",
    "                    \"Unnamed: 7\": \"2014\",\n",
    "                    \"Unnamed: 8\": \"2015\",\n",
    "                    \"Unnamed: 9\": \"2016\",\n",
    "                    \"Unnamed: 10\": \"2017\",\n",
    "                    \"Unnamed: 11\": \"2018\",\n",
    "                    \"Unnamed: 12\": \"2019\"}, inplace=True)\n",
    "df2.reset_index(drop=True, inplace=True)\n",
    "     \n",
    "df2[\"County\"] = df2[\"County\"].str.replace(\".\", \"\")\n",
    "df2[\"County\"] = df2[\"County\"].str.replace(\" County, Iowa\", \"\")\n",
    "\n",
    "# convert df to standard form\n",
    "df2 = df2.melt(var_name=\"Year\", value_name=\"Population\", id_vars=['County'])\n",
    "\n",
    "# type casting\n",
    "df2[\"County\"] = df2[\"County\"].astype('category')\n",
    "df2[\"Year\"] = df2[\"Year\"].astype('int')\n",
    "df2[\"Population\"] = df2[\"Population\"].astype('int')\n",
    "\n",
    "df2.head()"
   ]
  },
  {
   "cell_type": "code",
   "execution_count": null,
   "metadata": {},
   "outputs": [],
   "source": [
    "# EXTERNAL DATASET, IOWA INCOME PER CAPITA FOR (county, year) PAIRS\n",
    "df_income = pd.read_csv(\"income.csv\")\n",
    "\n",
    "df_income = df_income[[\"Name\", \"Variable\", \"Value\", \"Date\"]]\n",
    "df_income = df_income[df_income[\"Variable\"] == \"Per capita personal income\"]\n",
    "\n",
    "\n",
    "df_income.rename(columns={\"Name\": \"County\", \"Value\": \"Income Per Capita\"}, inplace=True)\n",
    "\n",
    "df_income[\"County\"] = df_income[\"County\"].str.replace(\", IA\", \"\")\n",
    "\n",
    "df_income['Date'] = pd.to_datetime(df_income['Date'])\n",
    "df_income[\"Year\"] = df_income[\"Date\"].dt.year\n",
    "\n",
    "df_income.drop([\"Variable\", \"Date\"], axis=1, inplace=True)\n",
    "df_income.head()"
   ]
  },
  {
   "cell_type": "code",
   "execution_count": null,
   "metadata": {},
   "outputs": [],
   "source": [
    "# MERGE BOTH EXTERAL DATASETS\n",
    "start_time = timeit.default_timer()\n",
    "\n",
    "# merge with population values for each (county, year) pair\n",
    "df = pd.merge(df, df2, on=[\"County\", \"Year\"])\n",
    "\n",
    "# per capita normalization\n",
    "df.insert(6, \"Bottles Sold Per Capita\", df[\"Bottles Sold\"]/df[\"Population\"])\n",
    "df.insert(7, \"Alcohol Expense Per Capita\", df[\"Sale (Dollars)\"]/df[\"Population\"])\n",
    "df.insert(8, \"Volume Sold (Gallons) Per Capita\", df[\"Volume Sold (Gallons)\"]/df[\"Population\"])\n",
    "\n",
    "cols_to_drop = [\"Bottles Sold\", \"Sale (Dollars)\", \"Volume Sold (Gallons)\"]\n",
    "df.drop(cols_to_drop, axis=1, inplace=True)\n",
    "\n",
    "# merge with income values for each (county, year) pair\n",
    "df = pd.merge(df, df_income, on=[\"County\", \"Year\"])\n",
    "df.drop([\"Year\"], axis=1, inplace=True)\n",
    "\n",
    "elapsed = timeit.default_timer() - start_time\n",
    "print(\"Time (minutes) elapsed for this cell:\", elapsed/60) \n",
    "df.head()"
   ]
  },
  {
   "cell_type": "code",
   "execution_count": null,
   "metadata": {},
   "outputs": [],
   "source": [
    "iowa_month_county = df\n",
    "iowa_month_county.to_csv(\"iowa_month_county_main.csv\", index=False)"
   ]
  }
 ],
 "metadata": {
  "kernelspec": {
   "display_name": "Python 3",
   "language": "python",
   "name": "python3"
  },
  "language_info": {
   "codemirror_mode": {
    "name": "ipython",
    "version": 3
   },
   "file_extension": ".py",
   "mimetype": "text/x-python",
   "name": "python",
   "nbconvert_exporter": "python",
   "pygments_lexer": "ipython3",
   "version": "3.8.3"
  }
 },
 "nbformat": 4,
 "nbformat_minor": 4
}

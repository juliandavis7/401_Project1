{
 "cells": [
  {
   "cell_type": "code",
   "execution_count": 1,
   "metadata": {},
   "outputs": [],
   "source": [
    "import pandas as pd\n",
    "import numpy as np\n",
    "from numpy.linalg import inv\n",
    "import sklearn"
   ]
  },
  {
   "cell_type": "code",
   "execution_count": 2,
   "metadata": {},
   "outputs": [],
   "source": [
    "# linear regression methodology\n",
    "class LR:\n",
    "    \n",
    "    def fit(self, X_train, y_train):\n",
    "        # create vector of ones...\n",
    "        ones = np.ones(shape=len(X_train))[..., None]\n",
    "        #...and add to feature matrix\n",
    "        X = np.concatenate((ones, X_train), 1)\n",
    "        #calculate coefficients using closed-form solution\n",
    "        self.coeffs = inv(X.transpose().dot(X)).dot(X.transpose()).dot(y_train)\n",
    "        \n",
    "    def predict(self, X_test):\n",
    "        ones = np.ones(shape=len(X_test))[..., None]\n",
    "        X_test = np.concatenate((ones, X_test), 1)\n",
    "        y_hat = X_test.dot(self.coeffs)\n",
    "        return y_hat\n"
   ]
  },
  {
   "cell_type": "code",
   "execution_count": 3,
   "metadata": {},
   "outputs": [
    {
     "data": {
      "text/plain": [
       "array([13.5724999 , 12.41648163, 11.26046336, 10.1044451 ,  8.94842683,\n",
       "        7.79240856,  6.6363903 ,  5.48037203,  4.32435376,  3.1683355 ,\n",
       "        2.01231723,  0.85629897])"
      ]
     },
     "execution_count": 3,
     "metadata": {},
     "output_type": "execute_result"
    }
   ],
   "source": [
    "# sklear linear regression example\n",
    "from sklearn.linear_model import LinearRegression\n",
    "\n",
    "data_dir = \"https://dlsun.github.io/pods/data/\"\n",
    "bordeaux_df = pd.read_csv(data_dir + \"bordeaux.csv\",\n",
    "                          index_col=\"year\")\n",
    "\n",
    "bordeaux_train = bordeaux_df.loc[:1980].copy()\n",
    "bordeaux_test = bordeaux_df.loc[1980:].copy()\n",
    "\n",
    "X_train = bordeaux_train[[\"age\"]]\n",
    "X_test = bordeaux_test[[\"age\"]]\n",
    "y_train = bordeaux_train[\"price\"]\n",
    "\n",
    "model = LinearRegression()\n",
    "model.fit(X=X_train, y=y_train)\n",
    "model.predict(X=X_test)"
   ]
  },
  {
   "cell_type": "code",
   "execution_count": 4,
   "metadata": {},
   "outputs": [
    {
     "data": {
      "text/plain": [
       "array([13.5724999 , 12.41648163, 11.26046336, 10.1044451 ,  8.94842683,\n",
       "        7.79240856,  6.6363903 ,  5.48037203,  4.32435376,  3.1683355 ,\n",
       "        2.01231723,  0.85629897])"
      ]
     },
     "execution_count": 4,
     "metadata": {},
     "output_type": "execute_result"
    }
   ],
   "source": [
    "# our linear regression example on same data\n",
    "model = LR()\n",
    "model.fit(X_train, y_train)\n",
    "model.predict(X_test)"
   ]
  },
  {
   "cell_type": "code",
   "execution_count": 5,
   "metadata": {},
   "outputs": [],
   "source": [
    "# cross validation methodology\n",
    "def k_fold(k, df):\n",
    "    n = len(df)\n",
    "    cut = int(n/k)\n",
    "    folds = []\n",
    "    start = 0\n",
    "    end = cut\n",
    "    for i in range(0, k):\n",
    "        fold = df[start: end]\n",
    "        folds.append(fold)\n",
    "        start += int(n/k)\n",
    "        end += int(n/k)\n",
    "    return folds\n",
    "\n",
    "def mse(actual, predicted):\n",
    "    return -(((actual - predicted)**2).mean())\n",
    "\n",
    "def cv(folds, response):\n",
    "    test_errors = []\n",
    "    for i in range(0, len(folds)):\n",
    "        X_train = pd.DataFrame()\n",
    "        Y_train = pd.Series(dtype=float)\n",
    "        for j in range(0, len(folds)):\n",
    "            if i == j:\n",
    "                X_test = folds[j].drop([response], axis=1)\n",
    "                Y_test = folds[j][response]\n",
    "            if i != j:\n",
    "                X_train = X_train.append(folds[j].drop([response], axis=1))\n",
    "                Y_train = Y_train.append(folds[j][response])\n",
    "    \n",
    "        model = LR()\n",
    "        model.fit(X_train, Y_train.transpose())\n",
    "        Y_pred = pd.DataFrame()\n",
    "        Y_pred = model.predict(X_test)\n",
    "        error = mse(Y_test, Y_pred) \n",
    "        test_errors.append(error)\n",
    "        rmse = np.sqrt(-sum(test_errors)/len(folds))\n",
    "    return test_errors, rmse"
   ]
  },
  {
   "cell_type": "code",
   "execution_count": 6,
   "metadata": {},
   "outputs": [
    {
     "name": "stdout",
     "output_type": "stream",
     "text": [
      "[-0.29898833 -0.27833086]\n",
      "0.5371844859149082\n"
     ]
    }
   ],
   "source": [
    "# sklearn cross validation example\n",
    "from sklearn.linear_model import LinearRegression\n",
    "from sklearn.model_selection import cross_val_score\n",
    "\n",
    "data_dir = \"https://dlsun.github.io/pods/data/\"\n",
    "bordeaux_df = pd.read_csv(data_dir + \"bordeaux.csv\",\n",
    "                          index_col=\"year\")\n",
    "\n",
    "bordeaux_train = bordeaux_df.loc[:1980].copy()\n",
    "bordeaux_train[\"log(price)\"] = np.log(bordeaux_train[\"price\"])\n",
    "bordeaux_train.drop([\"price\"], axis=1, inplace=True)\n",
    "\n",
    "model = LinearRegression()\n",
    "scores = cross_val_score(model, \n",
    "                         X=bordeaux_train[[\"win\", \"summer\"]],\n",
    "                         y=bordeaux_train[\"log(price)\"],\n",
    "                         scoring=\"neg_mean_squared_error\",\n",
    "                         cv=2)\n",
    "\n",
    "print(scores)\n",
    "print(np.sqrt(-scores).mean())"
   ]
  },
  {
   "cell_type": "code",
   "execution_count": 7,
   "metadata": {},
   "outputs": [
    {
     "name": "stdout",
     "output_type": "stream",
     "text": [
      "[-0.32615365834155635, -0.28766838705142556]\n",
      "0.5539955078306059\n"
     ]
    }
   ],
   "source": [
    "# our cross validation on same data\n",
    "bordeaux_train2 = bordeaux_train[[\"win\", \"summer\", \"log(price)\"]]\n",
    "folds = k_fold(2, bordeaux_train2)\n",
    "errs, rmse = cv(folds, \"log(price)\")\n",
    "print(errs)\n",
    "print(rmse)\n"
   ]
  },
  {
   "cell_type": "code",
   "execution_count": 8,
   "metadata": {},
   "outputs": [],
   "source": [
    "# Standardizing the Dataframe\n",
    "\n",
    "def standardize(df): \n",
    "    #standardize only quantitative variables\n",
    "    df_st = ((df.select_dtypes(float) - df.select_dtypes(float).mean()) / df.select_dtypes(float).std()) \n",
    "\n",
    "    #join the standardized quantites back with original df \n",
    "    df_st = df.select_dtypes(exclude=float).join(df_st)\n",
    "    return df_st "
   ]
  },
  {
   "cell_type": "code",
   "execution_count": 12,
   "metadata": {},
   "outputs": [],
   "source": [
    "df = pd.read_csv(\"iowa_month_county_main.csv\") \n",
    "df.set_index([\"County\", \"Month-Year\"], inplace=True)\n",
    "\n",
    "halfway = len(df)//2\n",
    "\n",
    "df_train = df.iloc[:halfway].copy()\n",
    "df_test = df.iloc[halfway:].copy()"
   ]
  },
  {
   "cell_type": "code",
   "execution_count": 13,
   "metadata": {},
   "outputs": [
    {
     "data": {
      "text/html": [
       "<div>\n",
       "<style scoped>\n",
       "    .dataframe tbody tr th:only-of-type {\n",
       "        vertical-align: middle;\n",
       "    }\n",
       "\n",
       "    .dataframe tbody tr th {\n",
       "        vertical-align: top;\n",
       "    }\n",
       "\n",
       "    .dataframe thead th {\n",
       "        text-align: right;\n",
       "    }\n",
       "</style>\n",
       "<table border=\"1\" class=\"dataframe\">\n",
       "  <thead>\n",
       "    <tr style=\"text-align: right;\">\n",
       "      <th></th>\n",
       "      <th></th>\n",
       "      <th>Pack</th>\n",
       "      <th>State Bottle Cost</th>\n",
       "      <th>State Bottle Retail</th>\n",
       "      <th>Bottles Sold Per Capita</th>\n",
       "      <th>Alcohol Expense Per Capita</th>\n",
       "      <th>Volume Sold (Gallons) Per Capita</th>\n",
       "      <th>Consolidated_Brandy</th>\n",
       "      <th>Consolidated_Gin</th>\n",
       "      <th>Consolidated_Rum</th>\n",
       "      <th>Consolidated_Schnapps</th>\n",
       "      <th>Consolidated_Tequila</th>\n",
       "      <th>Consolidated_Vodka</th>\n",
       "      <th>Consolidated_Whiskey</th>\n",
       "      <th>Population</th>\n",
       "      <th>Income Per Capita</th>\n",
       "    </tr>\n",
       "    <tr>\n",
       "      <th>County</th>\n",
       "      <th>Month-Year</th>\n",
       "      <th></th>\n",
       "      <th></th>\n",
       "      <th></th>\n",
       "      <th></th>\n",
       "      <th></th>\n",
       "      <th></th>\n",
       "      <th></th>\n",
       "      <th></th>\n",
       "      <th></th>\n",
       "      <th></th>\n",
       "      <th></th>\n",
       "      <th></th>\n",
       "      <th></th>\n",
       "      <th></th>\n",
       "      <th></th>\n",
       "    </tr>\n",
       "  </thead>\n",
       "  <tbody>\n",
       "    <tr>\n",
       "      <th rowspan=\"5\" valign=\"top\">Adair</th>\n",
       "      <th>01-2012</th>\n",
       "      <td>10.411765</td>\n",
       "      <td>7.212647</td>\n",
       "      <td>10.852941</td>\n",
       "      <td>0.000914</td>\n",
       "      <td>0.009719</td>\n",
       "      <td>0.000267</td>\n",
       "      <td>0.000000</td>\n",
       "      <td>0.029412</td>\n",
       "      <td>0.088235</td>\n",
       "      <td>0.176471</td>\n",
       "      <td>0.00000</td>\n",
       "      <td>0.235294</td>\n",
       "      <td>0.323529</td>\n",
       "      <td>7468</td>\n",
       "      <td>42093</td>\n",
       "    </tr>\n",
       "    <tr>\n",
       "      <th>02-2012</th>\n",
       "      <td>10.394737</td>\n",
       "      <td>9.180263</td>\n",
       "      <td>13.802105</td>\n",
       "      <td>0.000927</td>\n",
       "      <td>0.011195</td>\n",
       "      <td>0.000250</td>\n",
       "      <td>0.052632</td>\n",
       "      <td>0.105263</td>\n",
       "      <td>0.052632</td>\n",
       "      <td>0.105263</td>\n",
       "      <td>0.00000</td>\n",
       "      <td>0.184211</td>\n",
       "      <td>0.394737</td>\n",
       "      <td>7468</td>\n",
       "      <td>42093</td>\n",
       "    </tr>\n",
       "    <tr>\n",
       "      <th>03-2012</th>\n",
       "      <td>12.307692</td>\n",
       "      <td>7.256923</td>\n",
       "      <td>10.931923</td>\n",
       "      <td>0.000917</td>\n",
       "      <td>0.009475</td>\n",
       "      <td>0.000196</td>\n",
       "      <td>0.076923</td>\n",
       "      <td>0.076923</td>\n",
       "      <td>0.153846</td>\n",
       "      <td>0.153846</td>\n",
       "      <td>0.00000</td>\n",
       "      <td>0.153846</td>\n",
       "      <td>0.346154</td>\n",
       "      <td>7468</td>\n",
       "      <td>42093</td>\n",
       "    </tr>\n",
       "    <tr>\n",
       "      <th>04-2012</th>\n",
       "      <td>12.142857</td>\n",
       "      <td>7.265238</td>\n",
       "      <td>10.922857</td>\n",
       "      <td>0.000969</td>\n",
       "      <td>0.010872</td>\n",
       "      <td>0.000235</td>\n",
       "      <td>0.071429</td>\n",
       "      <td>0.166667</td>\n",
       "      <td>0.047619</td>\n",
       "      <td>0.047619</td>\n",
       "      <td>0.00000</td>\n",
       "      <td>0.214286</td>\n",
       "      <td>0.309524</td>\n",
       "      <td>7468</td>\n",
       "      <td>42093</td>\n",
       "    </tr>\n",
       "    <tr>\n",
       "      <th>05-2012</th>\n",
       "      <td>10.238095</td>\n",
       "      <td>9.279286</td>\n",
       "      <td>13.990476</td>\n",
       "      <td>0.001011</td>\n",
       "      <td>0.013036</td>\n",
       "      <td>0.000260</td>\n",
       "      <td>0.023810</td>\n",
       "      <td>0.047619</td>\n",
       "      <td>0.000000</td>\n",
       "      <td>0.047619</td>\n",
       "      <td>0.02381</td>\n",
       "      <td>0.285714</td>\n",
       "      <td>0.476190</td>\n",
       "      <td>7468</td>\n",
       "      <td>42093</td>\n",
       "    </tr>\n",
       "  </tbody>\n",
       "</table>\n",
       "</div>"
      ],
      "text/plain": [
       "                        Pack  State Bottle Cost  State Bottle Retail  \\\n",
       "County Month-Year                                                      \n",
       "Adair  01-2012     10.411765           7.212647            10.852941   \n",
       "       02-2012     10.394737           9.180263            13.802105   \n",
       "       03-2012     12.307692           7.256923            10.931923   \n",
       "       04-2012     12.142857           7.265238            10.922857   \n",
       "       05-2012     10.238095           9.279286            13.990476   \n",
       "\n",
       "                   Bottles Sold Per Capita  Alcohol Expense Per Capita  \\\n",
       "County Month-Year                                                        \n",
       "Adair  01-2012                    0.000914                    0.009719   \n",
       "       02-2012                    0.000927                    0.011195   \n",
       "       03-2012                    0.000917                    0.009475   \n",
       "       04-2012                    0.000969                    0.010872   \n",
       "       05-2012                    0.001011                    0.013036   \n",
       "\n",
       "                   Volume Sold (Gallons) Per Capita  Consolidated_Brandy  \\\n",
       "County Month-Year                                                          \n",
       "Adair  01-2012                             0.000267             0.000000   \n",
       "       02-2012                             0.000250             0.052632   \n",
       "       03-2012                             0.000196             0.076923   \n",
       "       04-2012                             0.000235             0.071429   \n",
       "       05-2012                             0.000260             0.023810   \n",
       "\n",
       "                   Consolidated_Gin  Consolidated_Rum  Consolidated_Schnapps  \\\n",
       "County Month-Year                                                              \n",
       "Adair  01-2012             0.029412          0.088235               0.176471   \n",
       "       02-2012             0.105263          0.052632               0.105263   \n",
       "       03-2012             0.076923          0.153846               0.153846   \n",
       "       04-2012             0.166667          0.047619               0.047619   \n",
       "       05-2012             0.047619          0.000000               0.047619   \n",
       "\n",
       "                   Consolidated_Tequila  Consolidated_Vodka  \\\n",
       "County Month-Year                                             \n",
       "Adair  01-2012                  0.00000            0.235294   \n",
       "       02-2012                  0.00000            0.184211   \n",
       "       03-2012                  0.00000            0.153846   \n",
       "       04-2012                  0.00000            0.214286   \n",
       "       05-2012                  0.02381            0.285714   \n",
       "\n",
       "                   Consolidated_Whiskey  Population  Income Per Capita  \n",
       "County Month-Year                                                       \n",
       "Adair  01-2012                 0.323529        7468              42093  \n",
       "       02-2012                 0.394737        7468              42093  \n",
       "       03-2012                 0.346154        7468              42093  \n",
       "       04-2012                 0.309524        7468              42093  \n",
       "       05-2012                 0.476190        7468              42093  "
      ]
     },
     "execution_count": 13,
     "metadata": {},
     "output_type": "execute_result"
    }
   ],
   "source": [
    "df_train.head()"
   ]
  },
  {
   "cell_type": "code",
   "execution_count": 14,
   "metadata": {},
   "outputs": [
    {
     "data": {
      "text/plain": [
       "array([[0.0001966],\n",
       "       [0.0001966],\n",
       "       [0.0001966],\n",
       "       [0.0001966],\n",
       "       [0.0001966]])"
      ]
     },
     "execution_count": 14,
     "metadata": {},
     "output_type": "execute_result"
    }
   ],
   "source": [
    "y_train = df_train[[\"Volume Sold (Gallons) Per Capita\"]]\n",
    "x_train = df_train[[\"State Bottle Cost\"]]\n",
    "x_test = df_train[[\"State Bottle Cost\"]]\n",
    "model_sk = LinearRegression()\n",
    "model.fit(x_train, y_train)\n",
    "model.predict(y_train)[0:5]"
   ]
  },
  {
   "cell_type": "markdown",
   "metadata": {},
   "source": [
    "# Testing Models"
   ]
  },
  {
   "cell_type": "code",
   "execution_count": 15,
   "metadata": {},
   "outputs": [
    {
     "name": "stdout",
     "output_type": "stream",
     "text": [
      "test errors: [-0.965716681247778, -1.0177505840751349, -0.9654639247161485, -1.1707939223824249, -0.929564275192455]\n",
      "     \n",
      "rmse: 1.0049168510492736\n"
     ]
    }
   ],
   "source": [
    "# 1 predictor: State Bottle Cost\n",
    "df_test = df[[\"State Bottle Cost\",\"Volume Sold (Gallons) Per Capita\"]]\n",
    "df_test = standardize(df_test)\n",
    "response = \"Volume Sold (Gallons) Per Capita\"\n",
    "folds = k_fold(5,df_test)\n",
    "out = cv(folds, response)\n",
    "print(\"test errors:\", out[0])\n",
    "print(\"     \")\n",
    "print(\"rmse:\", out[1])\n",
    "SBC = out[1]"
   ]
  },
  {
   "cell_type": "code",
   "execution_count": 17,
   "metadata": {},
   "outputs": [
    {
     "name": "stdout",
     "output_type": "stream",
     "text": [
      "test errors: [-0.965911882904529, -1.0180068311104775, -0.9652820102954729, -1.1710227729082208, -0.9293181387139001]\n",
      "     \n",
      "rmse: 1.0049419521477447\n"
     ]
    }
   ],
   "source": [
    "# 1 predictor: State Bottle Retail\n",
    "df_test = df[[\"State Bottle Retail\",\"Volume Sold (Gallons) Per Capita\"]]\n",
    "df_test = standardize(df_test)\n",
    "response = \"Volume Sold (Gallons) Per Capita\"\n",
    "folds = k_fold(5,df_test)\n",
    "out = cv(folds, response)\n",
    "print(\"test errors:\", out[0])\n",
    "print(\"     \")\n",
    "print(\"rmse:\", out[1])\n",
    "SBR = out[1]"
   ]
  },
  {
   "cell_type": "code",
   "execution_count": 18,
   "metadata": {},
   "outputs": [
    {
     "name": "stdout",
     "output_type": "stream",
     "text": [
      "test errors: [-0.1532111485997984, -0.5828117905877774, -0.13386775538722756, -0.11199478435870916, -0.10105250122832367]\n",
      "     \n",
      "rmse: 0.46538972488911623\n"
     ]
    }
   ],
   "source": [
    "# 1 predictor: Bottles Sold Per Capita\n",
    "df_test = df[[\"Bottles Sold Per Capita\",\"Volume Sold (Gallons) Per Capita\"]]\n",
    "df_test = standardize(df_test)\n",
    "response = \"Volume Sold (Gallons) Per Capita\"\n",
    "folds = k_fold(5,df_test)\n",
    "out = cv(folds, response)\n",
    "print(\"test errors:\", out[0])\n",
    "print(\"     \")\n",
    "print(\"rmse:\", out[1])\n",
    "BSPC = out[1]"
   ]
  },
  {
   "cell_type": "code",
   "execution_count": 19,
   "metadata": {},
   "outputs": [
    {
     "name": "stdout",
     "output_type": "stream",
     "text": [
      "test errors: [-0.9402652751972587, -1.2902381286233797, -0.8507876228891286, -1.0597884378553637, -0.8366571106387771]\n",
      "     \n",
      "rmse: 0.9977711736870241\n"
     ]
    }
   ],
   "source": [
    "# 1 predictor: Pack\n",
    "df_test = df[[\"Pack\",\"Volume Sold (Gallons) Per Capita\"]]\n",
    "df_test = standardize(df_test)\n",
    "response = \"Volume Sold (Gallons) Per Capita\"\n",
    "folds = k_fold(5,df_test)\n",
    "out = cv(folds, response)\n",
    "print(\"test errors:\", out[0])\n",
    "print(\"     \")\n",
    "print(\"rmse:\", out[1])\n",
    "PCK = out[1]"
   ]
  },
  {
   "cell_type": "code",
   "execution_count": 20,
   "metadata": {},
   "outputs": [
    {
     "name": "stdout",
     "output_type": "stream",
     "text": [
      "test errors: [-0.13468322496424348, -0.19294824672271463, -0.07064414991364953, -0.08470285026547862, -0.08580153461450941]\n",
      "     \n",
      "rmse: 0.3372773358767516\n"
     ]
    }
   ],
   "source": [
    "# 1 predictor: Alcohol Expense Per Capita\n",
    "df_test = df[[\"Alcohol Expense Per Capita\",\"Volume Sold (Gallons) Per Capita\"]]\n",
    "df_test = standardize(df_test)\n",
    "response = \"Volume Sold (Gallons) Per Capita\"\n",
    "folds = k_fold(5,df_test)\n",
    "out = cv(folds, response)\n",
    "print(\"test errors:\", out[0])\n",
    "print(\"     \")\n",
    "print(\"rmse:\", out[1])\n",
    "AEPC = out[1]"
   ]
  },
  {
   "cell_type": "code",
   "execution_count": 21,
   "metadata": {},
   "outputs": [
    {
     "name": "stdout",
     "output_type": "stream",
     "text": [
      "test errors: [-0.8811549388058023, -0.8898072085261692, -0.7538741809742702, -1.7525408648384015, -0.7084337738505174]\n",
      "     \n",
      "rmse: 0.9985800886253601\n"
     ]
    }
   ],
   "source": [
    "# 1 predictor: Population\n",
    "df_test = df[[\"Population\",\"Volume Sold (Gallons) Per Capita\"]]\n",
    "df_test = standardize(df_test)\n",
    "response = \"Volume Sold (Gallons) Per Capita\"\n",
    "folds = k_fold(5,df_test)\n",
    "out = cv(folds, response)\n",
    "print(\"test errors:\", out[0])\n",
    "print(\"     \")\n",
    "print(\"rmse:\", out[1])\n",
    "PPLN = out[1]"
   ]
  },
  {
   "cell_type": "code",
   "execution_count": 25,
   "metadata": {},
   "outputs": [
    {
     "name": "stdout",
     "output_type": "stream",
     "text": [
      "test errors: [-0.9547656982034679, -1.084887749996942, -0.9307411163233443, -1.1729577895977776, -0.9187732404608955]\n",
      "     \n",
      "rmse: 1.006193380477374\n"
     ]
    }
   ],
   "source": [
    "# 1 predictor: Income Per Capita\n",
    "df_test = df[[\"Income Per Capita\",\"Volume Sold (Gallons) Per Capita\"]]\n",
    "df_test = standardize(df_test)\n",
    "response = \"Volume Sold (Gallons) Per Capita\"\n",
    "folds = k_fold(5,df_test)\n",
    "out = cv(folds, response)\n",
    "print(\"test errors:\", out[0])\n",
    "print(\"     \")\n",
    "print(\"rmse:\", out[1])\n",
    "IPC = out[1]"
   ]
  },
  {
   "cell_type": "code",
   "execution_count": 26,
   "metadata": {},
   "outputs": [
    {
     "name": "stdout",
     "output_type": "stream",
     "text": [
      "test errors: [-0.9629951993331423, -0.9794195993498143, -0.9315383647199776, -1.1144029128154345, -0.857402876428432]\n",
      "     \n",
      "rmse: 0.9844550728851774\n"
     ]
    }
   ],
   "source": [
    "# 1 predictor: Alcohol Type\n",
    "df_test = df[[\"Consolidated_Brandy\",\"Consolidated_Gin\",\"Consolidated_Rum\",\n",
    "              \"Consolidated_Schnapps\",\"Consolidated_Tequila\",\"Consolidated_Vodka\",\"Consolidated_Whiskey\"\n",
    "              ,\"Volume Sold (Gallons) Per Capita\"]]\n",
    "df_test = standardize(df_test)\n",
    "response = \"Volume Sold (Gallons) Per Capita\"\n",
    "folds = k_fold(5,df_test)\n",
    "out = cv(folds, response)\n",
    "print(\"test errors:\", out[0])\n",
    "print(\"     \")\n",
    "print(\"rmse:\", out[1])\n",
    "ALC = out[1]"
   ]
  },
  {
   "cell_type": "code",
   "execution_count": 23,
   "metadata": {},
   "outputs": [
    {
     "data": {
      "text/html": [
       "<div>\n",
       "<style scoped>\n",
       "    .dataframe tbody tr th:only-of-type {\n",
       "        vertical-align: middle;\n",
       "    }\n",
       "\n",
       "    .dataframe tbody tr th {\n",
       "        vertical-align: top;\n",
       "    }\n",
       "\n",
       "    .dataframe thead th {\n",
       "        text-align: right;\n",
       "    }\n",
       "</style>\n",
       "<table border=\"1\" class=\"dataframe\">\n",
       "  <thead>\n",
       "    <tr style=\"text-align: right;\">\n",
       "      <th></th>\n",
       "      <th></th>\n",
       "      <th>Pack</th>\n",
       "      <th>State Bottle Cost</th>\n",
       "      <th>State Bottle Retail</th>\n",
       "      <th>Bottles Sold Per Capita</th>\n",
       "      <th>Alcohol Expense Per Capita</th>\n",
       "      <th>Volume Sold (Gallons) Per Capita</th>\n",
       "      <th>Consolidated_Brandy</th>\n",
       "      <th>Consolidated_Gin</th>\n",
       "      <th>Consolidated_Rum</th>\n",
       "      <th>Consolidated_Schnapps</th>\n",
       "      <th>Consolidated_Tequila</th>\n",
       "      <th>Consolidated_Vodka</th>\n",
       "      <th>Consolidated_Whiskey</th>\n",
       "      <th>Population</th>\n",
       "      <th>Income Per Capita</th>\n",
       "    </tr>\n",
       "    <tr>\n",
       "      <th>County</th>\n",
       "      <th>Month-Year</th>\n",
       "      <th></th>\n",
       "      <th></th>\n",
       "      <th></th>\n",
       "      <th></th>\n",
       "      <th></th>\n",
       "      <th></th>\n",
       "      <th></th>\n",
       "      <th></th>\n",
       "      <th></th>\n",
       "      <th></th>\n",
       "      <th></th>\n",
       "      <th></th>\n",
       "      <th></th>\n",
       "      <th></th>\n",
       "      <th></th>\n",
       "    </tr>\n",
       "  </thead>\n",
       "  <tbody>\n",
       "    <tr>\n",
       "      <th rowspan=\"5\" valign=\"top\">Adair</th>\n",
       "      <th>01-2012</th>\n",
       "      <td>10.411765</td>\n",
       "      <td>7.212647</td>\n",
       "      <td>10.852941</td>\n",
       "      <td>0.000914</td>\n",
       "      <td>0.009719</td>\n",
       "      <td>0.000267</td>\n",
       "      <td>0.000000</td>\n",
       "      <td>0.029412</td>\n",
       "      <td>0.088235</td>\n",
       "      <td>0.176471</td>\n",
       "      <td>0.00000</td>\n",
       "      <td>0.235294</td>\n",
       "      <td>0.323529</td>\n",
       "      <td>7468</td>\n",
       "      <td>42093</td>\n",
       "    </tr>\n",
       "    <tr>\n",
       "      <th>02-2012</th>\n",
       "      <td>10.394737</td>\n",
       "      <td>9.180263</td>\n",
       "      <td>13.802105</td>\n",
       "      <td>0.000927</td>\n",
       "      <td>0.011195</td>\n",
       "      <td>0.000250</td>\n",
       "      <td>0.052632</td>\n",
       "      <td>0.105263</td>\n",
       "      <td>0.052632</td>\n",
       "      <td>0.105263</td>\n",
       "      <td>0.00000</td>\n",
       "      <td>0.184211</td>\n",
       "      <td>0.394737</td>\n",
       "      <td>7468</td>\n",
       "      <td>42093</td>\n",
       "    </tr>\n",
       "    <tr>\n",
       "      <th>03-2012</th>\n",
       "      <td>12.307692</td>\n",
       "      <td>7.256923</td>\n",
       "      <td>10.931923</td>\n",
       "      <td>0.000917</td>\n",
       "      <td>0.009475</td>\n",
       "      <td>0.000196</td>\n",
       "      <td>0.076923</td>\n",
       "      <td>0.076923</td>\n",
       "      <td>0.153846</td>\n",
       "      <td>0.153846</td>\n",
       "      <td>0.00000</td>\n",
       "      <td>0.153846</td>\n",
       "      <td>0.346154</td>\n",
       "      <td>7468</td>\n",
       "      <td>42093</td>\n",
       "    </tr>\n",
       "    <tr>\n",
       "      <th>04-2012</th>\n",
       "      <td>12.142857</td>\n",
       "      <td>7.265238</td>\n",
       "      <td>10.922857</td>\n",
       "      <td>0.000969</td>\n",
       "      <td>0.010872</td>\n",
       "      <td>0.000235</td>\n",
       "      <td>0.071429</td>\n",
       "      <td>0.166667</td>\n",
       "      <td>0.047619</td>\n",
       "      <td>0.047619</td>\n",
       "      <td>0.00000</td>\n",
       "      <td>0.214286</td>\n",
       "      <td>0.309524</td>\n",
       "      <td>7468</td>\n",
       "      <td>42093</td>\n",
       "    </tr>\n",
       "    <tr>\n",
       "      <th>05-2012</th>\n",
       "      <td>10.238095</td>\n",
       "      <td>9.279286</td>\n",
       "      <td>13.990476</td>\n",
       "      <td>0.001011</td>\n",
       "      <td>0.013036</td>\n",
       "      <td>0.000260</td>\n",
       "      <td>0.023810</td>\n",
       "      <td>0.047619</td>\n",
       "      <td>0.000000</td>\n",
       "      <td>0.047619</td>\n",
       "      <td>0.02381</td>\n",
       "      <td>0.285714</td>\n",
       "      <td>0.476190</td>\n",
       "      <td>7468</td>\n",
       "      <td>42093</td>\n",
       "    </tr>\n",
       "  </tbody>\n",
       "</table>\n",
       "</div>"
      ],
      "text/plain": [
       "                        Pack  State Bottle Cost  State Bottle Retail  \\\n",
       "County Month-Year                                                      \n",
       "Adair  01-2012     10.411765           7.212647            10.852941   \n",
       "       02-2012     10.394737           9.180263            13.802105   \n",
       "       03-2012     12.307692           7.256923            10.931923   \n",
       "       04-2012     12.142857           7.265238            10.922857   \n",
       "       05-2012     10.238095           9.279286            13.990476   \n",
       "\n",
       "                   Bottles Sold Per Capita  Alcohol Expense Per Capita  \\\n",
       "County Month-Year                                                        \n",
       "Adair  01-2012                    0.000914                    0.009719   \n",
       "       02-2012                    0.000927                    0.011195   \n",
       "       03-2012                    0.000917                    0.009475   \n",
       "       04-2012                    0.000969                    0.010872   \n",
       "       05-2012                    0.001011                    0.013036   \n",
       "\n",
       "                   Volume Sold (Gallons) Per Capita  Consolidated_Brandy  \\\n",
       "County Month-Year                                                          \n",
       "Adair  01-2012                             0.000267             0.000000   \n",
       "       02-2012                             0.000250             0.052632   \n",
       "       03-2012                             0.000196             0.076923   \n",
       "       04-2012                             0.000235             0.071429   \n",
       "       05-2012                             0.000260             0.023810   \n",
       "\n",
       "                   Consolidated_Gin  Consolidated_Rum  Consolidated_Schnapps  \\\n",
       "County Month-Year                                                              \n",
       "Adair  01-2012             0.029412          0.088235               0.176471   \n",
       "       02-2012             0.105263          0.052632               0.105263   \n",
       "       03-2012             0.076923          0.153846               0.153846   \n",
       "       04-2012             0.166667          0.047619               0.047619   \n",
       "       05-2012             0.047619          0.000000               0.047619   \n",
       "\n",
       "                   Consolidated_Tequila  Consolidated_Vodka  \\\n",
       "County Month-Year                                             \n",
       "Adair  01-2012                  0.00000            0.235294   \n",
       "       02-2012                  0.00000            0.184211   \n",
       "       03-2012                  0.00000            0.153846   \n",
       "       04-2012                  0.00000            0.214286   \n",
       "       05-2012                  0.02381            0.285714   \n",
       "\n",
       "                   Consolidated_Whiskey  Population  Income Per Capita  \n",
       "County Month-Year                                                       \n",
       "Adair  01-2012                 0.323529        7468              42093  \n",
       "       02-2012                 0.394737        7468              42093  \n",
       "       03-2012                 0.346154        7468              42093  \n",
       "       04-2012                 0.309524        7468              42093  \n",
       "       05-2012                 0.476190        7468              42093  "
      ]
     },
     "execution_count": 23,
     "metadata": {},
     "output_type": "execute_result"
    }
   ],
   "source": [
    "df.head()"
   ]
  },
  {
   "cell_type": "code",
   "execution_count": 27,
   "metadata": {},
   "outputs": [
    {
     "data": {
      "text/html": [
       "<div>\n",
       "<style scoped>\n",
       "    .dataframe tbody tr th:only-of-type {\n",
       "        vertical-align: middle;\n",
       "    }\n",
       "\n",
       "    .dataframe tbody tr th {\n",
       "        vertical-align: top;\n",
       "    }\n",
       "\n",
       "    .dataframe thead th {\n",
       "        text-align: right;\n",
       "    }\n",
       "</style>\n",
       "<table border=\"1\" class=\"dataframe\">\n",
       "  <thead>\n",
       "    <tr style=\"text-align: right;\">\n",
       "      <th></th>\n",
       "      <th>Predictors</th>\n",
       "      <th>RMSE</th>\n",
       "    </tr>\n",
       "  </thead>\n",
       "  <tbody>\n",
       "    <tr>\n",
       "      <th>0</th>\n",
       "      <td>State Bottle Cost</td>\n",
       "      <td>1.004917</td>\n",
       "    </tr>\n",
       "    <tr>\n",
       "      <th>1</th>\n",
       "      <td>State Bottle Retail</td>\n",
       "      <td>1.004942</td>\n",
       "    </tr>\n",
       "    <tr>\n",
       "      <th>2</th>\n",
       "      <td>Bottles Sold Per Capita</td>\n",
       "      <td>0.465390</td>\n",
       "    </tr>\n",
       "    <tr>\n",
       "      <th>3</th>\n",
       "      <td>Pack</td>\n",
       "      <td>0.997771</td>\n",
       "    </tr>\n",
       "    <tr>\n",
       "      <th>4</th>\n",
       "      <td>Alcohol Expense Per Capita</td>\n",
       "      <td>0.337277</td>\n",
       "    </tr>\n",
       "    <tr>\n",
       "      <th>5</th>\n",
       "      <td>Population</td>\n",
       "      <td>0.998580</td>\n",
       "    </tr>\n",
       "    <tr>\n",
       "      <th>6</th>\n",
       "      <td>Income Per Capita</td>\n",
       "      <td>1.006193</td>\n",
       "    </tr>\n",
       "    <tr>\n",
       "      <th>7</th>\n",
       "      <td>Alcohol Type</td>\n",
       "      <td>0.984455</td>\n",
       "    </tr>\n",
       "  </tbody>\n",
       "</table>\n",
       "</div>"
      ],
      "text/plain": [
       "                   Predictors      RMSE\n",
       "0           State Bottle Cost  1.004917\n",
       "1         State Bottle Retail  1.004942\n",
       "2     Bottles Sold Per Capita  0.465390\n",
       "3                        Pack  0.997771\n",
       "4  Alcohol Expense Per Capita  0.337277\n",
       "5                  Population  0.998580\n",
       "6           Income Per Capita  1.006193\n",
       "7                Alcohol Type  0.984455"
      ]
     },
     "execution_count": 27,
     "metadata": {},
     "output_type": "execute_result"
    }
   ],
   "source": [
    "data = {\"Predictors\": [\"State Bottle Cost\", \"State Bottle Retail\",\"Bottles Sold Per Capita\",\n",
    "                       \"Pack\", \"Alcohol Expense Per Capita\",\"Population\",\"Income Per Capita\",\"Alcohol Type\"],\n",
    "       \"RMSE\": [SBC, SBR, BSPC,PCK,AEPC,PPLN,IPC,ALC],}\n",
    "one_predictor = pd.DataFrame(data, columns = [\"Predictors\", \"RMSE\"])\n",
    "one_predictor"
   ]
  },
  {
   "cell_type": "markdown",
   "metadata": {},
   "source": [
    "# Best individual predictors: Bottles Sold Per Capita, Alcohol Expense Per Capita"
   ]
  },
  {
   "cell_type": "code",
   "execution_count": 28,
   "metadata": {},
   "outputs": [
    {
     "name": "stdout",
     "output_type": "stream",
     "text": [
      "test errors: [-0.11509833770018532, -0.2216694713439997, -0.06495323757600613, -0.07904958959377788, -0.07311297055727588]\n",
      "     \n",
      "rmse: 0.3328313707483851\n"
     ]
    }
   ],
   "source": [
    "# 2 predictors: Bottles Sold Per Capita, Alcohol Expense Per Capita\n",
    "df_test = df[[\"Bottles Sold Per Capita\",\"Alcohol Expense Per Capita\",\n",
    "              \"Volume Sold (Gallons) Per Capita\"]]\n",
    "df_test = standardize(df_test)\n",
    "response = \"Volume Sold (Gallons) Per Capita\"\n",
    "folds = k_fold(5,df_test)\n",
    "out = cv(folds, response)\n",
    "print(\"test errors:\", out[0])\n",
    "print(\"     \")\n",
    "print(\"rmse:\", out[1])\n",
    "two_pr = out[1] "
   ]
  },
  {
   "cell_type": "markdown",
   "metadata": {},
   "source": [
    "# Next 4: State Bottle Cost, State Bottle Retail, Income Per Capita, Population equal weight "
   ]
  },
  {
   "cell_type": "code",
   "execution_count": 29,
   "metadata": {},
   "outputs": [
    {
     "name": "stdout",
     "output_type": "stream",
     "text": [
      "test errors: [-0.10879356872897247, -0.20652268922085334, -0.06198884357339169, -0.07442765892689193, -0.07637206200503088]\n",
      "     \n",
      "rmse: 0.3249937914653572\n"
     ]
    }
   ],
   "source": [
    "# 3 predictors: Bottles Sold Per Capita, Alcohol Expense Per Capita, \"State Bottle Cost\"\n",
    "df_test = df[[\"Bottles Sold Per Capita\",\"Alcohol Expense Per Capita\",\"State Bottle Cost\",\n",
    "              \"Volume Sold (Gallons) Per Capita\"]]\n",
    "df_test = standardize(df_test)\n",
    "response = \"Volume Sold (Gallons) Per Capita\"\n",
    "folds = k_fold(5,df_test)\n",
    "out = cv(folds, response)\n",
    "print(\"test errors:\", out[0])\n",
    "print(\"     \")\n",
    "print(\"rmse:\", out[1])\n",
    "three_pr1 = out[1]"
   ]
  },
  {
   "cell_type": "code",
   "execution_count": 34,
   "metadata": {},
   "outputs": [
    {
     "name": "stdout",
     "output_type": "stream",
     "text": [
      "test errors: [-0.1089122809775263, -0.2066667144046591, -0.06199646464397562, -0.07448105219172522, -0.07630357655032742]\n",
      "     \n",
      "rmse: 0.32507232695762145\n"
     ]
    }
   ],
   "source": [
    "# 3 predictors: Bottles Sold Per Capita, Alcohol Expense Per Capita, \"State Bottle Retail\"\n",
    "df_test = df[[\"Bottles Sold Per Capita\",\"Alcohol Expense Per Capita\",\"State Bottle Retail\",\n",
    "              \"Volume Sold (Gallons) Per Capita\"]]\n",
    "df_test = standardize(df_test)\n",
    "response = \"Volume Sold (Gallons) Per Capita\"\n",
    "folds = k_fold(5,df_test)\n",
    "out = cv(folds, response)\n",
    "print(\"test errors:\", out[0])\n",
    "print(\"     \")\n",
    "print(\"rmse:\", out[1])\n",
    "three_pr2 = out[1]"
   ]
  },
  {
   "cell_type": "code",
   "execution_count": 31,
   "metadata": {},
   "outputs": [
    {
     "name": "stdout",
     "output_type": "stream",
     "text": [
      "test errors: [-0.11529065747753571, -0.22146359991785178, -0.06490147684816104, -0.0790757936403506, -0.07319556383565741]\n",
      "     \n",
      "rmse: 0.3328444356511181\n"
     ]
    }
   ],
   "source": [
    "# 3 predictors: Bottles Sold Per Capita, Alcohol Expense Per Capita, Income Per Capita\n",
    "df_test = df[[\"Bottles Sold Per Capita\",\"Alcohol Expense Per Capita\",\"Income Per Capita\",\n",
    "              \"Volume Sold (Gallons) Per Capita\"]]\n",
    "df_test = standardize(df_test)\n",
    "response = \"Volume Sold (Gallons) Per Capita\"\n",
    "folds = k_fold(5,df_test)\n",
    "out = cv(folds, response)\n",
    "print(\"test errors:\", out[0])\n",
    "print(\"     \")\n",
    "print(\"rmse:\", out[1])"
   ]
  },
  {
   "cell_type": "code",
   "execution_count": 35,
   "metadata": {},
   "outputs": [
    {
     "name": "stdout",
     "output_type": "stream",
     "text": [
      "test errors: [-0.11518453028863929, -0.2239333863673788, -0.06507912369773661, -0.07924234076781206, -0.07311599978306131]\n",
      "     \n",
      "rmse: 0.33363314610650663\n"
     ]
    }
   ],
   "source": [
    "# 3 predictors: Bottles Sold Per Capita, Alcohol Expense Per Capita, Population\n",
    "df_test = df[[\"Bottles Sold Per Capita\",\"Alcohol Expense Per Capita\",\"Population\",\n",
    "              \"Volume Sold (Gallons) Per Capita\"]]\n",
    "df_test = standardize(df_test)\n",
    "response = \"Volume Sold (Gallons) Per Capita\"\n",
    "folds = k_fold(5,df_test)\n",
    "out = cv(folds, response)\n",
    "print(\"test errors:\", out[0])\n",
    "print(\"     \")\n",
    "print(\"rmse:\", out[1])"
   ]
  },
  {
   "cell_type": "code",
   "execution_count": 36,
   "metadata": {},
   "outputs": [
    {
     "name": "stdout",
     "output_type": "stream",
     "text": [
      "test errors: [-0.11202977357161574, -0.2203555770603934, -0.06218798876933332, -0.07766456484269385, -0.07089413444536813]\n",
      "     \n",
      "rmse: 0.32958520558101645\n"
     ]
    }
   ],
   "source": [
    "# 3 predictors: Bottles Sold Per Capita, Alcohol Expense Per Capita, Alcohol Type\n",
    "df_test = df[[\"Bottles Sold Per Capita\",\"Alcohol Expense Per Capita\",\"Consolidated_Brandy\",\"Consolidated_Gin\",\n",
    "              \"Consolidated_Rum\",\"Consolidated_Schnapps\",\"Consolidated_Tequila\",\n",
    "              \"Consolidated_Vodka\",\"Consolidated_Whiskey\", \"Volume Sold (Gallons) Per Capita\"]]\n",
    "df_test = standardize(df_test)\n",
    "response = \"Volume Sold (Gallons) Per Capita\"\n",
    "folds = k_fold(5,df_test)\n",
    "out = cv(folds, response)\n",
    "print(\"test errors:\", out[0])\n",
    "print(\"     \")\n",
    "print(\"rmse:\", out[1])"
   ]
  },
  {
   "cell_type": "code",
   "execution_count": 77,
   "metadata": {},
   "outputs": [
    {
     "name": "stdout",
     "output_type": "stream",
     "text": [
      "test errors: [-0.0961233206643123, -0.16654138502141044, -0.06556420326593741, -0.07619350069400117, -0.06476600642194509]\n",
      "     \n",
      "rmse: 0.3063293704715911\n"
     ]
    }
   ],
   "source": [
    "# 3 predictors: Bottles Sold Per Capita, Alcohol Expense Per Capita, Pack\n",
    "df_test = df[[\"Bottles Sold Per Capita\",\"Alcohol Expense Per Capita\",\"Pack\", \"Volume Sold (Gallons) Per Capita\"]]\n",
    "df_test = standardize(df_test)\n",
    "response = \"Volume Sold (Gallons) Per Capita\"\n",
    "folds = k_fold(5,df_test)\n",
    "out = cv(folds, response)\n",
    "print(\"test errors:\", out[0])\n",
    "print(\"     \")\n",
    "print(\"rmse:\", out[1])\n",
    "three_pr3 = out[1]"
   ]
  },
  {
   "cell_type": "markdown",
   "metadata": {},
   "source": [
    "# Best 3 Predictor Model:  Bottles Sold Per Capita * Alcohol Expense Per Capita * Pack"
   ]
  },
  {
   "cell_type": "code",
   "execution_count": 46,
   "metadata": {},
   "outputs": [
    {
     "name": "stdout",
     "output_type": "stream",
     "text": [
      "test errors: [-0.09471190216199663, -0.1676153521086821, -0.06440260527321835, -0.0822206523816739, -0.06403715606138516]\n",
      "     \n",
      "rmse: 0.3075671204751757\n"
     ]
    }
   ],
   "source": [
    "# 4 predictors: Bottles Sold Per Capita, Alcohol Expense Per Capita, Pack, Population\n",
    "df_test = df[[\"Bottles Sold Per Capita\",\"Alcohol Expense Per Capita\", \"Pack\",\"Population\",\n",
    "              \"Volume Sold (Gallons) Per Capita\"]]\n",
    "df_test = standardize(df_test)\n",
    "response = \"Volume Sold (Gallons) Per Capita\"\n",
    "folds = k_fold(5,df_test)\n",
    "out = cv(folds, response)\n",
    "print(\"test errors:\", out[0])\n",
    "print(\"     \")\n",
    "print(\"rmse:\", out[1])"
   ]
  },
  {
   "cell_type": "code",
   "execution_count": 47,
   "metadata": {},
   "outputs": [
    {
     "name": "stdout",
     "output_type": "stream",
     "text": [
      "test errors: [-0.08901188009080693, -0.15043159124781944, -0.060405760539963514, -0.07141701769664051, -0.06669395950326094]\n",
      "     \n",
      "rmse: 0.2959595273271301\n"
     ]
    }
   ],
   "source": [
    "# 4 predictors: Bottles Sold Per Capita, Alcohol Expense Per Capita, Pack, State Bottle Retail\n",
    "df_test = df[[\"Bottles Sold Per Capita\",\"Alcohol Expense Per Capita\", \"Pack\",\"State Bottle Retail\",\n",
    "              \"Volume Sold (Gallons) Per Capita\"]]\n",
    "df_test = standardize(df_test)\n",
    "response = \"Volume Sold (Gallons) Per Capita\"\n",
    "folds = k_fold(5,df_test)\n",
    "out = cv(folds, response)\n",
    "print(\"test errors:\", out[0])\n",
    "print(\"     \")\n",
    "print(\"rmse:\", out[1])\n",
    "four_pr1 = out[1]"
   ]
  },
  {
   "cell_type": "code",
   "execution_count": 48,
   "metadata": {},
   "outputs": [
    {
     "name": "stdout",
     "output_type": "stream",
     "text": [
      "test errors: [-0.09614717200690252, -0.16654672246623126, -0.06556145136657818, -0.0766042878340654, -0.06480542316384276]\n",
      "     \n",
      "rmse: 0.30648492845085223\n"
     ]
    }
   ],
   "source": [
    "# 4 predictors: Bottles Sold Per Capita, Alcohol Expense Per Capita, Pack, Income Per Capita\n",
    "df_test = df[[\"Bottles Sold Per Capita\",\"Alcohol Expense Per Capita\",\"Pack\", \"Income Per Capita\",\n",
    "              \"Volume Sold (Gallons) Per Capita\"]]\n",
    "df_test = standardize(df_test)\n",
    "response = \"Volume Sold (Gallons) Per Capita\"\n",
    "folds = k_fold(5,df_test)\n",
    "out = cv(folds, response)\n",
    "print(\"test errors:\", out[0])\n",
    "print(\"     \")\n",
    "print(\"rmse:\", out[1])"
   ]
  },
  {
   "cell_type": "code",
   "execution_count": 49,
   "metadata": {},
   "outputs": [
    {
     "name": "stdout",
     "output_type": "stream",
     "text": [
      "test errors: [-0.08893053447921008, -0.15041174213050024, -0.0604113114510344, -0.07140304341212529, -0.06673140226588188]\n",
      "     \n",
      "rmse: 0.2959351394271224\n"
     ]
    }
   ],
   "source": [
    "# 4 predictors: Bottles Sold Per Capita, Alcohol Expense Per Capita, Pack, State Bottle Cost\n",
    "df_test = df[[\"Bottles Sold Per Capita\",\"Alcohol Expense Per Capita\",\"Pack\", \"State Bottle Cost\",\n",
    "              \"Volume Sold (Gallons) Per Capita\"]]\n",
    "df_test = standardize(df_test)\n",
    "response = \"Volume Sold (Gallons) Per Capita\"\n",
    "folds = k_fold(5,df_test)\n",
    "out = cv(folds, response)\n",
    "print(\"test errors:\", out[0])\n",
    "print(\"     \")\n",
    "print(\"rmse:\", out[1])\n",
    "four_pr2 = out[1]"
   ]
  },
  {
   "cell_type": "code",
   "execution_count": 51,
   "metadata": {},
   "outputs": [
    {
     "name": "stdout",
     "output_type": "stream",
     "text": [
      "test errors: [-0.09409725496833488, -0.16847894760246784, -0.0640314307225898, -0.0771304816198723, -0.06351742973543491]\n",
      "     \n",
      "rmse: 0.3056977411263288\n"
     ]
    }
   ],
   "source": [
    "# 4 predictors: Bottles Sold Per Capita, Alcohol Expense Per Capita, Pack, Alcohol Type\n",
    "df_test = df[[\"Bottles Sold Per Capita\",\"Alcohol Expense Per Capita\",\"Pack\", \"Consolidated_Brandy\",\n",
    "              \"Consolidated_Gin\", \"Consolidated_Rum\",\"Consolidated_Schnapps\",\"Consolidated_Tequila\",\n",
    "              \"Consolidated_Vodka\",\"Consolidated_Whiskey\", \"Volume Sold (Gallons) Per Capita\"]]\n",
    "df_test = standardize(df_test)\n",
    "response = \"Volume Sold (Gallons) Per Capita\"\n",
    "folds = k_fold(5,df_test)\n",
    "out = cv(folds, response)\n",
    "print(\"test errors:\", out[0])\n",
    "print(\"     \")\n",
    "print(\"rmse:\", out[1])"
   ]
  },
  {
   "cell_type": "markdown",
   "metadata": {},
   "source": [
    "# Best 4 Predictor Model:  Bottles Sold Per Capita * Alcohol Expense Per Capita * Pack * State Bottle Cost"
   ]
  },
  {
   "cell_type": "code",
   "execution_count": 58,
   "metadata": {},
   "outputs": [
    {
     "name": "stdout",
     "output_type": "stream",
     "text": [
      "test errors: [-0.08877734904795793, -0.15068246633424306, -0.0607304095192721, -0.07137725943127961, -0.06683158173614896]\n",
      "     \n",
      "rmse: 0.29610777297089036\n"
     ]
    }
   ],
   "source": [
    "# 5 predictors: Bottles Sold Per Capita, Alcohol Expense Per Capita, Pack, State Bottle Cost, State Bottle Retail\n",
    "df_test = df[[\"Bottles Sold Per Capita\",\"Alcohol Expense Per Capita\",\"Pack\",\n",
    "              \"State Bottle Retail\",\"State Bottle Cost\",\n",
    "              \"Volume Sold (Gallons) Per Capita\"]]\n",
    "df_test = standardize(df_test)\n",
    "response = \"Volume Sold (Gallons) Per Capita\"\n",
    "folds = k_fold(5,df_test)\n",
    "out = cv(folds, response)\n",
    "print(\"test errors:\", out[0])\n",
    "print(\"     \")\n",
    "print(\"rmse:\", out[1])\n",
    "five_pr1 = out[1]"
   ]
  },
  {
   "cell_type": "code",
   "execution_count": 62,
   "metadata": {},
   "outputs": [
    {
     "name": "stdout",
     "output_type": "stream",
     "text": [
      "test errors: [-0.0890190880839801, -0.14990482163419983, -0.06022101247068385, -0.07107352294014328, -0.06772153154713698]\n",
      "     \n",
      "rmse: 0.29595269104238403\n"
     ]
    }
   ],
   "source": [
    "# 5 predictors: Bottles Sold Per Capita, Alcohol Expense Per Capita, Pack, State Bottle Cost, Income Per capita\n",
    "df_test = df[[\"Bottles Sold Per Capita\",\"Alcohol Expense Per Capita\",\"Pack\", \n",
    "              \"State Bottle Cost\",\"Income Per Capita\",\n",
    "              \"Volume Sold (Gallons) Per Capita\"]]\n",
    "df_test = standardize(df_test)\n",
    "response = \"Volume Sold (Gallons) Per Capita\"\n",
    "folds = k_fold(5,df_test)\n",
    "out = cv(folds, response)\n",
    "print(\"test errors:\", out[0])\n",
    "print(\"     \")\n",
    "print(\"rmse:\", out[1])\n",
    "five_pr2 = out[1]"
   ]
  },
  {
   "cell_type": "code",
   "execution_count": 60,
   "metadata": {},
   "outputs": [
    {
     "name": "stdout",
     "output_type": "stream",
     "text": [
      "test errors: [-0.08870737557503605, -0.1533167976198501, -0.06033552136813968, -0.07286496743870595, -0.06599325979091894]\n",
      "     \n",
      "rmse: 0.2970582171200288\n"
     ]
    }
   ],
   "source": [
    "# 5 predictors: Bottles Sold Per Capita, Alcohol Expense Per Capita, Pack, State Bottle Cost, Alcohol Type\n",
    "df_test = df[[\"Bottles Sold Per Capita\",\"Alcohol Expense Per Capita\",\"Pack\", \n",
    "              \"State Bottle Cost\",\"Consolidated_Brandy\",\"Consolidated_Gin\", \"Consolidated_Rum\",\n",
    "              \"Consolidated_Schnapps\",\"Consolidated_Tequila\",\"Consolidated_Vodka\",\"Consolidated_Whiskey\",\n",
    "              \"Volume Sold (Gallons) Per Capita\"]]\n",
    "df_test = standardize(df_test)\n",
    "response = \"Volume Sold (Gallons) Per Capita\"\n",
    "folds = k_fold(5,df_test)\n",
    "out = cv(folds, response)\n",
    "print(\"test errors:\", out[0])\n",
    "print(\"     \")\n",
    "print(\"rmse:\", out[1])"
   ]
  },
  {
   "cell_type": "code",
   "execution_count": 61,
   "metadata": {},
   "outputs": [
    {
     "name": "stdout",
     "output_type": "stream",
     "text": [
      "test errors: [-0.08678506576540745, -0.15041844332501797, -0.05849275660080782, -0.08043563107832041, -0.06635788254056064]\n",
      "     \n",
      "rmse: 0.2974860599457105\n"
     ]
    }
   ],
   "source": [
    "# 5 predictors: Bottles Sold Per Capita, Alcohol Expense Per Capita, Pack, State Bottle Cost, Population\n",
    "df_test = df[[\"Bottles Sold Per Capita\",\"Alcohol Expense Per Capita\",\"Pack\", \n",
    "              \"State Bottle Cost\",\"Population\",\n",
    "              \"Volume Sold (Gallons) Per Capita\"]]\n",
    "df_test = standardize(df_test)\n",
    "response = \"Volume Sold (Gallons) Per Capita\"\n",
    "folds = k_fold(5,df_test)\n",
    "out = cv(folds, response)\n",
    "print(\"test errors:\", out[0])\n",
    "print(\"     \")\n",
    "print(\"rmse:\", out[1])"
   ]
  },
  {
   "cell_type": "markdown",
   "metadata": {},
   "source": [
    "# Best 5 Predictor Model:  Bottles Sold Per Capita * Alcohol Expense Per Capita * Income Per Capita * State Bottle Cost * Pack"
   ]
  },
  {
   "cell_type": "code",
   "execution_count": 65,
   "metadata": {},
   "outputs": [
    {
     "name": "stdout",
     "output_type": "stream",
     "text": [
      "test errors: [-0.08874017543676868, -0.15015726881009056, -0.06055169829292586, -0.07095665531291474, -0.06789194159633445]\n",
      "     \n",
      "rmse: 0.2960735514864623\n"
     ]
    }
   ],
   "source": [
    "# 6 predictors: State Bottle Cost, State Bottle Retail, Pack,\n",
    "#             Bottles Sold Per Capita, Alcohol Expense Per Capita, Income Per Capita\n",
    "\n",
    "df_test = df[[\"State Bottle Cost\",\"State Bottle Retail\",\"Pack\",\"Bottles Sold Per Capita\",\n",
    "              \"Alcohol Expense Per Capita\",\"Income Per Capita\",\"Volume Sold (Gallons) Per Capita\"]]\n",
    "df_test = standardize(df_test)\n",
    "response = \"Volume Sold (Gallons) Per Capita\"\n",
    "folds = k_fold(5,df_test)\n",
    "out = cv(folds, response)\n",
    "print(\"test errors:\", out[0])\n",
    "print(\"     \")\n",
    "print(\"rmse:\", out[1])\n",
    "six_pr1 = out[1]"
   ]
  },
  {
   "cell_type": "code",
   "execution_count": 66,
   "metadata": {},
   "outputs": [
    {
     "name": "stdout",
     "output_type": "stream",
     "text": [
      "test errors: [-0.08686782679146371, -0.1501020302001844, -0.05846549699426751, -0.08065992658218847, -0.06719813211115669]\n",
      "     \n",
      "rmse: 0.2977560789234237\n"
     ]
    }
   ],
   "source": [
    "# 6 predictors: State Bottle Cost, Population, Pack,\n",
    "#             Bottles Sold Per Capita, Alcohol Expense Per Capita, Income Per Capita\n",
    "\n",
    "df_test = df[[\"State Bottle Cost\",\"Income Per Capita\",\"Pack\",\"Bottles Sold Per Capita\",\n",
    "              \"Alcohol Expense Per Capita\",\"Population\",\"Volume Sold (Gallons) Per Capita\"]]\n",
    "df_test = standardize(df_test)\n",
    "response = \"Volume Sold (Gallons) Per Capita\"\n",
    "folds = k_fold(5,df_test)\n",
    "out = cv(folds, response)\n",
    "print(\"test errors:\", out[0])\n",
    "print(\"     \")\n",
    "print(\"rmse:\", out[1])"
   ]
  },
  {
   "cell_type": "code",
   "execution_count": 70,
   "metadata": {},
   "outputs": [
    {
     "name": "stdout",
     "output_type": "stream",
     "text": [
      "test errors: [-0.08874042875804973, -0.15279684181467842, -0.060030174348338995, -0.07233595325330561, -0.06689175097539964]\n",
      "     \n",
      "rmse: 0.29691586321709806\n"
     ]
    }
   ],
   "source": [
    "# 6 predictors: State Bottle Cost, Alcohol Type, Pack,\n",
    "#             Bottles Sold Per Capita, Alcohol Expense Per Capita, Income Per Capita\n",
    "\n",
    "df_test = df[[\"State Bottle Cost\",\"Income Per Capita\",\"Pack\",\"Bottles Sold Per Capita\",\n",
    "              \"Alcohol Expense Per Capita\",\"Consolidated_Brandy\",\"Consolidated_Gin\", \"Consolidated_Rum\",\n",
    "              \"Consolidated_Schnapps\",\"Consolidated_Tequila\",\"Consolidated_Vodka\",\"Consolidated_Whiskey\"\n",
    "              ,\"Volume Sold (Gallons) Per Capita\"]]\n",
    "df_test = standardize(df_test)\n",
    "response = \"Volume Sold (Gallons) Per Capita\"\n",
    "folds = k_fold(5,df_test)\n",
    "out = cv(folds, response)\n",
    "print(\"test errors:\", out[0])\n",
    "print(\"     \")\n",
    "print(\"rmse:\", out[1])\n",
    "six_pr2 = out[1]"
   ]
  },
  {
   "cell_type": "markdown",
   "metadata": {},
   "source": [
    "# Best 6 Predictor Model:  Bottles Sold Per Capita * Alcohol Expense Per Capita * Income Per Capita * State Bottle Cost * Pack * State Bottle Retail"
   ]
  },
  {
   "cell_type": "code",
   "execution_count": 74,
   "metadata": {},
   "outputs": [
    {
     "name": "stdout",
     "output_type": "stream",
     "text": [
      "test errors: [-0.08881588745950829, -0.15272726820746624, -0.06034497275960759, -0.07227620551978572, -0.06721433909934045]\n",
      "     \n",
      "rmse: 0.29711232658565623\n"
     ]
    }
   ],
   "source": [
    "# 7 predictors: State Bottle Cost, State Bottle Retail, Alcohol Type, Pack,\n",
    "#             Bottles Sold Per Capita, Alcohol Expense Per Capita, Income Per Capita\n",
    "\n",
    "df_test = df[[\"State Bottle Cost\",\"State Bottle Retail\",\"Pack\",\"Bottles Sold Per Capita\",\n",
    "              \"Alcohol Expense Per Capita\",\"Income Per Capita\",\"Consolidated_Brandy\",\"Consolidated_Gin\", \"Consolidated_Rum\",\n",
    "              \"Consolidated_Schnapps\",\"Consolidated_Tequila\",\"Consolidated_Vodka\",\"Consolidated_Whiskey\"\n",
    "              ,\"Volume Sold (Gallons) Per Capita\"]]\n",
    "df_test = standardize(df_test)\n",
    "response = \"Volume Sold (Gallons) Per Capita\"\n",
    "folds = k_fold(5,df_test)\n",
    "out = cv(folds, response)\n",
    "print(\"test errors:\", out[0])\n",
    "print(\"     \")\n",
    "print(\"rmse:\", out[1])\n",
    "seven_pr1 = out[1]"
   ]
  },
  {
   "cell_type": "code",
   "execution_count": 73,
   "metadata": {},
   "outputs": [
    {
     "name": "stdout",
     "output_type": "stream",
     "text": [
      "test errors: [-0.08671994331132094, -0.15028531316275365, -0.05882986961470365, -0.0804975952740483, -0.06732143930995241]\n",
      "     \n",
      "rmse: 0.2978772098273982\n"
     ]
    }
   ],
   "source": [
    "# 7 predictors: State Bottle Cost, State Bottle Retail, Population, Pack,\n",
    "#             Bottles Sold Per Capita, Alcohol Expense Per Capita, Income Per Capita\n",
    "\n",
    "df_test = df[[\"State Bottle Cost\",\"State Bottle Retail\",\"Pack\",\"Bottles Sold Per Capita\",\n",
    "              \"Alcohol Expense Per Capita\",\"Income Per Capita\",\"Population\",\n",
    "              \"Volume Sold (Gallons) Per Capita\"]]\n",
    "df_test = standardize(df_test)\n",
    "response = \"Volume Sold (Gallons) Per Capita\"\n",
    "folds = k_fold(5,df_test)\n",
    "out = cv(folds, response)\n",
    "print(\"test errors:\", out[0])\n",
    "print(\"     \")\n",
    "print(\"rmse:\", out[1])"
   ]
  },
  {
   "cell_type": "markdown",
   "metadata": {},
   "source": [
    "#  Best 7 Predictor Model:  Bottles Sold Per Capita * Alcohol Expense Per Capita * Income Per Capita * State Bottle Cost * Pack * State Bottle Retail * Alcohol Type"
   ]
  },
  {
   "cell_type": "code",
   "execution_count": 76,
   "metadata": {},
   "outputs": [
    {
     "name": "stdout",
     "output_type": "stream",
     "text": [
      "test errors: [-0.08698787582388236, -0.1533754758225358, -0.058787780673650564, -0.08118852310435215, -0.06686594821338296]\n",
      "     \n",
      "rmse: 0.2990670839921384\n"
     ]
    }
   ],
   "source": [
    "# 8 predictors: State Bottle Cost, State Bottle Retail, Alcohol Type, Pack,\n",
    "#             Bottles Sold Per Capita, Alcohol Expense Per Capita, Income Per Capita, Population\n",
    "\n",
    "df_test = df[[\"State Bottle Cost\",\"State Bottle Retail\",\"Pack\",\"Bottles Sold Per Capita\",\"Population\",\n",
    "              \"Alcohol Expense Per Capita\",\"Income Per Capita\",\"Consolidated_Brandy\",\"Consolidated_Gin\", \"Consolidated_Rum\",\n",
    "              \"Consolidated_Schnapps\",\"Consolidated_Tequila\",\"Consolidated_Vodka\",\"Consolidated_Whiskey\"\n",
    "              ,\"Volume Sold (Gallons) Per Capita\"]]\n",
    "df_test = standardize(df_test)\n",
    "response = \"Volume Sold (Gallons) Per Capita\"\n",
    "folds = k_fold(5,df_test)\n",
    "out = cv(folds, response)\n",
    "print(\"test errors:\", out[0])\n",
    "print(\"     \")\n",
    "print(\"rmse:\", out[1])\n",
    "eight_pr1 = out[1]"
   ]
  },
  {
   "cell_type": "markdown",
   "metadata": {},
   "source": [
    "# Best Models "
   ]
  },
  {
   "cell_type": "code",
   "execution_count": 75,
   "metadata": {},
   "outputs": [
    {
     "data": {
      "text/html": [
       "<div>\n",
       "<style scoped>\n",
       "    .dataframe tbody tr th:only-of-type {\n",
       "        vertical-align: middle;\n",
       "    }\n",
       "\n",
       "    .dataframe tbody tr th {\n",
       "        vertical-align: top;\n",
       "    }\n",
       "\n",
       "    .dataframe thead th {\n",
       "        text-align: right;\n",
       "    }\n",
       "</style>\n",
       "<table border=\"1\" class=\"dataframe\">\n",
       "  <thead>\n",
       "    <tr style=\"text-align: right;\">\n",
       "      <th></th>\n",
       "      <th>Predictors</th>\n",
       "      <th>RMSE</th>\n",
       "    </tr>\n",
       "  </thead>\n",
       "  <tbody>\n",
       "    <tr>\n",
       "      <th>0</th>\n",
       "      <td>State Bottle Cost</td>\n",
       "      <td>1.004917</td>\n",
       "    </tr>\n",
       "    <tr>\n",
       "      <th>1</th>\n",
       "      <td>State Bottle Retail</td>\n",
       "      <td>1.004942</td>\n",
       "    </tr>\n",
       "    <tr>\n",
       "      <th>2</th>\n",
       "      <td>Bottles Sold Per Capita</td>\n",
       "      <td>0.465390</td>\n",
       "    </tr>\n",
       "    <tr>\n",
       "      <th>3</th>\n",
       "      <td>Pack</td>\n",
       "      <td>0.997771</td>\n",
       "    </tr>\n",
       "    <tr>\n",
       "      <th>4</th>\n",
       "      <td>Alcohol Expense Per Capita</td>\n",
       "      <td>0.337277</td>\n",
       "    </tr>\n",
       "    <tr>\n",
       "      <th>5</th>\n",
       "      <td>Population</td>\n",
       "      <td>0.998580</td>\n",
       "    </tr>\n",
       "    <tr>\n",
       "      <th>6</th>\n",
       "      <td>Income Per Capita</td>\n",
       "      <td>1.006193</td>\n",
       "    </tr>\n",
       "    <tr>\n",
       "      <th>7</th>\n",
       "      <td>Alcohol Type</td>\n",
       "      <td>0.984455</td>\n",
       "    </tr>\n",
       "  </tbody>\n",
       "</table>\n",
       "</div>"
      ],
      "text/plain": [
       "                   Predictors      RMSE\n",
       "0           State Bottle Cost  1.004917\n",
       "1         State Bottle Retail  1.004942\n",
       "2     Bottles Sold Per Capita  0.465390\n",
       "3                        Pack  0.997771\n",
       "4  Alcohol Expense Per Capita  0.337277\n",
       "5                  Population  0.998580\n",
       "6           Income Per Capita  1.006193\n",
       "7                Alcohol Type  0.984455"
      ]
     },
     "execution_count": 75,
     "metadata": {},
     "output_type": "execute_result"
    }
   ],
   "source": [
    "data = {\"Predictors\": [\"State Bottle Cost\", \"State Bottle Retail\",\"Bottles Sold Per Capita\",\n",
    "                       \"Pack\", \"Alcohol Expense Per Capita\",\"Population\",\"Income Per Capita\", \"Alcohol Type\"],\n",
    "       \"RMSE\": [SBC, SBR, BSPC,PCK,AEPC,PPLN,IPC,ALC],}\n",
    "one_predictor = pd.DataFrame(data, columns = [\"Predictors\", \"RMSE\"])\n",
    "one_predictor"
   ]
  },
  {
   "cell_type": "code",
   "execution_count": 80,
   "metadata": {},
   "outputs": [
    {
     "data": {
      "text/html": [
       "<div>\n",
       "<style scoped>\n",
       "    .dataframe tbody tr th:only-of-type {\n",
       "        vertical-align: middle;\n",
       "    }\n",
       "\n",
       "    .dataframe tbody tr th {\n",
       "        vertical-align: top;\n",
       "    }\n",
       "\n",
       "    .dataframe thead th {\n",
       "        text-align: right;\n",
       "    }\n",
       "</style>\n",
       "<table border=\"1\" class=\"dataframe\">\n",
       "  <thead>\n",
       "    <tr style=\"text-align: right;\">\n",
       "      <th></th>\n",
       "      <th>Test</th>\n",
       "      <th>RMSE</th>\n",
       "      <th>Predictors</th>\n",
       "    </tr>\n",
       "  </thead>\n",
       "  <tbody>\n",
       "    <tr>\n",
       "      <th>0</th>\n",
       "      <td>Test 1</td>\n",
       "      <td>0.332831</td>\n",
       "      <td>BSPC*AEPC</td>\n",
       "    </tr>\n",
       "    <tr>\n",
       "      <th>1</th>\n",
       "      <td>Test 2</td>\n",
       "      <td>0.324994</td>\n",
       "      <td>BSPC*AEPC*SBC</td>\n",
       "    </tr>\n",
       "    <tr>\n",
       "      <th>2</th>\n",
       "      <td>Test 3</td>\n",
       "      <td>0.325072</td>\n",
       "      <td>BSPC*AEPC*SBR</td>\n",
       "    </tr>\n",
       "    <tr>\n",
       "      <th>3</th>\n",
       "      <td>Test 4</td>\n",
       "      <td>0.306329</td>\n",
       "      <td>BSPC*AEPC*PCK</td>\n",
       "    </tr>\n",
       "    <tr>\n",
       "      <th>4</th>\n",
       "      <td>Test 5</td>\n",
       "      <td>0.295960</td>\n",
       "      <td>BSPC*AEPC*PCK*SBR</td>\n",
       "    </tr>\n",
       "    <tr>\n",
       "      <th>5</th>\n",
       "      <td>Test 6</td>\n",
       "      <td>0.295935</td>\n",
       "      <td>BSPC*AEPC*PCK*SBC</td>\n",
       "    </tr>\n",
       "    <tr>\n",
       "      <th>6</th>\n",
       "      <td>Test 7</td>\n",
       "      <td>0.296108</td>\n",
       "      <td>BSPC*AEPC*PCK*SBC*SBR</td>\n",
       "    </tr>\n",
       "    <tr>\n",
       "      <th>7</th>\n",
       "      <td>Test 8</td>\n",
       "      <td>0.295953</td>\n",
       "      <td>BSPC*AEPC*PCK*SBC*IPC</td>\n",
       "    </tr>\n",
       "    <tr>\n",
       "      <th>8</th>\n",
       "      <td>Test 9</td>\n",
       "      <td>0.296074</td>\n",
       "      <td>BSPC*AEPC*PCK*SBC*IPC*SBR</td>\n",
       "    </tr>\n",
       "    <tr>\n",
       "      <th>9</th>\n",
       "      <td>Test 10</td>\n",
       "      <td>0.296916</td>\n",
       "      <td>BSPC*AEPC*PCK*SBC*IPC*ALC</td>\n",
       "    </tr>\n",
       "    <tr>\n",
       "      <th>10</th>\n",
       "      <td>Test 11</td>\n",
       "      <td>0.297112</td>\n",
       "      <td>BSPC*AEPC*PCK*SBC*IPC*SBR*ALC</td>\n",
       "    </tr>\n",
       "    <tr>\n",
       "      <th>11</th>\n",
       "      <td>Test 12</td>\n",
       "      <td>0.299067</td>\n",
       "      <td>BSPC*AEPC*PCK*SBC*IPC*SBR*ALC*PPLN</td>\n",
       "    </tr>\n",
       "  </tbody>\n",
       "</table>\n",
       "</div>"
      ],
      "text/plain": [
       "       Test      RMSE                          Predictors\n",
       "0    Test 1  0.332831                           BSPC*AEPC\n",
       "1    Test 2  0.324994                       BSPC*AEPC*SBC\n",
       "2    Test 3  0.325072                       BSPC*AEPC*SBR\n",
       "3    Test 4  0.306329                       BSPC*AEPC*PCK\n",
       "4    Test 5  0.295960                   BSPC*AEPC*PCK*SBR\n",
       "5    Test 6  0.295935                   BSPC*AEPC*PCK*SBC\n",
       "6    Test 7  0.296108               BSPC*AEPC*PCK*SBC*SBR\n",
       "7    Test 8  0.295953               BSPC*AEPC*PCK*SBC*IPC\n",
       "8    Test 9  0.296074           BSPC*AEPC*PCK*SBC*IPC*SBR\n",
       "9   Test 10  0.296916           BSPC*AEPC*PCK*SBC*IPC*ALC\n",
       "10  Test 11  0.297112       BSPC*AEPC*PCK*SBC*IPC*SBR*ALC\n",
       "11  Test 12  0.299067  BSPC*AEPC*PCK*SBC*IPC*SBR*ALC*PPLN"
      ]
     },
     "execution_count": 80,
     "metadata": {},
     "output_type": "execute_result"
    }
   ],
   "source": [
    "data = {\"Test\":[\"Test 1\", \"Test 2\", \"Test 3\", \"Test 4\", \"Test 5\", \"Test 6\", \"Test 7\", \"Test 8\",\n",
    "               \"Test 9\",\"Test 10\", \"Test 11\",\"Test 12\"],\n",
    "       \"RMSE\": [two_pr, three_pr1, three_pr2, three_pr3, four_pr1, four_pr2, five_pr1, \n",
    "                five_pr2, six_pr1, six_pr2, seven_pr1, eight_pr1],\n",
    "       \"Predictors\": [\"BSPC*AEPC\",\n",
    "                      \"BSPC*AEPC*SBC\",\n",
    "                      \"BSPC*AEPC*SBR\",\n",
    "                      \"BSPC*AEPC*PCK\",\n",
    "                      \"BSPC*AEPC*PCK*SBR\",\n",
    "                      \"BSPC*AEPC*PCK*SBC\",\n",
    "                      \"BSPC*AEPC*PCK*SBC*SBR\",\n",
    "                      \"BSPC*AEPC*PCK*SBC*IPC\",\n",
    "                      \"BSPC*AEPC*PCK*SBC*IPC*SBR\",\n",
    "                      \"BSPC*AEPC*PCK*SBC*IPC*ALC\",\n",
    "                      \"BSPC*AEPC*PCK*SBC*IPC*SBR*ALC\",\n",
    "                      \"BSPC*AEPC*PCK*SBC*IPC*SBR*ALC*PPLN\"],}\n",
    "models = pd.DataFrame(data, columns = [\"Test\", \"RMSE\", \"Predictors\"])\n",
    "models"
   ]
  },
  {
   "cell_type": "code",
   "execution_count": 83,
   "metadata": {},
   "outputs": [
    {
     "data": {
      "text/html": [
       "<div>\n",
       "<style scoped>\n",
       "    .dataframe tbody tr th:only-of-type {\n",
       "        vertical-align: middle;\n",
       "    }\n",
       "\n",
       "    .dataframe tbody tr th {\n",
       "        vertical-align: top;\n",
       "    }\n",
       "\n",
       "    .dataframe thead th {\n",
       "        text-align: right;\n",
       "    }\n",
       "</style>\n",
       "<table border=\"1\" class=\"dataframe\">\n",
       "  <thead>\n",
       "    <tr style=\"text-align: right;\">\n",
       "      <th></th>\n",
       "      <th>Predictor</th>\n",
       "      <th>Mapping</th>\n",
       "    </tr>\n",
       "  </thead>\n",
       "  <tbody>\n",
       "    <tr>\n",
       "      <th>0</th>\n",
       "      <td>BSPC</td>\n",
       "      <td>Bottles Sold Per Capita</td>\n",
       "    </tr>\n",
       "    <tr>\n",
       "      <th>1</th>\n",
       "      <td>AEPC</td>\n",
       "      <td>Alcohol Expense Per Capita</td>\n",
       "    </tr>\n",
       "    <tr>\n",
       "      <th>2</th>\n",
       "      <td>SBC</td>\n",
       "      <td>State Bottle Cost</td>\n",
       "    </tr>\n",
       "    <tr>\n",
       "      <th>3</th>\n",
       "      <td>PCK</td>\n",
       "      <td>Pack</td>\n",
       "    </tr>\n",
       "    <tr>\n",
       "      <th>4</th>\n",
       "      <td>PPLN</td>\n",
       "      <td>Population</td>\n",
       "    </tr>\n",
       "    <tr>\n",
       "      <th>5</th>\n",
       "      <td>SBR</td>\n",
       "      <td>State Bottle Retail</td>\n",
       "    </tr>\n",
       "    <tr>\n",
       "      <th>6</th>\n",
       "      <td>IPC</td>\n",
       "      <td>Income Per Capita</td>\n",
       "    </tr>\n",
       "    <tr>\n",
       "      <th>7</th>\n",
       "      <td>ALC</td>\n",
       "      <td>Alcohol Type</td>\n",
       "    </tr>\n",
       "  </tbody>\n",
       "</table>\n",
       "</div>"
      ],
      "text/plain": [
       "  Predictor                     Mapping\n",
       "0      BSPC     Bottles Sold Per Capita\n",
       "1      AEPC  Alcohol Expense Per Capita\n",
       "2       SBC           State Bottle Cost\n",
       "3       PCK                        Pack\n",
       "4      PPLN                  Population\n",
       "5       SBR         State Bottle Retail\n",
       "6       IPC           Income Per Capita\n",
       "7       ALC                Alcohol Type"
      ]
     },
     "execution_count": 83,
     "metadata": {},
     "output_type": "execute_result"
    }
   ],
   "source": [
    "data = {\"Predictor\": [\"BSPC\",\"AEPC\",\"SBC\",\"PCK\",\"PPLN\",\"SBR\",\"IPC\",\"ALC\"],\n",
    "       \"Mapping\": [\"Bottles Sold Per Capita\", \"Alcohol Expense Per Capita\", \"State Bottle Cost\",\"Pack\",\n",
    "                  \"Population\", \"State Bottle Retail\", \"Income Per Capita\",\"Alcohol Type\"],}\n",
    "mapping = pd.DataFrame(data, columns = [\"Predictor\", \"Mapping\"])\n",
    "mapping"
   ]
  }
 ],
 "metadata": {
  "kernelspec": {
   "display_name": "Python 3",
   "language": "python",
   "name": "python3"
  },
  "language_info": {
   "codemirror_mode": {
    "name": "ipython",
    "version": 3
   },
   "file_extension": ".py",
   "mimetype": "text/x-python",
   "name": "python",
   "nbconvert_exporter": "python",
   "pygments_lexer": "ipython3",
   "version": "3.7.3"
  }
 },
 "nbformat": 4,
 "nbformat_minor": 4
}

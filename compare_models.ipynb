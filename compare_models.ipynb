{
 "cells": [
  {
   "cell_type": "code",
   "execution_count": 1,
   "metadata": {},
   "outputs": [],
   "source": [
    "import pandas as pd\n",
    "import numpy as np\n",
    "from numpy.linalg import inv\n",
    "import sklearn\n",
    "import matplotlib.pyplot as plt"
   ]
  },
  {
   "cell_type": "code",
   "execution_count": 2,
   "metadata": {},
   "outputs": [],
   "source": [
    "# linear regression methodology\n",
    "class LR:\n",
    "    \n",
    "    def fit(self, X_train, y_train):\n",
    "        # create vector of ones...\n",
    "        ones = np.ones(shape=len(X_train))[..., None]\n",
    "        #...and add to feature matrix\n",
    "        X = np.concatenate((ones, X_train), 1)\n",
    "        #calculate coefficients using closed-form solution\n",
    "        self.coeffs = inv(X.transpose().dot(X)).dot(X.transpose()).dot(y_train)\n",
    "        \n",
    "    def predict(self, X_test):\n",
    "        ones = np.ones(shape=len(X_test))[..., None]\n",
    "        X_test = np.concatenate((ones, X_test), 1)\n",
    "        y_hat = X_test.dot(self.coeffs)\n",
    "        return y_hat\n"
   ]
  },
  {
   "cell_type": "code",
   "execution_count": 3,
   "metadata": {},
   "outputs": [
    {
     "data": {
      "text/plain": [
       "array([13.5724999 , 12.41648163, 11.26046336, 10.1044451 ,  8.94842683,\n",
       "        7.79240856,  6.6363903 ,  5.48037203,  4.32435376,  3.1683355 ,\n",
       "        2.01231723,  0.85629897])"
      ]
     },
     "execution_count": 3,
     "metadata": {},
     "output_type": "execute_result"
    }
   ],
   "source": [
    "# sklear linear regression example\n",
    "from sklearn.linear_model import LinearRegression\n",
    "\n",
    "data_dir = \"https://dlsun.github.io/pods/data/\"\n",
    "bordeaux_df = pd.read_csv(data_dir + \"bordeaux.csv\",\n",
    "                          index_col=\"year\")\n",
    "\n",
    "bordeaux_train = bordeaux_df.loc[:1980].copy()\n",
    "bordeaux_test = bordeaux_df.loc[1980:].copy()\n",
    "\n",
    "X_train = bordeaux_train[[\"age\"]]\n",
    "X_test = bordeaux_test[[\"age\"]]\n",
    "y_train = bordeaux_train[\"price\"]\n",
    "\n",
    "model = LinearRegression()\n",
    "model.fit(X=X_train, y=y_train)\n",
    "model.predict(X=X_test)"
   ]
  },
  {
   "cell_type": "code",
   "execution_count": 4,
   "metadata": {},
   "outputs": [
    {
     "data": {
      "text/plain": [
       "array([13.5724999 , 12.41648163, 11.26046336, 10.1044451 ,  8.94842683,\n",
       "        7.79240856,  6.6363903 ,  5.48037203,  4.32435376,  3.1683355 ,\n",
       "        2.01231723,  0.85629897])"
      ]
     },
     "execution_count": 4,
     "metadata": {},
     "output_type": "execute_result"
    }
   ],
   "source": [
    "# our linear regression example on same data\n",
    "model = LR()\n",
    "model.fit(X_train, y_train)\n",
    "model.predict(X_test)"
   ]
  },
  {
   "cell_type": "code",
   "execution_count": 5,
   "metadata": {},
   "outputs": [],
   "source": [
    "# cross validation methodology\n",
    "def k_fold(k, df):\n",
    "    n = len(df)\n",
    "    cut = int(n/k)\n",
    "    folds = []\n",
    "    start = 0\n",
    "    end = cut\n",
    "    for i in range(0, k):\n",
    "        fold = df[start: end]\n",
    "        folds.append(fold)\n",
    "        start += int(n/k)\n",
    "        end += int(n/k)\n",
    "    return folds\n",
    "\n",
    "def mse(actual, predicted):\n",
    "    return -(((actual - predicted)**2).mean())\n",
    "\n",
    "def cv(folds, response):\n",
    "    test_errors = []\n",
    "    for i in range(0, len(folds)):\n",
    "        X_train = pd.DataFrame()\n",
    "        Y_train = pd.Series(dtype=float)\n",
    "        for j in range(0, len(folds)):\n",
    "            if i == j:\n",
    "                X_test = folds[j].drop([response], axis=1)\n",
    "                Y_test = folds[j][response]\n",
    "            if i != j:\n",
    "                X_train = X_train.append(folds[j].drop([response], axis=1))\n",
    "                Y_train = Y_train.append(folds[j][response])\n",
    "    \n",
    "        model = LR()\n",
    "        model.fit(X_train, Y_train.transpose())\n",
    "        Y_pred = pd.DataFrame()\n",
    "        Y_pred = model.predict(X_test)\n",
    "        error = mse(Y_test, Y_pred) \n",
    "        test_errors.append(error)\n",
    "        rmse = np.sqrt(-sum(test_errors)/len(folds))\n",
    "    return test_errors, rmse"
   ]
  },
  {
   "cell_type": "code",
   "execution_count": 6,
   "metadata": {},
   "outputs": [
    {
     "name": "stdout",
     "output_type": "stream",
     "text": [
      "[-0.29898833 -0.27833086]\n",
      "0.5371844859149083\n"
     ]
    }
   ],
   "source": [
    "# sklearn cross validation example\n",
    "from sklearn.linear_model import LinearRegression\n",
    "from sklearn.model_selection import cross_val_score\n",
    "\n",
    "data_dir = \"https://dlsun.github.io/pods/data/\"\n",
    "bordeaux_df = pd.read_csv(data_dir + \"bordeaux.csv\",\n",
    "                          index_col=\"year\")\n",
    "\n",
    "bordeaux_train = bordeaux_df.loc[:1980].copy()\n",
    "bordeaux_train[\"log(price)\"] = np.log(bordeaux_train[\"price\"])\n",
    "bordeaux_train.drop([\"price\"], axis=1, inplace=True)\n",
    "\n",
    "model = LinearRegression()\n",
    "scores = cross_val_score(model, \n",
    "                         X=bordeaux_train[[\"win\", \"summer\"]],\n",
    "                         y=bordeaux_train[\"log(price)\"],\n",
    "                         scoring=\"neg_mean_squared_error\",\n",
    "                         cv=2)\n",
    "\n",
    "print(scores)\n",
    "print(np.sqrt(-scores).mean())"
   ]
  },
  {
   "cell_type": "code",
   "execution_count": 7,
   "metadata": {},
   "outputs": [
    {
     "name": "stdout",
     "output_type": "stream",
     "text": [
      "[-0.3261536583404905, -0.28766838705119696]\n",
      "0.5539955078300217\n"
     ]
    }
   ],
   "source": [
    "# our cross validation on same data\n",
    "bordeaux_train2 = bordeaux_train[[\"win\", \"summer\", \"log(price)\"]]\n",
    "folds = k_fold(2, bordeaux_train2)\n",
    "errs, rmse = cv(folds, \"log(price)\")\n",
    "print(errs)\n",
    "print(rmse)\n"
   ]
  },
  {
   "cell_type": "code",
   "execution_count": 8,
   "metadata": {},
   "outputs": [],
   "source": [
    "# Standardizing the Dataframe\n",
    "\n",
    "def standardize(df): \n",
    "    #standardize only quantitative variables\n",
    "    df_st = ((df.select_dtypes(float) - df.select_dtypes(float).mean()) / df.select_dtypes(float).std()) \n",
    "\n",
    "    #join the standardized quantites back with original df \n",
    "    df_st = df.select_dtypes(exclude=float).join(df_st)\n",
    "    return df_st "
   ]
  },
  {
   "cell_type": "code",
   "execution_count": 10,
   "metadata": {},
   "outputs": [],
   "source": [
    "df = pd.read_csv(\"iowa_month_county_main.csv\") \n",
    "df.set_index([\"County\", \"Month-Year\"], inplace=True)\n",
    "\n",
    "halfway = len(df)//2\n",
    "\n",
    "df_train = df.iloc[:halfway].copy()\n",
    "df_test = df.iloc[halfway:].copy()"
   ]
  },
  {
   "cell_type": "code",
   "execution_count": 11,
   "metadata": {},
   "outputs": [
    {
     "data": {
      "text/html": [
       "<div>\n",
       "<style scoped>\n",
       "    .dataframe tbody tr th:only-of-type {\n",
       "        vertical-align: middle;\n",
       "    }\n",
       "\n",
       "    .dataframe tbody tr th {\n",
       "        vertical-align: top;\n",
       "    }\n",
       "\n",
       "    .dataframe thead th {\n",
       "        text-align: right;\n",
       "    }\n",
       "</style>\n",
       "<table border=\"1\" class=\"dataframe\">\n",
       "  <thead>\n",
       "    <tr style=\"text-align: right;\">\n",
       "      <th></th>\n",
       "      <th></th>\n",
       "      <th>Pack</th>\n",
       "      <th>State Bottle Cost</th>\n",
       "      <th>State Bottle Retail</th>\n",
       "      <th>Bottles Sold Per Capita</th>\n",
       "      <th>Alcohol Expense Per Capita</th>\n",
       "      <th>Volume Sold (Gallons) Per Capita</th>\n",
       "      <th>Consolidated_Brandy</th>\n",
       "      <th>Consolidated_Gin</th>\n",
       "      <th>Consolidated_Rum</th>\n",
       "      <th>Consolidated_Schnapps</th>\n",
       "      <th>Consolidated_Tequila</th>\n",
       "      <th>Consolidated_Vodka</th>\n",
       "      <th>Consolidated_Whiskey</th>\n",
       "      <th>Population</th>\n",
       "      <th>Income Per Capita</th>\n",
       "    </tr>\n",
       "    <tr>\n",
       "      <th>County</th>\n",
       "      <th>Month-Year</th>\n",
       "      <th></th>\n",
       "      <th></th>\n",
       "      <th></th>\n",
       "      <th></th>\n",
       "      <th></th>\n",
       "      <th></th>\n",
       "      <th></th>\n",
       "      <th></th>\n",
       "      <th></th>\n",
       "      <th></th>\n",
       "      <th></th>\n",
       "      <th></th>\n",
       "      <th></th>\n",
       "      <th></th>\n",
       "      <th></th>\n",
       "    </tr>\n",
       "  </thead>\n",
       "  <tbody>\n",
       "    <tr>\n",
       "      <th rowspan=\"5\" valign=\"top\">Adair</th>\n",
       "      <th>01-2012</th>\n",
       "      <td>10.411765</td>\n",
       "      <td>7.212647</td>\n",
       "      <td>10.852941</td>\n",
       "      <td>0.000914</td>\n",
       "      <td>0.009719</td>\n",
       "      <td>0.000267</td>\n",
       "      <td>0.000000</td>\n",
       "      <td>0.029412</td>\n",
       "      <td>0.088235</td>\n",
       "      <td>0.176471</td>\n",
       "      <td>0.00000</td>\n",
       "      <td>0.235294</td>\n",
       "      <td>0.323529</td>\n",
       "      <td>7468</td>\n",
       "      <td>42093</td>\n",
       "    </tr>\n",
       "    <tr>\n",
       "      <th>02-2012</th>\n",
       "      <td>10.394737</td>\n",
       "      <td>9.180263</td>\n",
       "      <td>13.802105</td>\n",
       "      <td>0.000927</td>\n",
       "      <td>0.011195</td>\n",
       "      <td>0.000250</td>\n",
       "      <td>0.052632</td>\n",
       "      <td>0.105263</td>\n",
       "      <td>0.052632</td>\n",
       "      <td>0.105263</td>\n",
       "      <td>0.00000</td>\n",
       "      <td>0.184211</td>\n",
       "      <td>0.394737</td>\n",
       "      <td>7468</td>\n",
       "      <td>42093</td>\n",
       "    </tr>\n",
       "    <tr>\n",
       "      <th>03-2012</th>\n",
       "      <td>12.307692</td>\n",
       "      <td>7.256923</td>\n",
       "      <td>10.931923</td>\n",
       "      <td>0.000917</td>\n",
       "      <td>0.009475</td>\n",
       "      <td>0.000196</td>\n",
       "      <td>0.076923</td>\n",
       "      <td>0.076923</td>\n",
       "      <td>0.153846</td>\n",
       "      <td>0.153846</td>\n",
       "      <td>0.00000</td>\n",
       "      <td>0.153846</td>\n",
       "      <td>0.346154</td>\n",
       "      <td>7468</td>\n",
       "      <td>42093</td>\n",
       "    </tr>\n",
       "    <tr>\n",
       "      <th>04-2012</th>\n",
       "      <td>12.142857</td>\n",
       "      <td>7.265238</td>\n",
       "      <td>10.922857</td>\n",
       "      <td>0.000969</td>\n",
       "      <td>0.010872</td>\n",
       "      <td>0.000235</td>\n",
       "      <td>0.071429</td>\n",
       "      <td>0.166667</td>\n",
       "      <td>0.047619</td>\n",
       "      <td>0.047619</td>\n",
       "      <td>0.00000</td>\n",
       "      <td>0.214286</td>\n",
       "      <td>0.309524</td>\n",
       "      <td>7468</td>\n",
       "      <td>42093</td>\n",
       "    </tr>\n",
       "    <tr>\n",
       "      <th>05-2012</th>\n",
       "      <td>10.238095</td>\n",
       "      <td>9.279286</td>\n",
       "      <td>13.990476</td>\n",
       "      <td>0.001011</td>\n",
       "      <td>0.013036</td>\n",
       "      <td>0.000260</td>\n",
       "      <td>0.023810</td>\n",
       "      <td>0.047619</td>\n",
       "      <td>0.000000</td>\n",
       "      <td>0.047619</td>\n",
       "      <td>0.02381</td>\n",
       "      <td>0.285714</td>\n",
       "      <td>0.476190</td>\n",
       "      <td>7468</td>\n",
       "      <td>42093</td>\n",
       "    </tr>\n",
       "  </tbody>\n",
       "</table>\n",
       "</div>"
      ],
      "text/plain": [
       "                        Pack  State Bottle Cost  State Bottle Retail  \\\n",
       "County Month-Year                                                      \n",
       "Adair  01-2012     10.411765           7.212647            10.852941   \n",
       "       02-2012     10.394737           9.180263            13.802105   \n",
       "       03-2012     12.307692           7.256923            10.931923   \n",
       "       04-2012     12.142857           7.265238            10.922857   \n",
       "       05-2012     10.238095           9.279286            13.990476   \n",
       "\n",
       "                   Bottles Sold Per Capita  Alcohol Expense Per Capita  \\\n",
       "County Month-Year                                                        \n",
       "Adair  01-2012                    0.000914                    0.009719   \n",
       "       02-2012                    0.000927                    0.011195   \n",
       "       03-2012                    0.000917                    0.009475   \n",
       "       04-2012                    0.000969                    0.010872   \n",
       "       05-2012                    0.001011                    0.013036   \n",
       "\n",
       "                   Volume Sold (Gallons) Per Capita  Consolidated_Brandy  \\\n",
       "County Month-Year                                                          \n",
       "Adair  01-2012                             0.000267             0.000000   \n",
       "       02-2012                             0.000250             0.052632   \n",
       "       03-2012                             0.000196             0.076923   \n",
       "       04-2012                             0.000235             0.071429   \n",
       "       05-2012                             0.000260             0.023810   \n",
       "\n",
       "                   Consolidated_Gin  Consolidated_Rum  Consolidated_Schnapps  \\\n",
       "County Month-Year                                                              \n",
       "Adair  01-2012             0.029412          0.088235               0.176471   \n",
       "       02-2012             0.105263          0.052632               0.105263   \n",
       "       03-2012             0.076923          0.153846               0.153846   \n",
       "       04-2012             0.166667          0.047619               0.047619   \n",
       "       05-2012             0.047619          0.000000               0.047619   \n",
       "\n",
       "                   Consolidated_Tequila  Consolidated_Vodka  \\\n",
       "County Month-Year                                             \n",
       "Adair  01-2012                  0.00000            0.235294   \n",
       "       02-2012                  0.00000            0.184211   \n",
       "       03-2012                  0.00000            0.153846   \n",
       "       04-2012                  0.00000            0.214286   \n",
       "       05-2012                  0.02381            0.285714   \n",
       "\n",
       "                   Consolidated_Whiskey  Population  Income Per Capita  \n",
       "County Month-Year                                                       \n",
       "Adair  01-2012                 0.323529        7468              42093  \n",
       "       02-2012                 0.394737        7468              42093  \n",
       "       03-2012                 0.346154        7468              42093  \n",
       "       04-2012                 0.309524        7468              42093  \n",
       "       05-2012                 0.476190        7468              42093  "
      ]
     },
     "execution_count": 11,
     "metadata": {},
     "output_type": "execute_result"
    }
   ],
   "source": [
    "df_train.head()"
   ]
  },
  {
   "cell_type": "code",
   "execution_count": 12,
   "metadata": {},
   "outputs": [
    {
     "data": {
      "text/html": [
       "<div>\n",
       "<style scoped>\n",
       "    .dataframe tbody tr th:only-of-type {\n",
       "        vertical-align: middle;\n",
       "    }\n",
       "\n",
       "    .dataframe tbody tr th {\n",
       "        vertical-align: top;\n",
       "    }\n",
       "\n",
       "    .dataframe thead th {\n",
       "        text-align: right;\n",
       "    }\n",
       "</style>\n",
       "<table border=\"1\" class=\"dataframe\">\n",
       "  <thead>\n",
       "    <tr style=\"text-align: right;\">\n",
       "      <th></th>\n",
       "      <th></th>\n",
       "      <th>Pack</th>\n",
       "      <th>State Bottle Cost</th>\n",
       "      <th>State Bottle Retail</th>\n",
       "      <th>Bottles Sold Per Capita</th>\n",
       "      <th>Alcohol Expense Per Capita</th>\n",
       "      <th>Volume Sold (Gallons) Per Capita</th>\n",
       "      <th>Consolidated_Brandy</th>\n",
       "      <th>Consolidated_Gin</th>\n",
       "      <th>Consolidated_Rum</th>\n",
       "      <th>Consolidated_Schnapps</th>\n",
       "      <th>Consolidated_Tequila</th>\n",
       "      <th>Consolidated_Vodka</th>\n",
       "      <th>Consolidated_Whiskey</th>\n",
       "      <th>Population</th>\n",
       "      <th>Income Per Capita</th>\n",
       "    </tr>\n",
       "    <tr>\n",
       "      <th>County</th>\n",
       "      <th>Month-Year</th>\n",
       "      <th></th>\n",
       "      <th></th>\n",
       "      <th></th>\n",
       "      <th></th>\n",
       "      <th></th>\n",
       "      <th></th>\n",
       "      <th></th>\n",
       "      <th></th>\n",
       "      <th></th>\n",
       "      <th></th>\n",
       "      <th></th>\n",
       "      <th></th>\n",
       "      <th></th>\n",
       "      <th></th>\n",
       "      <th></th>\n",
       "    </tr>\n",
       "  </thead>\n",
       "  <tbody>\n",
       "    <tr>\n",
       "      <th rowspan=\"5\" valign=\"top\">Adair</th>\n",
       "      <th>01-2012</th>\n",
       "      <td>10.411765</td>\n",
       "      <td>7.212647</td>\n",
       "      <td>10.852941</td>\n",
       "      <td>0.000914</td>\n",
       "      <td>0.009719</td>\n",
       "      <td>0.000267</td>\n",
       "      <td>0.000000</td>\n",
       "      <td>0.029412</td>\n",
       "      <td>0.088235</td>\n",
       "      <td>0.176471</td>\n",
       "      <td>0.00000</td>\n",
       "      <td>0.235294</td>\n",
       "      <td>0.323529</td>\n",
       "      <td>7468</td>\n",
       "      <td>42093</td>\n",
       "    </tr>\n",
       "    <tr>\n",
       "      <th>02-2012</th>\n",
       "      <td>10.394737</td>\n",
       "      <td>9.180263</td>\n",
       "      <td>13.802105</td>\n",
       "      <td>0.000927</td>\n",
       "      <td>0.011195</td>\n",
       "      <td>0.000250</td>\n",
       "      <td>0.052632</td>\n",
       "      <td>0.105263</td>\n",
       "      <td>0.052632</td>\n",
       "      <td>0.105263</td>\n",
       "      <td>0.00000</td>\n",
       "      <td>0.184211</td>\n",
       "      <td>0.394737</td>\n",
       "      <td>7468</td>\n",
       "      <td>42093</td>\n",
       "    </tr>\n",
       "    <tr>\n",
       "      <th>03-2012</th>\n",
       "      <td>12.307692</td>\n",
       "      <td>7.256923</td>\n",
       "      <td>10.931923</td>\n",
       "      <td>0.000917</td>\n",
       "      <td>0.009475</td>\n",
       "      <td>0.000196</td>\n",
       "      <td>0.076923</td>\n",
       "      <td>0.076923</td>\n",
       "      <td>0.153846</td>\n",
       "      <td>0.153846</td>\n",
       "      <td>0.00000</td>\n",
       "      <td>0.153846</td>\n",
       "      <td>0.346154</td>\n",
       "      <td>7468</td>\n",
       "      <td>42093</td>\n",
       "    </tr>\n",
       "    <tr>\n",
       "      <th>04-2012</th>\n",
       "      <td>12.142857</td>\n",
       "      <td>7.265238</td>\n",
       "      <td>10.922857</td>\n",
       "      <td>0.000969</td>\n",
       "      <td>0.010872</td>\n",
       "      <td>0.000235</td>\n",
       "      <td>0.071429</td>\n",
       "      <td>0.166667</td>\n",
       "      <td>0.047619</td>\n",
       "      <td>0.047619</td>\n",
       "      <td>0.00000</td>\n",
       "      <td>0.214286</td>\n",
       "      <td>0.309524</td>\n",
       "      <td>7468</td>\n",
       "      <td>42093</td>\n",
       "    </tr>\n",
       "    <tr>\n",
       "      <th>05-2012</th>\n",
       "      <td>10.238095</td>\n",
       "      <td>9.279286</td>\n",
       "      <td>13.990476</td>\n",
       "      <td>0.001011</td>\n",
       "      <td>0.013036</td>\n",
       "      <td>0.000260</td>\n",
       "      <td>0.023810</td>\n",
       "      <td>0.047619</td>\n",
       "      <td>0.000000</td>\n",
       "      <td>0.047619</td>\n",
       "      <td>0.02381</td>\n",
       "      <td>0.285714</td>\n",
       "      <td>0.476190</td>\n",
       "      <td>7468</td>\n",
       "      <td>42093</td>\n",
       "    </tr>\n",
       "  </tbody>\n",
       "</table>\n",
       "</div>"
      ],
      "text/plain": [
       "                        Pack  State Bottle Cost  State Bottle Retail  \\\n",
       "County Month-Year                                                      \n",
       "Adair  01-2012     10.411765           7.212647            10.852941   \n",
       "       02-2012     10.394737           9.180263            13.802105   \n",
       "       03-2012     12.307692           7.256923            10.931923   \n",
       "       04-2012     12.142857           7.265238            10.922857   \n",
       "       05-2012     10.238095           9.279286            13.990476   \n",
       "\n",
       "                   Bottles Sold Per Capita  Alcohol Expense Per Capita  \\\n",
       "County Month-Year                                                        \n",
       "Adair  01-2012                    0.000914                    0.009719   \n",
       "       02-2012                    0.000927                    0.011195   \n",
       "       03-2012                    0.000917                    0.009475   \n",
       "       04-2012                    0.000969                    0.010872   \n",
       "       05-2012                    0.001011                    0.013036   \n",
       "\n",
       "                   Volume Sold (Gallons) Per Capita  Consolidated_Brandy  \\\n",
       "County Month-Year                                                          \n",
       "Adair  01-2012                             0.000267             0.000000   \n",
       "       02-2012                             0.000250             0.052632   \n",
       "       03-2012                             0.000196             0.076923   \n",
       "       04-2012                             0.000235             0.071429   \n",
       "       05-2012                             0.000260             0.023810   \n",
       "\n",
       "                   Consolidated_Gin  Consolidated_Rum  Consolidated_Schnapps  \\\n",
       "County Month-Year                                                              \n",
       "Adair  01-2012             0.029412          0.088235               0.176471   \n",
       "       02-2012             0.105263          0.052632               0.105263   \n",
       "       03-2012             0.076923          0.153846               0.153846   \n",
       "       04-2012             0.166667          0.047619               0.047619   \n",
       "       05-2012             0.047619          0.000000               0.047619   \n",
       "\n",
       "                   Consolidated_Tequila  Consolidated_Vodka  \\\n",
       "County Month-Year                                             \n",
       "Adair  01-2012                  0.00000            0.235294   \n",
       "       02-2012                  0.00000            0.184211   \n",
       "       03-2012                  0.00000            0.153846   \n",
       "       04-2012                  0.00000            0.214286   \n",
       "       05-2012                  0.02381            0.285714   \n",
       "\n",
       "                   Consolidated_Whiskey  Population  Income Per Capita  \n",
       "County Month-Year                                                       \n",
       "Adair  01-2012                 0.323529        7468              42093  \n",
       "       02-2012                 0.394737        7468              42093  \n",
       "       03-2012                 0.346154        7468              42093  \n",
       "       04-2012                 0.309524        7468              42093  \n",
       "       05-2012                 0.476190        7468              42093  "
      ]
     },
     "execution_count": 12,
     "metadata": {},
     "output_type": "execute_result"
    }
   ],
   "source": [
    "df.head()"
   ]
  },
  {
   "cell_type": "code",
   "execution_count": 13,
   "metadata": {},
   "outputs": [
    {
     "data": {
      "text/plain": [
       "array([[0.0001966],\n",
       "       [0.0001966],\n",
       "       [0.0001966],\n",
       "       [0.0001966],\n",
       "       [0.0001966]])"
      ]
     },
     "execution_count": 13,
     "metadata": {},
     "output_type": "execute_result"
    }
   ],
   "source": [
    "y_train = df_train[[\"Volume Sold (Gallons) Per Capita\"]]\n",
    "x_train = df_train[[\"State Bottle Cost\"]]\n",
    "x_test = df_train[[\"State Bottle Cost\"]]\n",
    "model_sk = LinearRegression()\n",
    "model.fit(x_train, y_train)\n",
    "model.predict(y_train)[0:5]"
   ]
  },
  {
   "cell_type": "code",
   "execution_count": null,
   "metadata": {},
   "outputs": [],
   "source": []
  },
  {
   "cell_type": "code",
   "execution_count": null,
   "metadata": {},
   "outputs": [],
   "source": []
  },
  {
   "cell_type": "code",
   "execution_count": 33,
   "metadata": {},
   "outputs": [
    {
     "name": "stdout",
     "output_type": "stream",
     "text": [
      "test errors: [-0.9254867554495261, -1.2307674008360305, -0.8498307518312769, -1.0110126386638136, -0.7771119786875998]\n",
      "     \n",
      "rmse: 0.9792047309391685\n"
     ]
    }
   ],
   "source": [
    "# 2 predictor: Alcohol Type , Pack\n",
    "df_test = df[[\"Pack\",\"Consolidated_Brandy\",\"Consolidated_Gin\",\"Consolidated_Rum\",\n",
    "              \"Consolidated_Schnapps\",\"Consolidated_Tequila\",\"Consolidated_Vodka\",\"Consolidated_Whiskey\",\n",
    "              \"Volume Sold (Gallons) Per Capita\"]]\n",
    "df_test = standardize(df_test)\n",
    "response = \"Volume Sold (Gallons) Per Capita\"\n",
    "folds = k_fold(5,df_test)\n",
    "out = cv(folds, response)\n",
    "print(\"test errors:\", out[0])\n",
    "print(\"     \")\n",
    "print(\"rmse:\", out[1])\n",
    "two_pr1 = out[1]"
   ]
  },
  {
   "cell_type": "code",
   "execution_count": 15,
   "metadata": {},
   "outputs": [
    {
     "name": "stdout",
     "output_type": "stream",
     "text": [
      "test errors: [-0.8773694342182153, -0.8631081291213494, -0.7725189018451611, -1.6866140664201947, -0.6821979193933909]\n",
      "     \n",
      "rmse: 0.9881101609636763\n"
     ]
    }
   ],
   "source": [
    "# 2 predictor: Alcohol Type , Population\n",
    "df_test = df[[\"Population\",\"Consolidated_Brandy\",\"Consolidated_Gin\",\"Consolidated_Rum\",\n",
    "              \"Consolidated_Schnapps\",\"Consolidated_Tequila\",\"Consolidated_Vodka\",\"Consolidated_Whiskey\",\n",
    "              \"Volume Sold (Gallons) Per Capita\"]]\n",
    "df_test = standardize(df_test)\n",
    "response = \"Volume Sold (Gallons) Per Capita\"\n",
    "folds = k_fold(5,df_test)\n",
    "out = cv(folds, response)\n",
    "print(\"test errors:\", out[0])\n",
    "print(\"     \")\n",
    "print(\"rmse:\", out[1])"
   ]
  },
  {
   "cell_type": "code",
   "execution_count": 34,
   "metadata": {},
   "outputs": [
    {
     "name": "stdout",
     "output_type": "stream",
     "text": [
      "test errors: [-0.9537573536958859, -0.9670576108582702, -0.9556266713260116, -1.1068673321201836, -0.8545164094117057]\n",
      "     \n",
      "rmse: 0.9836488578158425\n"
     ]
    }
   ],
   "source": [
    "# 2 predictor: Alcohol Type ,State Bottle Cost\n",
    "df_test = df[[\"State Bottle Cost\",\"Consolidated_Brandy\",\"Consolidated_Gin\",\"Consolidated_Rum\",\n",
    "              \"Consolidated_Schnapps\",\"Consolidated_Tequila\",\"Consolidated_Vodka\",\"Consolidated_Whiskey\",\n",
    "              \"Volume Sold (Gallons) Per Capita\"]]\n",
    "df_test = standardize(df_test)\n",
    "response = \"Volume Sold (Gallons) Per Capita\"\n",
    "folds = k_fold(5,df_test)\n",
    "out = cv(folds, response)\n",
    "print(\"test errors:\", out[0])\n",
    "print(\"     \")\n",
    "print(\"rmse:\", out[1])\n",
    "two_pr2 = out[1]"
   ]
  },
  {
   "cell_type": "code",
   "execution_count": 18,
   "metadata": {},
   "outputs": [
    {
     "name": "stdout",
     "output_type": "stream",
     "text": [
      "test errors: [-0.9543057367481765, -1.0311798863230497, -0.9239821870772892, -1.1106637354843147, -0.8544814985412479]\n",
      "     \n",
      "rmse: 0.9873816935890678\n"
     ]
    }
   ],
   "source": [
    "# 2 predictor: Alcohol Type , Income Per Capita\n",
    "df_test = df[[\"Income Per Capita\",\"Consolidated_Brandy\",\"Consolidated_Gin\",\"Consolidated_Rum\",\n",
    "              \"Consolidated_Schnapps\",\"Consolidated_Tequila\",\"Consolidated_Vodka\",\"Consolidated_Whiskey\",\n",
    "              \"Volume Sold (Gallons) Per Capita\"]]\n",
    "df_test = standardize(df_test)\n",
    "response = \"Volume Sold (Gallons) Per Capita\"\n",
    "folds = k_fold(5,df_test)\n",
    "out = cv(folds, response)\n",
    "print(\"test errors:\", out[0])\n",
    "print(\"     \")\n",
    "print(\"rmse:\", out[1])"
   ]
  },
  {
   "cell_type": "markdown",
   "metadata": {},
   "source": [
    "# 3 predictors"
   ]
  },
  {
   "cell_type": "code",
   "execution_count": 19,
   "metadata": {},
   "outputs": [
    {
     "name": "stdout",
     "output_type": "stream",
     "text": [
      "test errors: [-0.8589121089433139, -1.0304628871696424, -0.7298311503668754, -1.5752743765236101, -0.643924348708762]\n",
      "     \n",
      "rmse: 0.9837077687720275\n"
     ]
    }
   ],
   "source": [
    "# 3 predictor: Alcohol Type , pack, population\n",
    "df_test = df[[\"Pack\",\"Population\",\"Consolidated_Brandy\",\"Consolidated_Gin\",\"Consolidated_Rum\",\n",
    "              \"Consolidated_Schnapps\",\"Consolidated_Tequila\",\"Consolidated_Vodka\",\"Consolidated_Whiskey\",\n",
    "              \"Volume Sold (Gallons) Per Capita\"]]\n",
    "df_test = standardize(df_test)\n",
    "response = \"Volume Sold (Gallons) Per Capita\"\n",
    "folds = k_fold(5,df_test)\n",
    "out = cv(folds, response)\n",
    "print(\"test errors:\", out[0])\n",
    "print(\"     \")\n",
    "print(\"rmse:\", out[1])"
   ]
  },
  {
   "cell_type": "code",
   "execution_count": 35,
   "metadata": {},
   "outputs": [
    {
     "name": "stdout",
     "output_type": "stream",
     "text": [
      "test errors: [-0.8997131749854642, -1.1926797978808583, -0.8629289520893049, -0.9731970048233415, -0.7646743190782398]\n",
      "     \n",
      "rmse: 0.968833654334655\n"
     ]
    }
   ],
   "source": [
    "# 3 predictor: Alcohol Type , pack, state bottle cost\n",
    "df_test = df[[\"Pack\",\"State Bottle Cost\",\"Consolidated_Brandy\",\"Consolidated_Gin\",\"Consolidated_Rum\",\n",
    "              \"Consolidated_Schnapps\",\"Consolidated_Tequila\",\"Consolidated_Vodka\",\"Consolidated_Whiskey\",\n",
    "              \"Volume Sold (Gallons) Per Capita\"]]\n",
    "df_test = standardize(df_test)\n",
    "response = \"Volume Sold (Gallons) Per Capita\"\n",
    "folds = k_fold(5,df_test)\n",
    "out = cv(folds, response)\n",
    "print(\"test errors:\", out[0])\n",
    "print(\"     \")\n",
    "print(\"rmse:\", out[1])\n",
    "three_pr1 = out[1]"
   ]
  },
  {
   "cell_type": "code",
   "execution_count": 22,
   "metadata": {},
   "outputs": [
    {
     "name": "stdout",
     "output_type": "stream",
     "text": [
      "test errors: [-0.9250963099851784, -1.2521439823587541, -0.8463275106634496, -1.0098546470821597, -0.7767475879032553]\n",
      "     \n",
      "rmse: 0.980833323046561\n"
     ]
    }
   ],
   "source": [
    "# 3 predictor: Alcohol Type , pack, income per capita\n",
    "df_test = df[[\"Pack\",\"Income Per Capita\",\"Consolidated_Brandy\",\"Consolidated_Gin\",\"Consolidated_Rum\",\n",
    "              \"Consolidated_Schnapps\",\"Consolidated_Tequila\",\"Consolidated_Vodka\",\"Consolidated_Whiskey\",\n",
    "              \"Volume Sold (Gallons) Per Capita\"]]\n",
    "df_test = standardize(df_test)\n",
    "response = \"Volume Sold (Gallons) Per Capita\"\n",
    "folds = k_fold(5,df_test)\n",
    "out = cv(folds, response)\n",
    "print(\"test errors:\", out[0])\n",
    "print(\"     \")\n",
    "print(\"rmse:\", out[1])"
   ]
  },
  {
   "cell_type": "markdown",
   "metadata": {},
   "source": [
    "# 4 Predictors "
   ]
  },
  {
   "cell_type": "code",
   "execution_count": 23,
   "metadata": {},
   "outputs": [
    {
     "name": "stdout",
     "output_type": "stream",
     "text": [
      "test errors: [-0.8461424802584689, -1.01506291889793, -0.7521404432129077, -1.5285517080241617, -0.6397305370500027]\n",
      "     \n",
      "rmse: 0.9779190239936506\n"
     ]
    }
   ],
   "source": [
    "# 4 predictor: Alcohol Type , pack, state bottle cost, population\n",
    "df_test = df[[\"Pack\",\"State Bottle Cost\",\"Population\",\"Consolidated_Brandy\",\"Consolidated_Gin\",\"Consolidated_Rum\",\n",
    "              \"Consolidated_Schnapps\",\"Consolidated_Tequila\",\"Consolidated_Vodka\",\"Consolidated_Whiskey\",\n",
    "              \"Volume Sold (Gallons) Per Capita\"]]\n",
    "df_test = standardize(df_test)\n",
    "response = \"Volume Sold (Gallons) Per Capita\"\n",
    "folds = k_fold(5,df_test)\n",
    "out = cv(folds, response)\n",
    "print(\"test errors:\", out[0])\n",
    "print(\"     \")\n",
    "print(\"rmse:\", out[1])"
   ]
  },
  {
   "cell_type": "code",
   "execution_count": 36,
   "metadata": {},
   "outputs": [
    {
     "name": "stdout",
     "output_type": "stream",
     "text": [
      "test errors: [-0.8927918873580926, -1.2110895070212322, -0.8556926371410782, -0.9701630277634348, -0.765980931612602]\n",
      "     \n",
      "rmse: 0.9690942153265016\n"
     ]
    }
   ],
   "source": [
    "# 4 predictor: Alcohol Type , pack, state bottle cost, income per capita\n",
    "df_test = df[[\"Pack\",\"State Bottle Cost\",\"Income Per Capita\",\"Consolidated_Brandy\",\"Consolidated_Gin\",\"Consolidated_Rum\",\n",
    "              \"Consolidated_Schnapps\",\"Consolidated_Tequila\",\"Consolidated_Vodka\",\"Consolidated_Whiskey\",\n",
    "              \"Volume Sold (Gallons) Per Capita\"]]\n",
    "df_test = standardize(df_test)\n",
    "response = \"Volume Sold (Gallons) Per Capita\"\n",
    "folds = k_fold(5,df_test)\n",
    "out = cv(folds, response)\n",
    "print(\"test errors:\", out[0])\n",
    "print(\"     \")\n",
    "print(\"rmse:\", out[1])\n",
    "four_pr1 = out[1]"
   ]
  },
  {
   "cell_type": "markdown",
   "metadata": {},
   "source": [
    "# 5 predictors"
   ]
  },
  {
   "cell_type": "code",
   "execution_count": 37,
   "metadata": {},
   "outputs": [
    {
     "name": "stdout",
     "output_type": "stream",
     "text": [
      "test errors: [-0.8313726962489184, -1.0384801081593373, -0.7369555498648784, -1.5480487509304177, -0.6382749340559335]\n",
      "     \n",
      "rmse: 0.9790946878887135\n"
     ]
    }
   ],
   "source": [
    "# 5 predictor: Alcohol Type , pack, state bottle cost, income per capita\n",
    "df_test = df[[\"Pack\",\"State Bottle Cost\",\"Income Per Capita\",\"Consolidated_Brandy\",\"Consolidated_Gin\",\"Consolidated_Rum\",\n",
    "              \"Consolidated_Schnapps\",\"Consolidated_Tequila\",\"Consolidated_Vodka\",\"Consolidated_Whiskey\",\n",
    "              \"Population\",\"Volume Sold (Gallons) Per Capita\"]]\n",
    "df_test = standardize(df_test)\n",
    "response = \"Volume Sold (Gallons) Per Capita\"\n",
    "folds = k_fold(5,df_test)\n",
    "out = cv(folds, response)\n",
    "print(\"test errors:\", out[0])\n",
    "print(\"     \")\n",
    "print(\"rmse:\", out[1])\n",
    "five_pr = out[1]"
   ]
  },
  {
   "cell_type": "code",
   "execution_count": 32,
   "metadata": {},
   "outputs": [
    {
     "data": {
      "text/html": [
       "<div>\n",
       "<style scoped>\n",
       "    .dataframe tbody tr th:only-of-type {\n",
       "        vertical-align: middle;\n",
       "    }\n",
       "\n",
       "    .dataframe tbody tr th {\n",
       "        vertical-align: top;\n",
       "    }\n",
       "\n",
       "    .dataframe thead th {\n",
       "        text-align: right;\n",
       "    }\n",
       "</style>\n",
       "<table border=\"1\" class=\"dataframe\">\n",
       "  <thead>\n",
       "    <tr style=\"text-align: right;\">\n",
       "      <th></th>\n",
       "      <th>Predictors</th>\n",
       "      <th>RMSE</th>\n",
       "    </tr>\n",
       "  </thead>\n",
       "  <tbody>\n",
       "    <tr>\n",
       "      <th>0</th>\n",
       "      <td>State Bottle Cost</td>\n",
       "      <td>1.004917</td>\n",
       "    </tr>\n",
       "    <tr>\n",
       "      <th>1</th>\n",
       "      <td>Pack</td>\n",
       "      <td>0.997771</td>\n",
       "    </tr>\n",
       "    <tr>\n",
       "      <th>2</th>\n",
       "      <td>Population</td>\n",
       "      <td>0.998580</td>\n",
       "    </tr>\n",
       "    <tr>\n",
       "      <th>3</th>\n",
       "      <td>Income Per Capita</td>\n",
       "      <td>1.006193</td>\n",
       "    </tr>\n",
       "    <tr>\n",
       "      <th>4</th>\n",
       "      <td>Alcohol Type</td>\n",
       "      <td>0.984455</td>\n",
       "    </tr>\n",
       "  </tbody>\n",
       "</table>\n",
       "</div>"
      ],
      "text/plain": [
       "          Predictors      RMSE\n",
       "0  State Bottle Cost  1.004917\n",
       "1               Pack  0.997771\n",
       "2         Population  0.998580\n",
       "3  Income Per Capita  1.006193\n",
       "4       Alcohol Type  0.984455"
      ]
     },
     "execution_count": 32,
     "metadata": {},
     "output_type": "execute_result"
    }
   ],
   "source": [
    "data = {\"Predictors\": [\"State Bottle Cost\", \"Pack\",\"Population\",\"Income Per Capita\", \"Alcohol Type\"],\n",
    "       \"RMSE\": [SBC, PCK,PPLN,IPC,ALC],}\n",
    "one_predictor = pd.DataFrame(data, columns = [\"Predictors\", \"RMSE\"])\n",
    "one_predictor"
   ]
  },
  {
   "cell_type": "code",
   "execution_count": 39,
   "metadata": {},
   "outputs": [
    {
     "data": {
      "text/html": [
       "<div>\n",
       "<style scoped>\n",
       "    .dataframe tbody tr th:only-of-type {\n",
       "        vertical-align: middle;\n",
       "    }\n",
       "\n",
       "    .dataframe tbody tr th {\n",
       "        vertical-align: top;\n",
       "    }\n",
       "\n",
       "    .dataframe thead th {\n",
       "        text-align: right;\n",
       "    }\n",
       "</style>\n",
       "<table border=\"1\" class=\"dataframe\">\n",
       "  <thead>\n",
       "    <tr style=\"text-align: right;\">\n",
       "      <th></th>\n",
       "      <th>Test</th>\n",
       "      <th>RMSE</th>\n",
       "      <th>Predictors</th>\n",
       "    </tr>\n",
       "  </thead>\n",
       "  <tbody>\n",
       "    <tr>\n",
       "      <th>0</th>\n",
       "      <td>Test 1</td>\n",
       "      <td>0.979205</td>\n",
       "      <td>ALC, PCK</td>\n",
       "    </tr>\n",
       "    <tr>\n",
       "      <th>1</th>\n",
       "      <td>Test 2</td>\n",
       "      <td>0.983649</td>\n",
       "      <td>ALC, SBC</td>\n",
       "    </tr>\n",
       "    <tr>\n",
       "      <th>2</th>\n",
       "      <td>Test 3</td>\n",
       "      <td>0.968834</td>\n",
       "      <td>ALC,PCK,SBC</td>\n",
       "    </tr>\n",
       "    <tr>\n",
       "      <th>3</th>\n",
       "      <td>Test 4</td>\n",
       "      <td>0.969094</td>\n",
       "      <td>ALC,PCK,SBC,IPC</td>\n",
       "    </tr>\n",
       "    <tr>\n",
       "      <th>4</th>\n",
       "      <td>Test 5</td>\n",
       "      <td>0.979095</td>\n",
       "      <td>ALC,PCK,SBC,IPC,PPLN</td>\n",
       "    </tr>\n",
       "  </tbody>\n",
       "</table>\n",
       "</div>"
      ],
      "text/plain": [
       "     Test      RMSE            Predictors\n",
       "0  Test 1  0.979205              ALC, PCK\n",
       "1  Test 2  0.983649              ALC, SBC\n",
       "2  Test 3  0.968834           ALC,PCK,SBC\n",
       "3  Test 4  0.969094       ALC,PCK,SBC,IPC\n",
       "4  Test 5  0.979095  ALC,PCK,SBC,IPC,PPLN"
      ]
     },
     "execution_count": 39,
     "metadata": {},
     "output_type": "execute_result"
    }
   ],
   "source": [
    "data = {\"Test\":[\"Test 1\", \"Test 2\", \"Test 3\", \"Test 4\", \"Test 5\"],\n",
    "       \"RMSE\": [two_pr1, two_pr2, three_pr1, four_pr1, five_pr],\n",
    "       \"Predictors\": [\"ALC, PCK\",\n",
    "                     \"ALC, SBC\",\n",
    "                     \"ALC,PCK,SBC\",\n",
    "                     \"ALC,PCK,SBC,IPC\",\n",
    "                     \"ALC,PCK,SBC,IPC,PPLN\"],}\n",
    "models = pd.DataFrame(data, columns = [\"Test\", \"RMSE\", \"Predictors\"])\n",
    "models"
   ]
  },
  {
   "cell_type": "code",
   "execution_count": 40,
   "metadata": {},
   "outputs": [
    {
     "data": {
      "text/html": [
       "<div>\n",
       "<style scoped>\n",
       "    .dataframe tbody tr th:only-of-type {\n",
       "        vertical-align: middle;\n",
       "    }\n",
       "\n",
       "    .dataframe tbody tr th {\n",
       "        vertical-align: top;\n",
       "    }\n",
       "\n",
       "    .dataframe thead th {\n",
       "        text-align: right;\n",
       "    }\n",
       "</style>\n",
       "<table border=\"1\" class=\"dataframe\">\n",
       "  <thead>\n",
       "    <tr style=\"text-align: right;\">\n",
       "      <th></th>\n",
       "      <th>Predictor</th>\n",
       "      <th>Mapping</th>\n",
       "    </tr>\n",
       "  </thead>\n",
       "  <tbody>\n",
       "    <tr>\n",
       "      <th>0</th>\n",
       "      <td>SBC</td>\n",
       "      <td>State Bottle Cost</td>\n",
       "    </tr>\n",
       "    <tr>\n",
       "      <th>1</th>\n",
       "      <td>PCK</td>\n",
       "      <td>Pack</td>\n",
       "    </tr>\n",
       "    <tr>\n",
       "      <th>2</th>\n",
       "      <td>PPLN</td>\n",
       "      <td>Population</td>\n",
       "    </tr>\n",
       "    <tr>\n",
       "      <th>3</th>\n",
       "      <td>IPC</td>\n",
       "      <td>Income Per Capita</td>\n",
       "    </tr>\n",
       "    <tr>\n",
       "      <th>4</th>\n",
       "      <td>ALC</td>\n",
       "      <td>Alcohol Type</td>\n",
       "    </tr>\n",
       "  </tbody>\n",
       "</table>\n",
       "</div>"
      ],
      "text/plain": [
       "  Predictor            Mapping\n",
       "0       SBC  State Bottle Cost\n",
       "1       PCK               Pack\n",
       "2      PPLN         Population\n",
       "3       IPC  Income Per Capita\n",
       "4       ALC       Alcohol Type"
      ]
     },
     "execution_count": 40,
     "metadata": {},
     "output_type": "execute_result"
    }
   ],
   "source": [
    "data = {\"Predictor\": [\"SBC\",\"PCK\",\"PPLN\",\"IPC\",\"ALC\"],\n",
    "       \"Mapping\": [\"State Bottle Cost\",\"Pack\",\"Population\",\"Income Per Capita\",\"Alcohol Type\"],}\n",
    "mapping = pd.DataFrame(data, columns = [\"Predictor\", \"Mapping\"])\n",
    "mapping"
   ]
  },
  {
   "cell_type": "markdown",
   "metadata": {},
   "source": [
    "# Testing Models"
   ]
  },
  {
   "cell_type": "code",
   "execution_count": 31,
   "metadata": {},
   "outputs": [
    {
     "name": "stdout",
     "output_type": "stream",
     "text": [
      "test errors: [-0.9657166812477781, -1.0177505840751349, -0.9654639247161498, -1.170793922382426, -0.9295642751924557]\n",
      "     \n",
      "rmse: 1.004916851049274\n"
     ]
    }
   ],
   "source": [
    "# 1 predictor: State Bottle Cost\n",
    "df_test = df[[\"State Bottle Cost\",\"Volume Sold (Gallons) Per Capita\"]]\n",
    "df_test = standardize(df_test)\n",
    "response = \"Volume Sold (Gallons) Per Capita\"\n",
    "folds = k_fold(5,df_test)\n",
    "out = cv(folds, response)\n",
    "print(\"test errors:\", out[0])\n",
    "print(\"     \")\n",
    "print(\"rmse:\", out[1])\n",
    "SBC = out[1]\n",
    "\n",
    "#test_errs = []\n",
    "#for i in range(5,50):\n",
    "#    folds = k_fold(i, df_test)\n",
    "#    out = cv(folds, response)\n",
    "#    test_errs.append(out[1])\n",
    "#plt.plot(test_errs)\n",
    "#print(\"K-Folds = \", test_errs.index(min(test_errs)))\n",
    "#print(\"Minimum RMSE = \", min(test_errs))"
   ]
  },
  {
   "cell_type": "code",
   "execution_count": null,
   "metadata": {},
   "outputs": [],
   "source": [
    "# 1 predictor: State Bottle Retail\n",
    "df_test = df[[\"State Bottle Retail\",\"Volume Sold (Gallons) Per Capita\"]]\n",
    "df_test = standardize(df_test)\n",
    "response = \"Volume Sold (Gallons) Per Capita\"\n",
    "folds = k_fold(5,df_test)\n",
    "out = cv(folds, response)\n",
    "print(\"test errors:\", out[0])\n",
    "print(\"     \")\n",
    "print(\"rmse:\", out[1])\n",
    "SBR = out[1]\n",
    "\n",
    "test_errs = []\n",
    "for i in range(5,50):\n",
    "    folds = k_fold(i, df_test)\n",
    "    out = cv(folds, response)\n",
    "    test_errs.append(out[1])\n",
    "plt.plot(test_errs)\n",
    "print(\"K-Folds = \", test_errs.index(min(test_errs)))\n",
    "print(\"Minimum RMSE = \", min(test_errs))"
   ]
  },
  {
   "cell_type": "code",
   "execution_count": null,
   "metadata": {},
   "outputs": [],
   "source": [
    "# 1 predictor: Bottles Sold Per Capita\n",
    "df_test = df[[\"Bottles Sold Per Capita\",\"Volume Sold (Gallons) Per Capita\"]]\n",
    "df_test = standardize(df_test)\n",
    "response = \"Volume Sold (Gallons) Per Capita\"\n",
    "folds = k_fold(5,df_test)\n",
    "out = cv(folds, response)\n",
    "print(\"test errors:\", out[0])\n",
    "print(\"     \")\n",
    "print(\"rmse:\", out[1])\n",
    "BSPC = out[1]\n",
    "\n",
    "test_errs = []\n",
    "for i in range(5,50):\n",
    "    folds = k_fold(i, df_test)\n",
    "    out = cv(folds, response)\n",
    "    test_errs.append(out[1])\n",
    "plt.plot(test_errs)\n",
    "print(\"K-Folds = \", test_errs.index(min(test_errs)))\n",
    "print(\"Minimum RMSE = \", min(test_errs))"
   ]
  },
  {
   "cell_type": "code",
   "execution_count": 27,
   "metadata": {},
   "outputs": [
    {
     "name": "stdout",
     "output_type": "stream",
     "text": [
      "test errors: [-0.9402652751972571, -1.290238128623381, -0.8507876228891282, -1.0597884378553641, -0.8366571106387785]\n",
      "     \n",
      "rmse: 0.9977711736870242\n"
     ]
    }
   ],
   "source": [
    "# 1 predictor: Pack\n",
    "df_test = df[[\"Pack\",\"Volume Sold (Gallons) Per Capita\"]]\n",
    "df_test = standardize(df_test)\n",
    "response = \"Volume Sold (Gallons) Per Capita\"\n",
    "folds = k_fold(5,df_test)\n",
    "out = cv(folds, response)\n",
    "print(\"test errors:\", out[0])\n",
    "print(\"     \")\n",
    "print(\"rmse:\", out[1])\n",
    "PCK = out[1]\n",
    "\n",
    "#test_errs = []\n",
    "#for i in range(5,50):\n",
    "#    folds = k_fold(i, df_test)\n",
    "#    out = cv(folds, response)\n",
    "#    test_errs.append(out[1])\n",
    "#plt.plot(test_errs)\n",
    "#print(\"K-Folds = \", test_errs.index(min(test_errs)))\n",
    "#print(\"Minimum RMSE = \", min(test_errs))"
   ]
  },
  {
   "cell_type": "code",
   "execution_count": null,
   "metadata": {},
   "outputs": [],
   "source": [
    "# 1 predictor: Alcohol Expense Per Capita\n",
    "df_test = df[[\"Alcohol Expense Per Capita\",\"Volume Sold (Gallons) Per Capita\"]]\n",
    "df_test = standardize(df_test)\n",
    "response = \"Volume Sold (Gallons) Per Capita\"\n",
    "folds = k_fold(5,df_test)\n",
    "out = cv(folds, response)\n",
    "print(\"test errors:\", out[0])\n",
    "print(\"     \")\n",
    "print(\"rmse:\", out[1])\n",
    "AEPC = out[1]\n",
    "\n",
    "test_errs = []\n",
    "for i in range(5,50):\n",
    "    folds = k_fold(i, df_test)\n",
    "    out = cv(folds, response)\n",
    "    test_errs.append(out[1])\n",
    "plt.plot(test_errs)\n",
    "print(\"K-Folds = \", test_errs.index(min(test_errs)))\n",
    "print(\"Minimum RMSE = \", min(test_errs))"
   ]
  },
  {
   "cell_type": "code",
   "execution_count": 28,
   "metadata": {},
   "outputs": [
    {
     "name": "stdout",
     "output_type": "stream",
     "text": [
      "test errors: [-0.8811549388057985, -0.8898072085261667, -0.7538741809742675, -1.752540864838392, -0.7084337738505132]\n",
      "     \n",
      "rmse: 0.9985800886253579\n"
     ]
    }
   ],
   "source": [
    "# 1 predictor: Population\n",
    "df_test = df[[\"Population\",\"Volume Sold (Gallons) Per Capita\"]]\n",
    "df_test = standardize(df_test)\n",
    "response = \"Volume Sold (Gallons) Per Capita\"\n",
    "folds = k_fold(5,df_test)\n",
    "out = cv(folds, response)\n",
    "print(\"test errors:\", out[0])\n",
    "print(\"     \")\n",
    "print(\"rmse:\", out[1])\n",
    "PPLN = out[1]\n",
    "\n",
    "#test_errs = []\n",
    "#for i in range(5,50):\n",
    "#    folds = k_fold(i, df_test)\n",
    "#    out = cv(folds, response)\n",
    "#    test_errs.append(out[1])\n",
    "#plt.plot(test_errs)\n",
    "#print(\"K-Folds = \", test_errs.index(min(test_errs)))\n",
    "#print(\"Minimum RMSE = \", min(test_errs))"
   ]
  },
  {
   "cell_type": "code",
   "execution_count": 29,
   "metadata": {},
   "outputs": [
    {
     "name": "stdout",
     "output_type": "stream",
     "text": [
      "test errors: [-0.9547656982034647, -1.0848877499969352, -0.9307411163233393, -1.1729577895977723, -0.9187732404608902]\n",
      "     \n",
      "rmse: 1.0061933804773713\n"
     ]
    }
   ],
   "source": [
    "# 1 predictor: Income Per Capita\n",
    "df_test = df[[\"Income Per Capita\",\"Volume Sold (Gallons) Per Capita\"]]\n",
    "df_test = standardize(df_test)\n",
    "response = \"Volume Sold (Gallons) Per Capita\"\n",
    "folds = k_fold(5,df_test)\n",
    "out = cv(folds, response)\n",
    "print(\"test errors:\", out[0])\n",
    "print(\"     \")\n",
    "print(\"rmse:\", out[1])\n",
    "IPC = out[1]\n",
    "\n",
    "#test_errs = []\n",
    "#for i in range(5,50):\n",
    "#    folds = k_fold(i, df_test)\n",
    "#    out = cv(folds, response)\n",
    "#    test_errs.append(out[1])\n",
    "#plt.plot(test_errs)\n",
    "#print(\"K-Folds = \", test_errs.index(min(test_errs)))\n",
    "#print(\"Minimum RMSE = \", min(test_errs))"
   ]
  },
  {
   "cell_type": "code",
   "execution_count": 30,
   "metadata": {},
   "outputs": [
    {
     "name": "stdout",
     "output_type": "stream",
     "text": [
      "test errors: [-0.962995199333141, -0.9794195993498142, -0.9315383647199771, -1.1144029128154342, -0.8574028764284324]\n",
      "     \n",
      "rmse: 0.9844550728851773\n"
     ]
    }
   ],
   "source": [
    "# 1 predictor: Alcohol Type\n",
    "df_test = df[[\"Consolidated_Brandy\",\"Consolidated_Gin\",\"Consolidated_Rum\",\n",
    "              \"Consolidated_Schnapps\",\"Consolidated_Tequila\",\"Consolidated_Vodka\",\"Consolidated_Whiskey\"\n",
    "              ,\"Volume Sold (Gallons) Per Capita\"]]\n",
    "df_test = standardize(df_test)\n",
    "response = \"Volume Sold (Gallons) Per Capita\"\n",
    "folds = k_fold(5,df_test)\n",
    "out = cv(folds, response)\n",
    "print(\"test errors:\", out[0])\n",
    "print(\"     \")\n",
    "print(\"rmse:\", out[1])\n",
    "ALC = out[1]\n",
    "\n",
    "#test_errs = []\n",
    "#for i in range(5,50):\n",
    "#    folds = k_fold(i, df_test)\n",
    "#    out = cv(folds, response)\n",
    "#    test_errs.append(out[1])\n",
    "#plt.plot(test_errs)\n",
    "#print(\"K-Folds = \", test_errs.index(min(test_errs)))\n",
    "#print(\"Minimum RMSE = \", min(test_errs))"
   ]
  },
  {
   "cell_type": "code",
   "execution_count": null,
   "metadata": {},
   "outputs": [],
   "source": [
    "df.head()"
   ]
  },
  {
   "cell_type": "code",
   "execution_count": null,
   "metadata": {},
   "outputs": [],
   "source": [
    "data = {\"Predictors\": [\"State Bottle Cost\", \"State Bottle Retail\",\"Bottles Sold Per Capita\",\n",
    "                       \"Pack\", \"Alcohol Expense Per Capita\",\"Population\",\"Income Per Capita\",\"Alcohol Type\"],\n",
    "       \"RMSE\": [SBC, SBR, BSPC,PCK,AEPC,PPLN,IPC,ALC],}\n",
    "one_predictor = pd.DataFrame(data, columns = [\"Predictors\", \"RMSE\"])\n",
    "one_predictor"
   ]
  },
  {
   "cell_type": "markdown",
   "metadata": {},
   "source": [
    "# Best individual predictors: Bottles Sold Per Capita, Alcohol Expense Per Capita"
   ]
  },
  {
   "cell_type": "code",
   "execution_count": null,
   "metadata": {},
   "outputs": [],
   "source": [
    "# 2 predictors: Bottles Sold Per Capita, Alcohol Expense Per Capita\n",
    "df_test = df[[\"Bottles Sold Per Capita\",\"Alcohol Expense Per Capita\",\n",
    "              \"Volume Sold (Gallons) Per Capita\"]]\n",
    "df_test = standardize(df_test)\n",
    "response = \"Volume Sold (Gallons) Per Capita\"\n",
    "folds = k_fold(5,df_test)\n",
    "out = cv(folds, response)\n",
    "print(\"test errors:\", out[0])\n",
    "print(\"     \")\n",
    "print(\"rmse:\", out[1])\n",
    "two_pr = out[1] \n",
    "\n",
    "test_errs = []\n",
    "for i in range(5,50):\n",
    "    folds = k_fold(i, df_test)\n",
    "    out = cv(folds, response)\n",
    "    test_errs.append(out[1])\n",
    "plt.plot(test_errs)\n",
    "print(\"K-Folds = \", test_errs.index(min(test_errs)))\n",
    "print(\"Minimum RMSE = \", min(test_errs))"
   ]
  },
  {
   "cell_type": "markdown",
   "metadata": {},
   "source": [
    "# Next 4: State Bottle Cost, State Bottle Retail, Income Per Capita, Population equal weight "
   ]
  },
  {
   "cell_type": "code",
   "execution_count": null,
   "metadata": {},
   "outputs": [],
   "source": [
    "# 3 predictors: Bottles Sold Per Capita, Alcohol Expense Per Capita, \"State Bottle Cost\"\n",
    "df_test = df[[\"Bottles Sold Per Capita\",\"Alcohol Expense Per Capita\",\"State Bottle Cost\",\n",
    "              \"Volume Sold (Gallons) Per Capita\"]]\n",
    "df_test = standardize(df_test)\n",
    "response = \"Volume Sold (Gallons) Per Capita\"\n",
    "folds = k_fold(5,df_test)\n",
    "out = cv(folds, response)\n",
    "print(\"test errors:\", out[0])\n",
    "print(\"     \")\n",
    "print(\"rmse:\", out[1])\n",
    "three_pr1 = out[1]\n",
    "\n",
    "test_errs = []\n",
    "for i in range(5,50):\n",
    "    folds = k_fold(i, df_test)\n",
    "    out = cv(folds, response)\n",
    "    test_errs.append(out[1])\n",
    "plt.plot(test_errs)\n",
    "print(\"K-Folds = \", test_errs.index(min(test_errs)))\n",
    "print(\"Minimum RMSE = \", min(test_errs))"
   ]
  },
  {
   "cell_type": "code",
   "execution_count": null,
   "metadata": {},
   "outputs": [],
   "source": [
    "# 3 predictors: Bottles Sold Per Capita, Alcohol Expense Per Capita, \"State Bottle Retail\"\n",
    "df_test = df[[\"Bottles Sold Per Capita\",\"Alcohol Expense Per Capita\",\"State Bottle Retail\",\n",
    "              \"Volume Sold (Gallons) Per Capita\"]]\n",
    "df_test = standardize(df_test)\n",
    "response = \"Volume Sold (Gallons) Per Capita\"\n",
    "folds = k_fold(5,df_test)\n",
    "out = cv(folds, response)\n",
    "print(\"test errors:\", out[0])\n",
    "print(\"     \")\n",
    "print(\"rmse:\", out[1])\n",
    "three_pr2 = out[1]\n",
    "\n",
    "test_errs = []\n",
    "for i in range(5,50):\n",
    "    folds = k_fold(i, df_test)\n",
    "    out = cv(folds, response)\n",
    "    test_errs.append(out[1])\n",
    "plt.plot(test_errs)\n",
    "print(\"K-Folds = \", test_errs.index(min(test_errs)))\n",
    "print(\"Minimum RMSE = \", min(test_errs))"
   ]
  },
  {
   "cell_type": "code",
   "execution_count": null,
   "metadata": {},
   "outputs": [],
   "source": [
    "# 3 predictors: Bottles Sold Per Capita, Alcohol Expense Per Capita, Income Per Capita\n",
    "df_test = df[[\"Bottles Sold Per Capita\",\"Alcohol Expense Per Capita\",\"Income Per Capita\",\n",
    "              \"Volume Sold (Gallons) Per Capita\"]]\n",
    "df_test = standardize(df_test)\n",
    "response = \"Volume Sold (Gallons) Per Capita\"\n",
    "folds = k_fold(5,df_test)\n",
    "out = cv(folds, response)\n",
    "print(\"test errors:\", out[0])\n",
    "print(\"     \")\n",
    "print(\"rmse:\", out[1])\n",
    "\n",
    "test_errs = []\n",
    "for i in range(5,50):\n",
    "    folds = k_fold(i, df_test)\n",
    "    out = cv(folds, response)\n",
    "    test_errs.append(out[1])\n",
    "plt.plot(test_errs)\n",
    "print(\"K-Folds = \", test_errs.index(min(test_errs)))\n",
    "print(\"Minimum RMSE = \", min(test_errs))"
   ]
  },
  {
   "cell_type": "code",
   "execution_count": null,
   "metadata": {},
   "outputs": [],
   "source": [
    "# 3 predictors: Bottles Sold Per Capita, Alcohol Expense Per Capita, Population\n",
    "df_test = df[[\"Bottles Sold Per Capita\",\"Alcohol Expense Per Capita\",\"Population\",\n",
    "              \"Volume Sold (Gallons) Per Capita\"]]\n",
    "df_test = standardize(df_test)\n",
    "response = \"Volume Sold (Gallons) Per Capita\"\n",
    "folds = k_fold(5,df_test)\n",
    "out = cv(folds, response)\n",
    "print(\"test errors:\", out[0])\n",
    "print(\"     \")\n",
    "print(\"rmse:\", out[1])\n",
    "\n",
    "test_errs = []\n",
    "for i in range(5,50):\n",
    "    folds = k_fold(i, df_test)\n",
    "    out = cv(folds, response)\n",
    "    test_errs.append(out[1])\n",
    "plt.plot(test_errs)\n",
    "print(\"K-Folds = \", test_errs.index(min(test_errs)))\n",
    "print(\"Minimum RMSE = \", min(test_errs))"
   ]
  },
  {
   "cell_type": "code",
   "execution_count": null,
   "metadata": {},
   "outputs": [],
   "source": [
    "# 3 predictors: Bottles Sold Per Capita, Alcohol Expense Per Capita, Alcohol Type\n",
    "df_test = df[[\"Bottles Sold Per Capita\",\"Alcohol Expense Per Capita\",\"Consolidated_Brandy\",\"Consolidated_Gin\",\n",
    "              \"Consolidated_Rum\",\"Consolidated_Schnapps\",\"Consolidated_Tequila\",\n",
    "              \"Consolidated_Vodka\",\"Consolidated_Whiskey\", \"Volume Sold (Gallons) Per Capita\"]]\n",
    "df_test = standardize(df_test)\n",
    "response = \"Volume Sold (Gallons) Per Capita\"\n",
    "folds = k_fold(5,df_test)\n",
    "out = cv(folds, response)\n",
    "print(\"test errors:\", out[0])\n",
    "print(\"     \")\n",
    "print(\"rmse:\", out[1])\n",
    "\n",
    "test_errs = []\n",
    "for i in range(5,50):\n",
    "    folds = k_fold(i, df_test)\n",
    "    out = cv(folds, response)\n",
    "    test_errs.append(out[1])\n",
    "plt.plot(test_errs)\n",
    "print(\"K-Folds = \", test_errs.index(min(test_errs)))\n",
    "print(\"Minimum RMSE = \", min(test_errs))"
   ]
  },
  {
   "cell_type": "code",
   "execution_count": null,
   "metadata": {},
   "outputs": [],
   "source": [
    "# 3 predictors: Bottles Sold Per Capita, Alcohol Expense Per Capita, Pack\n",
    "df_test = df[[\"Bottles Sold Per Capita\",\"Alcohol Expense Per Capita\",\"Pack\", \"Volume Sold (Gallons) Per Capita\"]]\n",
    "df_test = standardize(df_test)\n",
    "response = \"Volume Sold (Gallons) Per Capita\"\n",
    "folds = k_fold(5,df_test)\n",
    "out = cv(folds, response)\n",
    "print(\"test errors:\", out[0])\n",
    "print(\"     \")\n",
    "print(\"rmse:\", out[1])\n",
    "three_pr3 = out[1]\n",
    "\n",
    "test_errs = []\n",
    "for i in range(5,50):\n",
    "    folds = k_fold(i, df_test)\n",
    "    out = cv(folds, response)\n",
    "    test_errs.append(out[1])\n",
    "plt.plot(test_errs)\n",
    "print(\"K-Folds = \", test_errs.index(min(test_errs)))\n",
    "print(\"Minimum RMSE = \", min(test_errs))"
   ]
  },
  {
   "cell_type": "markdown",
   "metadata": {},
   "source": [
    "# Best 3 Predictor Model:  Bottles Sold Per Capita * Alcohol Expense Per Capita * Pack"
   ]
  },
  {
   "cell_type": "code",
   "execution_count": null,
   "metadata": {},
   "outputs": [],
   "source": [
    "# 4 predictors: Bottles Sold Per Capita, Alcohol Expense Per Capita, Pack, Population\n",
    "df_test = df[[\"Bottles Sold Per Capita\",\"Alcohol Expense Per Capita\", \"Pack\",\"Population\",\n",
    "              \"Volume Sold (Gallons) Per Capita\"]]\n",
    "df_test = standardize(df_test)\n",
    "response = \"Volume Sold (Gallons) Per Capita\"\n",
    "folds = k_fold(5,df_test)\n",
    "out = cv(folds, response)\n",
    "print(\"test errors:\", out[0])\n",
    "print(\"     \")\n",
    "print(\"rmse:\", out[1])\n",
    "\n",
    "test_errs = []\n",
    "for i in range(5,50):\n",
    "    folds = k_fold(i, df_test)\n",
    "    out = cv(folds, response)\n",
    "    test_errs.append(out[1])\n",
    "plt.plot(test_errs)\n",
    "print(\"K-Folds = \", test_errs.index(min(test_errs)))\n",
    "print(\"Minimum RMSE = \", min(test_errs))"
   ]
  },
  {
   "cell_type": "code",
   "execution_count": null,
   "metadata": {},
   "outputs": [],
   "source": [
    "# 4 predictors: Bottles Sold Per Capita, Alcohol Expense Per Capita, Pack, State Bottle Retail\n",
    "df_test = df[[\"Bottles Sold Per Capita\",\"Alcohol Expense Per Capita\", \"Pack\",\"State Bottle Retail\",\n",
    "              \"Volume Sold (Gallons) Per Capita\"]]\n",
    "df_test = standardize(df_test)\n",
    "response = \"Volume Sold (Gallons) Per Capita\"\n",
    "folds = k_fold(5,df_test)\n",
    "out = cv(folds, response)\n",
    "print(\"test errors:\", out[0])\n",
    "print(\"     \")\n",
    "print(\"rmse:\", out[1])\n",
    "four_pr1 = out[1]\n",
    "\n",
    "test_errs = []\n",
    "for i in range(5,50):\n",
    "    folds = k_fold(i, df_test)\n",
    "    out = cv(folds, response)\n",
    "    test_errs.append(out[1])\n",
    "plt.plot(test_errs)\n",
    "print(\"K-Folds = \", test_errs.index(min(test_errs)))\n",
    "print(\"Minimum RMSE = \", min(test_errs))"
   ]
  },
  {
   "cell_type": "code",
   "execution_count": null,
   "metadata": {},
   "outputs": [],
   "source": [
    "# 4 predictors: Bottles Sold Per Capita, Alcohol Expense Per Capita, Pack, Income Per Capita\n",
    "df_test = df[[\"Bottles Sold Per Capita\",\"Alcohol Expense Per Capita\",\"Pack\", \"Income Per Capita\",\n",
    "              \"Volume Sold (Gallons) Per Capita\"]]\n",
    "df_test = standardize(df_test)\n",
    "response = \"Volume Sold (Gallons) Per Capita\"\n",
    "folds = k_fold(5,df_test)\n",
    "out = cv(folds, response)\n",
    "print(\"test errors:\", out[0])\n",
    "print(\"     \")\n",
    "print(\"rmse:\", out[1])\n",
    "\n",
    "test_errs = []\n",
    "for i in range(5,50):\n",
    "    folds = k_fold(i, df_test)\n",
    "    out = cv(folds, response)\n",
    "    test_errs.append(out[1])\n",
    "plt.plot(test_errs)\n",
    "print(\"K-Folds = \", test_errs.index(min(test_errs)))\n",
    "print(\"Minimum RMSE = \", min(test_errs))"
   ]
  },
  {
   "cell_type": "code",
   "execution_count": null,
   "metadata": {},
   "outputs": [],
   "source": [
    "# 4 predictors: Bottles Sold Per Capita, Alcohol Expense Per Capita, Pack, State Bottle Cost\n",
    "df_test = df[[\"Bottles Sold Per Capita\",\"Alcohol Expense Per Capita\",\"Pack\", \"State Bottle Cost\",\n",
    "              \"Volume Sold (Gallons) Per Capita\"]]\n",
    "df_test = standardize(df_test)\n",
    "response = \"Volume Sold (Gallons) Per Capita\"\n",
    "folds = k_fold(5,df_test)\n",
    "out = cv(folds, response)\n",
    "print(\"test errors:\", out[0])\n",
    "print(\"     \")\n",
    "print(\"rmse:\", out[1])\n",
    "four_pr2 = out[1]\n",
    "\n",
    "test_errs = []\n",
    "for i in range(5,50):\n",
    "    folds = k_fold(i, df_test)\n",
    "    out = cv(folds, response)\n",
    "    test_errs.append(out[1])\n",
    "plt.plot(test_errs)\n",
    "print(\"K-Folds = \", test_errs.index(min(test_errs)))\n",
    "print(\"Minimum RMSE = \", min(test_errs))"
   ]
  },
  {
   "cell_type": "code",
   "execution_count": null,
   "metadata": {},
   "outputs": [],
   "source": [
    "# 4 predictors: Bottles Sold Per Capita, Alcohol Expense Per Capita, Pack, Alcohol Type\n",
    "df_test = df[[\"Bottles Sold Per Capita\",\"Alcohol Expense Per Capita\",\"Pack\", \"Consolidated_Brandy\",\n",
    "              \"Consolidated_Gin\", \"Consolidated_Rum\",\"Consolidated_Schnapps\",\"Consolidated_Tequila\",\n",
    "              \"Consolidated_Vodka\",\"Consolidated_Whiskey\", \"Volume Sold (Gallons) Per Capita\"]]\n",
    "df_test = standardize(df_test)\n",
    "response = \"Volume Sold (Gallons) Per Capita\"\n",
    "folds = k_fold(5,df_test)\n",
    "out = cv(folds, response)\n",
    "print(\"test errors:\", out[0])\n",
    "print(\"     \")\n",
    "print(\"rmse:\", out[1])\n",
    "\n",
    "test_errs = []\n",
    "for i in range(5,50):\n",
    "    folds = k_fold(i, df_test)\n",
    "    out = cv(folds, response)\n",
    "    test_errs.append(out[1])\n",
    "plt.plot(test_errs)\n",
    "print(\"K-Folds = \", test_errs.index(min(test_errs)))\n",
    "print(\"Minimum RMSE = \", min(test_errs))"
   ]
  },
  {
   "cell_type": "markdown",
   "metadata": {},
   "source": [
    "# Best 4 Predictor Model:  Bottles Sold Per Capita * Alcohol Expense Per Capita * Pack * State Bottle Cost"
   ]
  },
  {
   "cell_type": "code",
   "execution_count": null,
   "metadata": {},
   "outputs": [],
   "source": [
    "# 5 predictors: Bottles Sold Per Capita, Alcohol Expense Per Capita, Pack, State Bottle Cost, State Bottle Retail\n",
    "df_test = df[[\"Bottles Sold Per Capita\",\"Alcohol Expense Per Capita\",\"Pack\",\n",
    "              \"State Bottle Retail\",\"State Bottle Cost\",\n",
    "              \"Volume Sold (Gallons) Per Capita\"]]\n",
    "df_test = standardize(df_test)\n",
    "response = \"Volume Sold (Gallons) Per Capita\"\n",
    "folds = k_fold(5,df_test)\n",
    "out = cv(folds, response)\n",
    "print(\"test errors:\", out[0])\n",
    "print(\"     \")\n",
    "print(\"rmse:\", out[1])\n",
    "five_pr1 = out[1]\n",
    "\n",
    "test_errs = []\n",
    "for i in range(5,50):\n",
    "    folds = k_fold(i, df_test)\n",
    "    out = cv(folds, response)\n",
    "    test_errs.append(out[1])\n",
    "plt.plot(test_errs)\n",
    "print(\"K-Folds = \", test_errs.index(min(test_errs)))\n",
    "print(\"Minimum RMSE = \", min(test_errs))"
   ]
  },
  {
   "cell_type": "code",
   "execution_count": null,
   "metadata": {},
   "outputs": [],
   "source": [
    "# 5 predictors: Bottles Sold Per Capita, Alcohol Expense Per Capita, Pack, State Bottle Cost, Income Per capita\n",
    "df_test = df[[\"Bottles Sold Per Capita\",\"Alcohol Expense Per Capita\",\"Pack\", \n",
    "              \"State Bottle Cost\",\"Income Per Capita\",\n",
    "              \"Volume Sold (Gallons) Per Capita\"]]\n",
    "df_test = standardize(df_test)\n",
    "response = \"Volume Sold (Gallons) Per Capita\"\n",
    "folds = k_fold(5,df_test)\n",
    "out = cv(folds, response)\n",
    "print(\"test errors:\", out[0])\n",
    "print(\"     \")\n",
    "print(\"rmse:\", out[1])\n",
    "five_pr2 = out[1]\n",
    "\n",
    "test_errs = []\n",
    "for i in range(5,50):\n",
    "    folds = k_fold(i, df_test)\n",
    "    out = cv(folds, response)\n",
    "    test_errs.append(out[1])\n",
    "plt.plot(test_errs)\n",
    "print(\"K-Folds = \", test_errs.index(min(test_errs)))\n",
    "print(\"Minimum RMSE = \", min(test_errs))"
   ]
  },
  {
   "cell_type": "code",
   "execution_count": null,
   "metadata": {},
   "outputs": [],
   "source": [
    "# 5 predictors: Bottles Sold Per Capita, Alcohol Expense Per Capita, Pack, State Bottle Cost, Alcohol Type\n",
    "df_test = df[[\"Bottles Sold Per Capita\",\"Alcohol Expense Per Capita\",\"Pack\", \n",
    "              \"State Bottle Cost\",\"Consolidated_Brandy\",\"Consolidated_Gin\", \"Consolidated_Rum\",\n",
    "              \"Consolidated_Schnapps\",\"Consolidated_Tequila\",\"Consolidated_Vodka\",\"Consolidated_Whiskey\",\n",
    "              \"Volume Sold (Gallons) Per Capita\"]]\n",
    "df_test = standardize(df_test)\n",
    "response = \"Volume Sold (Gallons) Per Capita\"\n",
    "folds = k_fold(5,df_test)\n",
    "out = cv(folds, response)\n",
    "print(\"test errors:\", out[0])\n",
    "print(\"     \")\n",
    "print(\"rmse:\", out[1])\n",
    "\n",
    "test_errs = []\n",
    "for i in range(5,50):\n",
    "    folds = k_fold(i, df_test)\n",
    "    out = cv(folds, response)\n",
    "    test_errs.append(out[1])\n",
    "plt.plot(test_errs)\n",
    "print(\"K-Folds = \", test_errs.index(min(test_errs)))\n",
    "print(\"Minimum RMSE = \", min(test_errs))"
   ]
  },
  {
   "cell_type": "code",
   "execution_count": null,
   "metadata": {},
   "outputs": [],
   "source": [
    "# 5 predictors: Bottles Sold Per Capita, Alcohol Expense Per Capita, Pack, State Bottle Cost, Population\n",
    "df_test = df[[\"Bottles Sold Per Capita\",\"Alcohol Expense Per Capita\",\"Pack\", \n",
    "              \"State Bottle Cost\",\"Population\",\n",
    "              \"Volume Sold (Gallons) Per Capita\"]]\n",
    "df_test = standardize(df_test)\n",
    "response = \"Volume Sold (Gallons) Per Capita\"\n",
    "folds = k_fold(5,df_test)\n",
    "out = cv(folds, response)\n",
    "print(\"test errors:\", out[0])\n",
    "print(\"     \")\n",
    "print(\"rmse:\", out[1])\n",
    "\n",
    "test_errs = []\n",
    "for i in range(5,50):\n",
    "    folds = k_fold(i, df_test)\n",
    "    out = cv(folds, response)\n",
    "    test_errs.append(out[1])\n",
    "plt.plot(test_errs)\n",
    "print(\"K-Folds = \", test_errs.index(min(test_errs)))\n",
    "print(\"Minimum RMSE = \", min(test_errs))"
   ]
  },
  {
   "cell_type": "markdown",
   "metadata": {},
   "source": [
    "# Best 5 Predictor Model:  Bottles Sold Per Capita * Alcohol Expense Per Capita * Income Per Capita * State Bottle Cost * Pack"
   ]
  },
  {
   "cell_type": "code",
   "execution_count": null,
   "metadata": {},
   "outputs": [],
   "source": [
    "# 6 predictors: State Bottle Cost, State Bottle Retail, Pack,\n",
    "#             Bottles Sold Per Capita, Alcohol Expense Per Capita, Income Per Capita\n",
    "\n",
    "df_test = df[[\"State Bottle Cost\",\"State Bottle Retail\",\"Pack\",\"Bottles Sold Per Capita\",\n",
    "              \"Alcohol Expense Per Capita\",\"Income Per Capita\",\"Volume Sold (Gallons) Per Capita\"]]\n",
    "df_test = standardize(df_test)\n",
    "response = \"Volume Sold (Gallons) Per Capita\"\n",
    "folds = k_fold(5,df_test)\n",
    "out = cv(folds, response)\n",
    "print(\"test errors:\", out[0])\n",
    "print(\"     \")\n",
    "print(\"rmse:\", out[1])\n",
    "six_pr1 = out[1]\n",
    "\n",
    "test_errs = []\n",
    "for i in range(5,50):\n",
    "    folds = k_fold(i, df_test)\n",
    "    out = cv(folds, response)\n",
    "    test_errs.append(out[1])\n",
    "plt.plot(test_errs)\n",
    "print(\"K-Folds = \", test_errs.index(min(test_errs)))\n",
    "print(\"Minimum RMSE = \", min(test_errs))"
   ]
  },
  {
   "cell_type": "code",
   "execution_count": null,
   "metadata": {},
   "outputs": [],
   "source": [
    "# 6 predictors: State Bottle Cost, Population, Pack,\n",
    "#             Bottles Sold Per Capita, Alcohol Expense Per Capita, Income Per Capita\n",
    "\n",
    "df_test = df[[\"State Bottle Cost\",\"Income Per Capita\",\"Pack\",\"Bottles Sold Per Capita\",\n",
    "              \"Alcohol Expense Per Capita\",\"Population\",\"Volume Sold (Gallons) Per Capita\"]]\n",
    "df_test = standardize(df_test)\n",
    "response = \"Volume Sold (Gallons) Per Capita\"\n",
    "folds = k_fold(5,df_test)\n",
    "out = cv(folds, response)\n",
    "print(\"test errors:\", out[0])\n",
    "print(\"     \")\n",
    "print(\"rmse:\", out[1])\n",
    "\n",
    "test_errs = []\n",
    "for i in range(5,50):\n",
    "    folds = k_fold(i, df_test)\n",
    "    out = cv(folds, response)\n",
    "    test_errs.append(out[1])\n",
    "plt.plot(test_errs)\n",
    "print(\"K-Folds = \", test_errs.index(min(test_errs)))\n",
    "print(\"Minimum RMSE = \", min(test_errs))"
   ]
  },
  {
   "cell_type": "code",
   "execution_count": null,
   "metadata": {},
   "outputs": [],
   "source": [
    "# 6 predictors: State Bottle Cost, Alcohol Type, Pack,\n",
    "#             Bottles Sold Per Capita, Alcohol Expense Per Capita, Income Per Capita\n",
    "\n",
    "df_test = df[[\"State Bottle Cost\",\"Income Per Capita\",\"Pack\",\"Bottles Sold Per Capita\",\n",
    "              \"Alcohol Expense Per Capita\",\"Consolidated_Brandy\",\"Consolidated_Gin\", \"Consolidated_Rum\",\n",
    "              \"Consolidated_Schnapps\",\"Consolidated_Tequila\",\"Consolidated_Vodka\",\"Consolidated_Whiskey\"\n",
    "              ,\"Volume Sold (Gallons) Per Capita\"]]\n",
    "df_test = standardize(df_test)\n",
    "response = \"Volume Sold (Gallons) Per Capita\"\n",
    "folds = k_fold(5,df_test)\n",
    "out = cv(folds, response)\n",
    "print(\"test errors:\", out[0])\n",
    "print(\"     \")\n",
    "print(\"rmse:\", out[1])\n",
    "six_pr2 = out[1]\n",
    "\n",
    "test_errs = []\n",
    "for i in range(5,50):\n",
    "    folds = k_fold(i, df_test)\n",
    "    out = cv(folds, response)\n",
    "    test_errs.append(out[1])\n",
    "plt.plot(test_errs)\n",
    "print(\"K-Folds = \", test_errs.index(min(test_errs)))\n",
    "print(\"Minimum RMSE = \", min(test_errs))"
   ]
  },
  {
   "cell_type": "markdown",
   "metadata": {},
   "source": [
    "# Best 6 Predictor Model:  Bottles Sold Per Capita * Alcohol Expense Per Capita * Income Per Capita * State Bottle Cost * Pack * State Bottle Retail"
   ]
  },
  {
   "cell_type": "code",
   "execution_count": null,
   "metadata": {},
   "outputs": [],
   "source": [
    "# 7 predictors: State Bottle Cost, State Bottle Retail, Alcohol Type, Pack,\n",
    "#             Bottles Sold Per Capita, Alcohol Expense Per Capita, Income Per Capita\n",
    "\n",
    "df_test = df[[\"State Bottle Cost\",\"State Bottle Retail\",\"Pack\",\"Bottles Sold Per Capita\",\n",
    "              \"Alcohol Expense Per Capita\",\"Income Per Capita\",\"Consolidated_Brandy\",\"Consolidated_Gin\", \"Consolidated_Rum\",\n",
    "              \"Consolidated_Schnapps\",\"Consolidated_Tequila\",\"Consolidated_Vodka\",\"Consolidated_Whiskey\"\n",
    "              ,\"Volume Sold (Gallons) Per Capita\"]]\n",
    "df_test = standardize(df_test)\n",
    "response = \"Volume Sold (Gallons) Per Capita\"\n",
    "folds = k_fold(5,df_test)\n",
    "out = cv(folds, response)\n",
    "print(\"test errors:\", out[0])\n",
    "print(\"     \")\n",
    "print(\"rmse:\", out[1])\n",
    "seven_pr1 = out[1]\n",
    "\n",
    "test_errs = []\n",
    "for i in range(5,50):\n",
    "    folds = k_fold(i, df_test)\n",
    "    out = cv(folds, response)\n",
    "    test_errs.append(out[1])\n",
    "plt.plot(test_errs)\n",
    "print(\"K-Folds = \", test_errs.index(min(test_errs)))\n",
    "print(\"Minimum RMSE = \", min(test_errs))"
   ]
  },
  {
   "cell_type": "code",
   "execution_count": null,
   "metadata": {},
   "outputs": [],
   "source": [
    "# 7 predictors: State Bottle Cost, State Bottle Retail, Population, Pack,\n",
    "#             Bottles Sold Per Capita, Alcohol Expense Per Capita, Income Per Capita\n",
    "\n",
    "df_test = df[[\"State Bottle Cost\",\"State Bottle Retail\",\"Pack\",\"Bottles Sold Per Capita\",\n",
    "              \"Alcohol Expense Per Capita\",\"Income Per Capita\",\"Population\",\n",
    "              \"Volume Sold (Gallons) Per Capita\"]]\n",
    "df_test = standardize(df_test)\n",
    "response = \"Volume Sold (Gallons) Per Capita\"\n",
    "folds = k_fold(5,df_test)\n",
    "out = cv(folds, response)\n",
    "print(\"test errors:\", out[0])\n",
    "print(\"     \")\n",
    "print(\"rmse:\", out[1])\n",
    "\n",
    "test_errs = []\n",
    "for i in range(5,50):\n",
    "    folds = k_fold(i, df_test)\n",
    "    out = cv(folds, response)\n",
    "    test_errs.append(out[1])\n",
    "plt.plot(test_errs)\n",
    "print(\"K-Folds = \", test_errs.index(min(test_errs)))\n",
    "print(\"Minimum RMSE = \", min(test_errs))"
   ]
  },
  {
   "cell_type": "markdown",
   "metadata": {},
   "source": [
    "#  Best 7 Predictor Model:  Bottles Sold Per Capita * Alcohol Expense Per Capita * Income Per Capita * State Bottle Cost * Pack * State Bottle Retail * Alcohol Type"
   ]
  },
  {
   "cell_type": "code",
   "execution_count": null,
   "metadata": {},
   "outputs": [],
   "source": [
    "# 8 predictors: State Bottle Cost, State Bottle Retail, Alcohol Type, Pack,\n",
    "#             Bottles Sold Per Capita, Alcohol Expense Per Capita, Income Per Capita, Population\n",
    "\n",
    "df_test = df[[\"State Bottle Cost\",\"State Bottle Retail\",\"Pack\",\"Bottles Sold Per Capita\",\"Population\",\n",
    "              \"Alcohol Expense Per Capita\",\"Income Per Capita\",\"Consolidated_Brandy\",\"Consolidated_Gin\", \"Consolidated_Rum\",\n",
    "              \"Consolidated_Schnapps\",\"Consolidated_Tequila\",\"Consolidated_Vodka\",\"Consolidated_Whiskey\"\n",
    "              ,\"Volume Sold (Gallons) Per Capita\"]]\n",
    "df_test = standardize(df_test)\n",
    "response = \"Volume Sold (Gallons) Per Capita\"\n",
    "folds = k_fold(5,df_test)\n",
    "out = cv(folds, response)\n",
    "print(\"test errors:\", out[0])\n",
    "print(\"     \")\n",
    "print(\"rmse:\", out[1])\n",
    "eight_pr1 = out[1]\n",
    "\n",
    "test_errs = []\n",
    "for i in range(5,50):\n",
    "    folds = k_fold(i, df_test)\n",
    "    out = cv(folds, response)\n",
    "    test_errs.append(out[1])\n",
    "plt.plot(test_errs)\n",
    "print(\"K-Folds = \", test_errs.index(min(test_errs)))\n",
    "print(\"Minimum RMSE = \", min(test_errs))"
   ]
  },
  {
   "cell_type": "markdown",
   "metadata": {},
   "source": [
    "# Best Models "
   ]
  },
  {
   "cell_type": "code",
   "execution_count": null,
   "metadata": {},
   "outputs": [],
   "source": [
    "data = {\"Predictors\": [\"State Bottle Cost\", \"State Bottle Retail\",\"Bottles Sold Per Capita\",\n",
    "                       \"Pack\", \"Alcohol Expense Per Capita\",\"Population\",\"Income Per Capita\", \"Alcohol Type\"],\n",
    "       \"RMSE\": [SBC, SBR, BSPC,PCK,AEPC,PPLN,IPC,ALC],}\n",
    "one_predictor = pd.DataFrame(data, columns = [\"Predictors\", \"RMSE\"])\n",
    "one_predictor"
   ]
  },
  {
   "cell_type": "code",
   "execution_count": null,
   "metadata": {},
   "outputs": [],
   "source": [
    "data = {\"Test\":[\"Test 1\", \"Test 2\", \"Test 3\", \"Test 4\", \"Test 5\", \"Test 6\", \"Test 7\", \"Test 8\",\n",
    "               \"Test 9\",\"Test 10\", \"Test 11\",\"Test 12\"],\n",
    "       \"RMSE\": [two_pr, three_pr1, three_pr2, three_pr3, four_pr1, four_pr2, five_pr1, \n",
    "                five_pr2, six_pr1, six_pr2, seven_pr1, eight_pr1],\n",
    "       \"Predictors\": [\"BSPC*AEPC\",\n",
    "                      \"BSPC*AEPC*SBC\",\n",
    "                      \"BSPC*AEPC*SBR\",\n",
    "                      \"BSPC*AEPC*PCK\",\n",
    "                      \"BSPC*AEPC*PCK*SBR\",\n",
    "                      \"BSPC*AEPC*PCK*SBC\",\n",
    "                      \"BSPC*AEPC*PCK*SBC*SBR\",\n",
    "                      \"BSPC*AEPC*PCK*SBC*IPC\",\n",
    "                      \"BSPC*AEPC*PCK*SBC*IPC*SBR\",\n",
    "                      \"BSPC*AEPC*PCK*SBC*IPC*ALC\",\n",
    "                      \"BSPC*AEPC*PCK*SBC*IPC*SBR*ALC\",\n",
    "                      \"BSPC*AEPC*PCK*SBC*IPC*SBR*ALC*PPLN\"],}\n",
    "models = pd.DataFrame(data, columns = [\"Test\", \"RMSE\", \"Predictors\"])\n",
    "models"
   ]
  },
  {
   "cell_type": "code",
   "execution_count": null,
   "metadata": {},
   "outputs": [],
   "source": [
    "data = {\"Predictor\": [\"BSPC\",\"AEPC\",\"SBC\",\"PCK\",\"PPLN\",\"SBR\",\"IPC\",\"ALC\"],\n",
    "       \"Mapping\": [\"Bottles Sold Per Capita\", \"Alcohol Expense Per Capita\", \"State Bottle Cost\",\"Pack\",\n",
    "                  \"Population\", \"State Bottle Retail\", \"Income Per Capita\",\"Alcohol Type\"],}\n",
    "mapping = pd.DataFrame(data, columns = [\"Predictor\", \"Mapping\"])\n",
    "mapping"
   ]
  }
 ],
 "metadata": {
  "kernelspec": {
   "display_name": "Python 3",
   "language": "python",
   "name": "python3"
  },
  "language_info": {
   "codemirror_mode": {
    "name": "ipython",
    "version": 3
   },
   "file_extension": ".py",
   "mimetype": "text/x-python",
   "name": "python",
   "nbconvert_exporter": "python",
   "pygments_lexer": "ipython3",
   "version": "3.7.3"
  }
 },
 "nbformat": 4,
 "nbformat_minor": 4
}

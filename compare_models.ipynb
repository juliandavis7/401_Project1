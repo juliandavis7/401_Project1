{
 "cells": [
  {
   "cell_type": "code",
   "execution_count": 1,
   "metadata": {},
   "outputs": [],
   "source": [
    "import pandas as pd\n",
    "import numpy as np\n",
    "from numpy.linalg import inv\n",
    "import sklearn\n",
    "import matplotlib.pyplot as plt"
   ]
  },
  {
   "cell_type": "code",
   "execution_count": 2,
   "metadata": {},
   "outputs": [],
   "source": [
    "# linear regression methodology\n",
    "class LR:\n",
    "    \n",
    "    def fit(self, X_train, y_train):\n",
    "        # create vector of ones...\n",
    "        ones = np.ones(shape=len(X_train))[..., None]\n",
    "        #...and add to feature matrix\n",
    "        X = np.concatenate((ones, X_train), 1)\n",
    "        #calculate coefficients using closed-form solution\n",
    "        self.coeffs = inv(X.transpose().dot(X)).dot(X.transpose()).dot(y_train)\n",
    "        \n",
    "    def predict(self, X_test):\n",
    "        ones = np.ones(shape=len(X_test))[..., None]\n",
    "        X_test = np.concatenate((ones, X_test), 1)\n",
    "        y_hat = X_test.dot(self.coeffs)\n",
    "        return y_hat\n"
   ]
  },
  {
   "cell_type": "code",
   "execution_count": 3,
   "metadata": {},
   "outputs": [
    {
     "data": {
      "text/plain": [
       "array([13.5724999 , 12.41648163, 11.26046336, 10.1044451 ,  8.94842683,\n",
       "        7.79240856,  6.6363903 ,  5.48037203,  4.32435376,  3.1683355 ,\n",
       "        2.01231723,  0.85629897])"
      ]
     },
     "execution_count": 3,
     "metadata": {},
     "output_type": "execute_result"
    }
   ],
   "source": [
    "# sklear linear regression example\n",
    "from sklearn.linear_model import LinearRegression\n",
    "\n",
    "data_dir = \"https://dlsun.github.io/pods/data/\"\n",
    "bordeaux_df = pd.read_csv(data_dir + \"bordeaux.csv\",\n",
    "                          index_col=\"year\")\n",
    "\n",
    "bordeaux_train = bordeaux_df.loc[:1980].copy()\n",
    "bordeaux_test = bordeaux_df.loc[1980:].copy()\n",
    "\n",
    "X_train = bordeaux_train[[\"age\"]]\n",
    "X_test = bordeaux_test[[\"age\"]]\n",
    "y_train = bordeaux_train[\"price\"]\n",
    "\n",
    "model = LinearRegression()\n",
    "model.fit(X=X_train, y=y_train)\n",
    "model.predict(X=X_test)"
   ]
  },
  {
   "cell_type": "code",
   "execution_count": 4,
   "metadata": {},
   "outputs": [
    {
     "data": {
      "text/plain": [
       "array([13.5724999 , 12.41648163, 11.26046336, 10.1044451 ,  8.94842683,\n",
       "        7.79240856,  6.6363903 ,  5.48037203,  4.32435376,  3.1683355 ,\n",
       "        2.01231723,  0.85629897])"
      ]
     },
     "execution_count": 4,
     "metadata": {},
     "output_type": "execute_result"
    }
   ],
   "source": [
    "# our linear regression example on same data\n",
    "model = LR()\n",
    "model.fit(X_train, y_train)\n",
    "model.predict(X_test)"
   ]
  },
  {
   "cell_type": "code",
   "execution_count": 5,
   "metadata": {},
   "outputs": [],
   "source": [
    "# cross validation methodology\n",
    "def k_fold(k, df):\n",
    "    n = len(df)\n",
    "    cut = int(n/k)\n",
    "    folds = []\n",
    "    start = 0\n",
    "    end = cut\n",
    "    for i in range(0, k):\n",
    "        fold = df[start: end]\n",
    "        folds.append(fold)\n",
    "        start += int(n/k)\n",
    "        end += int(n/k)\n",
    "    return folds\n",
    "\n",
    "def mse(actual, predicted):\n",
    "    return -(((actual - predicted)**2).mean())\n",
    "\n",
    "def cv(folds, response):\n",
    "    test_errors = []\n",
    "    for i in range(0, len(folds)):\n",
    "        X_train = pd.DataFrame()\n",
    "        Y_train = pd.Series(dtype=float)\n",
    "        for j in range(0, len(folds)):\n",
    "            if i == j:\n",
    "                X_test = folds[j].drop([response], axis=1)\n",
    "                Y_test = folds[j][response]\n",
    "            if i != j:\n",
    "                X_train = X_train.append(folds[j].drop([response], axis=1))\n",
    "                Y_train = Y_train.append(folds[j][response])\n",
    "    \n",
    "        model = LR()\n",
    "        model.fit(X_train, Y_train.transpose())\n",
    "        Y_pred = pd.DataFrame()\n",
    "        Y_pred = model.predict(X_test)\n",
    "        error = mse(Y_test, Y_pred) \n",
    "        test_errors.append(error)\n",
    "        rmse = np.sqrt(-sum(test_errors)/len(folds))\n",
    "    return test_errors, rmse"
   ]
  },
  {
   "cell_type": "code",
   "execution_count": 6,
   "metadata": {},
   "outputs": [
    {
     "name": "stdout",
     "output_type": "stream",
     "text": [
      "[-0.29898833 -0.27833086]\n",
      "0.5371844859149082\n"
     ]
    }
   ],
   "source": [
    "# sklearn cross validation example\n",
    "from sklearn.linear_model import LinearRegression\n",
    "from sklearn.model_selection import cross_val_score\n",
    "\n",
    "data_dir = \"https://dlsun.github.io/pods/data/\"\n",
    "bordeaux_df = pd.read_csv(data_dir + \"bordeaux.csv\",\n",
    "                          index_col=\"year\")\n",
    "\n",
    "bordeaux_train = bordeaux_df.loc[:1980].copy()\n",
    "bordeaux_train[\"log(price)\"] = np.log(bordeaux_train[\"price\"])\n",
    "bordeaux_train.drop([\"price\"], axis=1, inplace=True)\n",
    "\n",
    "model = LinearRegression()\n",
    "scores = cross_val_score(model, \n",
    "                         X=bordeaux_train[[\"win\", \"summer\"]],\n",
    "                         y=bordeaux_train[\"log(price)\"],\n",
    "                         scoring=\"neg_mean_squared_error\",\n",
    "                         cv=2)\n",
    "\n",
    "print(scores)\n",
    "print(np.sqrt(-scores).mean())"
   ]
  },
  {
   "cell_type": "code",
   "execution_count": 7,
   "metadata": {},
   "outputs": [
    {
     "name": "stdout",
     "output_type": "stream",
     "text": [
      "[-0.32615365834155635, -0.28766838705142556]\n",
      "0.5539955078306059\n"
     ]
    }
   ],
   "source": [
    "# our cross validation on same data\n",
    "bordeaux_train2 = bordeaux_train[[\"win\", \"summer\", \"log(price)\"]]\n",
    "folds = k_fold(2, bordeaux_train2)\n",
    "errs, rmse = cv(folds, \"log(price)\")\n",
    "print(errs)\n",
    "print(rmse)\n"
   ]
  },
  {
   "cell_type": "code",
   "execution_count": 8,
   "metadata": {},
   "outputs": [],
   "source": [
    "# Standardizing the Dataframe\n",
    "\n",
    "def standardize(df): \n",
    "    #standardize only quantitative variables\n",
    "    df_st = ((df.select_dtypes(float) - df.select_dtypes(float).mean()) / df.select_dtypes(float).std()) \n",
    "\n",
    "    #join the standardized quantites back with original df \n",
    "    df_st = df.select_dtypes(exclude=float).join(df_st)\n",
    "    return df_st "
   ]
  },
  {
   "cell_type": "code",
   "execution_count": 9,
   "metadata": {},
   "outputs": [],
   "source": [
    "df = pd.read_csv(\"iowa_month_county_main.csv\") \n",
    "df.set_index([\"County\", \"Month-Year\"], inplace=True)\n",
    "\n",
    "halfway = len(df)//2\n",
    "\n",
    "df_train = df.iloc[:halfway].copy()\n",
    "df_test = df.iloc[halfway:].copy()"
   ]
  },
  {
   "cell_type": "code",
   "execution_count": 10,
   "metadata": {},
   "outputs": [
    {
     "data": {
      "text/html": [
       "<div>\n",
       "<style scoped>\n",
       "    .dataframe tbody tr th:only-of-type {\n",
       "        vertical-align: middle;\n",
       "    }\n",
       "\n",
       "    .dataframe tbody tr th {\n",
       "        vertical-align: top;\n",
       "    }\n",
       "\n",
       "    .dataframe thead th {\n",
       "        text-align: right;\n",
       "    }\n",
       "</style>\n",
       "<table border=\"1\" class=\"dataframe\">\n",
       "  <thead>\n",
       "    <tr style=\"text-align: right;\">\n",
       "      <th></th>\n",
       "      <th></th>\n",
       "      <th>Pack</th>\n",
       "      <th>State Bottle Cost</th>\n",
       "      <th>State Bottle Retail</th>\n",
       "      <th>Bottles Sold Per Capita</th>\n",
       "      <th>Alcohol Expense Per Capita</th>\n",
       "      <th>Volume Sold (Gallons) Per Capita</th>\n",
       "      <th>Consolidated_Brandy</th>\n",
       "      <th>Consolidated_Gin</th>\n",
       "      <th>Consolidated_Rum</th>\n",
       "      <th>Consolidated_Schnapps</th>\n",
       "      <th>Consolidated_Tequila</th>\n",
       "      <th>Consolidated_Vodka</th>\n",
       "      <th>Consolidated_Whiskey</th>\n",
       "      <th>Population</th>\n",
       "      <th>Income Per Capita</th>\n",
       "    </tr>\n",
       "    <tr>\n",
       "      <th>County</th>\n",
       "      <th>Month-Year</th>\n",
       "      <th></th>\n",
       "      <th></th>\n",
       "      <th></th>\n",
       "      <th></th>\n",
       "      <th></th>\n",
       "      <th></th>\n",
       "      <th></th>\n",
       "      <th></th>\n",
       "      <th></th>\n",
       "      <th></th>\n",
       "      <th></th>\n",
       "      <th></th>\n",
       "      <th></th>\n",
       "      <th></th>\n",
       "      <th></th>\n",
       "    </tr>\n",
       "  </thead>\n",
       "  <tbody>\n",
       "    <tr>\n",
       "      <th rowspan=\"5\" valign=\"top\">Adair</th>\n",
       "      <th>01-2012</th>\n",
       "      <td>10.411765</td>\n",
       "      <td>7.212647</td>\n",
       "      <td>10.852941</td>\n",
       "      <td>0.000914</td>\n",
       "      <td>0.009719</td>\n",
       "      <td>0.000267</td>\n",
       "      <td>0.000000</td>\n",
       "      <td>0.029412</td>\n",
       "      <td>0.088235</td>\n",
       "      <td>0.176471</td>\n",
       "      <td>0.00000</td>\n",
       "      <td>0.235294</td>\n",
       "      <td>0.323529</td>\n",
       "      <td>7468</td>\n",
       "      <td>42093</td>\n",
       "    </tr>\n",
       "    <tr>\n",
       "      <th>02-2012</th>\n",
       "      <td>10.394737</td>\n",
       "      <td>9.180263</td>\n",
       "      <td>13.802105</td>\n",
       "      <td>0.000927</td>\n",
       "      <td>0.011195</td>\n",
       "      <td>0.000250</td>\n",
       "      <td>0.052632</td>\n",
       "      <td>0.105263</td>\n",
       "      <td>0.052632</td>\n",
       "      <td>0.105263</td>\n",
       "      <td>0.00000</td>\n",
       "      <td>0.184211</td>\n",
       "      <td>0.394737</td>\n",
       "      <td>7468</td>\n",
       "      <td>42093</td>\n",
       "    </tr>\n",
       "    <tr>\n",
       "      <th>03-2012</th>\n",
       "      <td>12.307692</td>\n",
       "      <td>7.256923</td>\n",
       "      <td>10.931923</td>\n",
       "      <td>0.000917</td>\n",
       "      <td>0.009475</td>\n",
       "      <td>0.000196</td>\n",
       "      <td>0.076923</td>\n",
       "      <td>0.076923</td>\n",
       "      <td>0.153846</td>\n",
       "      <td>0.153846</td>\n",
       "      <td>0.00000</td>\n",
       "      <td>0.153846</td>\n",
       "      <td>0.346154</td>\n",
       "      <td>7468</td>\n",
       "      <td>42093</td>\n",
       "    </tr>\n",
       "    <tr>\n",
       "      <th>04-2012</th>\n",
       "      <td>12.142857</td>\n",
       "      <td>7.265238</td>\n",
       "      <td>10.922857</td>\n",
       "      <td>0.000969</td>\n",
       "      <td>0.010872</td>\n",
       "      <td>0.000235</td>\n",
       "      <td>0.071429</td>\n",
       "      <td>0.166667</td>\n",
       "      <td>0.047619</td>\n",
       "      <td>0.047619</td>\n",
       "      <td>0.00000</td>\n",
       "      <td>0.214286</td>\n",
       "      <td>0.309524</td>\n",
       "      <td>7468</td>\n",
       "      <td>42093</td>\n",
       "    </tr>\n",
       "    <tr>\n",
       "      <th>05-2012</th>\n",
       "      <td>10.238095</td>\n",
       "      <td>9.279286</td>\n",
       "      <td>13.990476</td>\n",
       "      <td>0.001011</td>\n",
       "      <td>0.013036</td>\n",
       "      <td>0.000260</td>\n",
       "      <td>0.023810</td>\n",
       "      <td>0.047619</td>\n",
       "      <td>0.000000</td>\n",
       "      <td>0.047619</td>\n",
       "      <td>0.02381</td>\n",
       "      <td>0.285714</td>\n",
       "      <td>0.476190</td>\n",
       "      <td>7468</td>\n",
       "      <td>42093</td>\n",
       "    </tr>\n",
       "  </tbody>\n",
       "</table>\n",
       "</div>"
      ],
      "text/plain": [
       "                        Pack  State Bottle Cost  State Bottle Retail  \\\n",
       "County Month-Year                                                      \n",
       "Adair  01-2012     10.411765           7.212647            10.852941   \n",
       "       02-2012     10.394737           9.180263            13.802105   \n",
       "       03-2012     12.307692           7.256923            10.931923   \n",
       "       04-2012     12.142857           7.265238            10.922857   \n",
       "       05-2012     10.238095           9.279286            13.990476   \n",
       "\n",
       "                   Bottles Sold Per Capita  Alcohol Expense Per Capita  \\\n",
       "County Month-Year                                                        \n",
       "Adair  01-2012                    0.000914                    0.009719   \n",
       "       02-2012                    0.000927                    0.011195   \n",
       "       03-2012                    0.000917                    0.009475   \n",
       "       04-2012                    0.000969                    0.010872   \n",
       "       05-2012                    0.001011                    0.013036   \n",
       "\n",
       "                   Volume Sold (Gallons) Per Capita  Consolidated_Brandy  \\\n",
       "County Month-Year                                                          \n",
       "Adair  01-2012                             0.000267             0.000000   \n",
       "       02-2012                             0.000250             0.052632   \n",
       "       03-2012                             0.000196             0.076923   \n",
       "       04-2012                             0.000235             0.071429   \n",
       "       05-2012                             0.000260             0.023810   \n",
       "\n",
       "                   Consolidated_Gin  Consolidated_Rum  Consolidated_Schnapps  \\\n",
       "County Month-Year                                                              \n",
       "Adair  01-2012             0.029412          0.088235               0.176471   \n",
       "       02-2012             0.105263          0.052632               0.105263   \n",
       "       03-2012             0.076923          0.153846               0.153846   \n",
       "       04-2012             0.166667          0.047619               0.047619   \n",
       "       05-2012             0.047619          0.000000               0.047619   \n",
       "\n",
       "                   Consolidated_Tequila  Consolidated_Vodka  \\\n",
       "County Month-Year                                             \n",
       "Adair  01-2012                  0.00000            0.235294   \n",
       "       02-2012                  0.00000            0.184211   \n",
       "       03-2012                  0.00000            0.153846   \n",
       "       04-2012                  0.00000            0.214286   \n",
       "       05-2012                  0.02381            0.285714   \n",
       "\n",
       "                   Consolidated_Whiskey  Population  Income Per Capita  \n",
       "County Month-Year                                                       \n",
       "Adair  01-2012                 0.323529        7468              42093  \n",
       "       02-2012                 0.394737        7468              42093  \n",
       "       03-2012                 0.346154        7468              42093  \n",
       "       04-2012                 0.309524        7468              42093  \n",
       "       05-2012                 0.476190        7468              42093  "
      ]
     },
     "execution_count": 10,
     "metadata": {},
     "output_type": "execute_result"
    }
   ],
   "source": [
    "df_train.head()"
   ]
  },
  {
   "cell_type": "code",
   "execution_count": 11,
   "metadata": {},
   "outputs": [
    {
     "data": {
      "text/plain": [
       "array([[0.0001966],\n",
       "       [0.0001966],\n",
       "       [0.0001966],\n",
       "       [0.0001966],\n",
       "       [0.0001966]])"
      ]
     },
     "execution_count": 11,
     "metadata": {},
     "output_type": "execute_result"
    }
   ],
   "source": [
    "y_train = df_train[[\"Volume Sold (Gallons) Per Capita\"]]\n",
    "x_train = df_train[[\"State Bottle Cost\"]]\n",
    "x_test = df_train[[\"State Bottle Cost\"]]\n",
    "model_sk = LinearRegression()\n",
    "model.fit(x_train, y_train)\n",
    "model.predict(y_train)[0:5]"
   ]
  },
  {
   "cell_type": "markdown",
   "metadata": {},
   "source": [
    "# Testing Models"
   ]
  },
  {
   "cell_type": "code",
   "execution_count": 12,
   "metadata": {},
   "outputs": [
    {
     "name": "stdout",
     "output_type": "stream",
     "text": [
      "test errors: [-0.965716681247778, -1.0177505840751349, -0.9654639247161485, -1.1707939223824249, -0.929564275192455]\n",
      "     \n",
      "rmse: 1.0049168510492736\n",
      "K-Folds =  2\n",
      "Minimum RMSE =  1.0037217239396046\n"
     ]
    },
    {
     "data": {
      "image/png": "[encoded data removed]",
      "text/plain": [
       "<Figure size 432x288 with 1 Axes>"
      ]
     },
     "metadata": {
      "needs_background": "light"
     },
     "output_type": "display_data"
    }
   ],
   "source": [
    "# 1 predictor: State Bottle Cost\n",
    "df_test = df[[\"State Bottle Cost\",\"Volume Sold (Gallons) Per Capita\"]]\n",
    "df_test = standardize(df_test)\n",
    "response = \"Volume Sold (Gallons) Per Capita\"\n",
    "folds = k_fold(5,df_test)\n",
    "out = cv(folds, response)\n",
    "print(\"test errors:\", out[0])\n",
    "print(\"     \")\n",
    "print(\"rmse:\", out[1])\n",
    "SBC = out[1]\n",
    "\n",
    "test_errs = []\n",
    "for i in range(5,50):\n",
    "    folds = k_fold(i, df_test)\n",
    "    out = cv(folds, response)\n",
    "    test_errs.append(out[1])\n",
    "plt.plot(test_errs)\n",
    "print(\"K-Folds = \", test_errs.index(min(test_errs)))\n",
    "print(\"Minimum RMSE = \", min(test_errs))"
   ]
  },
  {
   "cell_type": "code",
   "execution_count": 13,
   "metadata": {},
   "outputs": [
    {
     "name": "stdout",
     "output_type": "stream",
     "text": [
      "test errors: [-0.965911882904529, -1.0180068311104775, -0.9652820102954729, -1.1710227729082208, -0.9293181387139001]\n",
      "     \n",
      "rmse: 1.0049419521477447\n",
      "K-Folds =  2\n",
      "Minimum RMSE =  1.0037580609633043\n"
     ]
    },
    {
     "data": {
      "image/png": "[encoded data removed]",
      "text/plain": [
       "<Figure size 432x288 with 1 Axes>"
      ]
     },
     "metadata": {
      "needs_background": "light"
     },
     "output_type": "display_data"
    }
   ],
   "source": [
    "# 1 predictor: State Bottle Retail\n",
    "df_test = df[[\"State Bottle Retail\",\"Volume Sold (Gallons) Per Capita\"]]\n",
    "df_test = standardize(df_test)\n",
    "response = \"Volume Sold (Gallons) Per Capita\"\n",
    "folds = k_fold(5,df_test)\n",
    "out = cv(folds, response)\n",
    "print(\"test errors:\", out[0])\n",
    "print(\"     \")\n",
    "print(\"rmse:\", out[1])\n",
    "SBR = out[1]\n",
    "\n",
    "test_errs = []\n",
    "for i in range(5,50):\n",
    "    folds = k_fold(i, df_test)\n",
    "    out = cv(folds, response)\n",
    "    test_errs.append(out[1])\n",
    "plt.plot(test_errs)\n",
    "print(\"K-Folds = \", test_errs.index(min(test_errs)))\n",
    "print(\"Minimum RMSE = \", min(test_errs))"
   ]
  },
  {
   "cell_type": "code",
   "execution_count": 14,
   "metadata": {},
   "outputs": [
    {
     "name": "stdout",
     "output_type": "stream",
     "text": [
      "test errors: [-0.1532111485997984, -0.5828117905877774, -0.13386775538722756, -0.11199478435870916, -0.10105250122832367]\n",
      "     \n",
      "rmse: 0.46538972488911623\n",
      "K-Folds =  27\n",
      "Minimum RMSE =  0.4534213466673819\n"
     ]
    },
    {
     "data": {
      "image/png": "[encoded data removed]",
      "text/plain": [
       "<Figure size 432x288 with 1 Axes>"
      ]
     },
     "metadata": {
      "needs_background": "light"
     },
     "output_type": "display_data"
    }
   ],
   "source": [
    "# 1 predictor: Bottles Sold Per Capita\n",
    "df_test = df[[\"Bottles Sold Per Capita\",\"Volume Sold (Gallons) Per Capita\"]]\n",
    "df_test = standardize(df_test)\n",
    "response = \"Volume Sold (Gallons) Per Capita\"\n",
    "folds = k_fold(5,df_test)\n",
    "out = cv(folds, response)\n",
    "print(\"test errors:\", out[0])\n",
    "print(\"     \")\n",
    "print(\"rmse:\", out[1])\n",
    "BSPC = out[1]\n",
    "\n",
    "test_errs = []\n",
    "for i in range(5,50):\n",
    "    folds = k_fold(i, df_test)\n",
    "    out = cv(folds, response)\n",
    "    test_errs.append(out[1])\n",
    "plt.plot(test_errs)\n",
    "print(\"K-Folds = \", test_errs.index(min(test_errs)))\n",
    "print(\"Minimum RMSE = \", min(test_errs))"
   ]
  },
  {
   "cell_type": "code",
   "execution_count": 15,
   "metadata": {},
   "outputs": [
    {
     "name": "stdout",
     "output_type": "stream",
     "text": [
      "test errors: [-0.9402652751972587, -1.2902381286233797, -0.8507876228891286, -1.0597884378553637, -0.8366571106387771]\n",
      "     \n",
      "rmse: 0.9977711736870241\n",
      "K-Folds =  30\n",
      "Minimum RMSE =  0.9844822076764221\n"
     ]
    },
    {
     "data": {
      "image/png": "[encoded data removed]",
      "text/plain": [
       "<Figure size 432x288 with 1 Axes>"
      ]
     },
     "metadata": {
      "needs_background": "light"
     },
     "output_type": "display_data"
    }
   ],
   "source": [
    "# 1 predictor: Pack\n",
    "df_test = df[[\"Pack\",\"Volume Sold (Gallons) Per Capita\"]]\n",
    "df_test = standardize(df_test)\n",
    "response = \"Volume Sold (Gallons) Per Capita\"\n",
    "folds = k_fold(5,df_test)\n",
    "out = cv(folds, response)\n",
    "print(\"test errors:\", out[0])\n",
    "print(\"     \")\n",
    "print(\"rmse:\", out[1])\n",
    "PCK = out[1]\n",
    "\n",
    "test_errs = []\n",
    "for i in range(5,50):\n",
    "    folds = k_fold(i, df_test)\n",
    "    out = cv(folds, response)\n",
    "    test_errs.append(out[1])\n",
    "plt.plot(test_errs)\n",
    "print(\"K-Folds = \", test_errs.index(min(test_errs)))\n",
    "print(\"Minimum RMSE = \", min(test_errs))"
   ]
  },
  {
   "cell_type": "code",
   "execution_count": 16,
   "metadata": {},
   "outputs": [
    {
     "name": "stdout",
     "output_type": "stream",
     "text": [
      "test errors: [-0.13468322496424348, -0.19294824672271463, -0.07064414991364953, -0.08470285026547862, -0.08580153461450941]\n",
      "     \n",
      "rmse: 0.3372773358767516\n",
      "K-Folds =  2\n",
      "Minimum RMSE =  0.33694034773331816\n"
     ]
    },
    {
     "data": {
      "image/png": "[encoded data removed]",
      "text/plain": [
       "<Figure size 432x288 with 1 Axes>"
      ]
     },
     "metadata": {
      "needs_background": "light"
     },
     "output_type": "display_data"
    }
   ],
   "source": [
    "# 1 predictor: Alcohol Expense Per Capita\n",
    "df_test = df[[\"Alcohol Expense Per Capita\",\"Volume Sold (Gallons) Per Capita\"]]\n",
    "df_test = standardize(df_test)\n",
    "response = \"Volume Sold (Gallons) Per Capita\"\n",
    "folds = k_fold(5,df_test)\n",
    "out = cv(folds, response)\n",
    "print(\"test errors:\", out[0])\n",
    "print(\"     \")\n",
    "print(\"rmse:\", out[1])\n",
    "AEPC = out[1]\n",
    "\n",
    "test_errs = []\n",
    "for i in range(5,50):\n",
    "    folds = k_fold(i, df_test)\n",
    "    out = cv(folds, response)\n",
    "    test_errs.append(out[1])\n",
    "plt.plot(test_errs)\n",
    "print(\"K-Folds = \", test_errs.index(min(test_errs)))\n",
    "print(\"Minimum RMSE = \", min(test_errs))"
   ]
  },
  {
   "cell_type": "code",
   "execution_count": 17,
   "metadata": {},
   "outputs": [
    {
     "name": "stdout",
     "output_type": "stream",
     "text": [
      "test errors: [-0.8811549388058023, -0.8898072085261692, -0.7538741809742702, -1.7525408648384015, -0.7084337738505174]\n",
      "     \n",
      "rmse: 0.9985800886253601\n",
      "K-Folds =  38\n",
      "Minimum RMSE =  0.9471059028328841\n"
     ]
    },
    {
     "data": {
      "image/png": "[encoded data removed]",
      "text/plain": [
       "<Figure size 432x288 with 1 Axes>"
      ]
     },
     "metadata": {
      "needs_background": "light"
     },
     "output_type": "display_data"
    }
   ],
   "source": [
    "# 1 predictor: Population\n",
    "df_test = df[[\"Population\",\"Volume Sold (Gallons) Per Capita\"]]\n",
    "df_test = standardize(df_test)\n",
    "response = \"Volume Sold (Gallons) Per Capita\"\n",
    "folds = k_fold(5,df_test)\n",
    "out = cv(folds, response)\n",
    "print(\"test errors:\", out[0])\n",
    "print(\"     \")\n",
    "print(\"rmse:\", out[1])\n",
    "PPLN = out[1]\n",
    "\n",
    "test_errs = []\n",
    "for i in range(5,50):\n",
    "    folds = k_fold(i, df_test)\n",
    "    out = cv(folds, response)\n",
    "    test_errs.append(out[1])\n",
    "plt.plot(test_errs)\n",
    "print(\"K-Folds = \", test_errs.index(min(test_errs)))\n",
    "print(\"Minimum RMSE = \", min(test_errs))"
   ]
  },
  {
   "cell_type": "code",
   "execution_count": 18,
   "metadata": {},
   "outputs": [
    {
     "name": "stdout",
     "output_type": "stream",
     "text": [
      "test errors: [-0.9547656982034679, -1.084887749996942, -0.9307411163233443, -1.1729577895977776, -0.9187732404608955]\n",
      "     \n",
      "rmse: 1.006193380477374\n",
      "K-Folds =  0\n",
      "Minimum RMSE =  1.006193380477374\n"
     ]
    },
    {
     "data": {
      "image/png": "[encoded data removed]",
      "text/plain": [
       "<Figure size 432x288 with 1 Axes>"
      ]
     },
     "metadata": {
      "needs_background": "light"
     },
     "output_type": "display_data"
    }
   ],
   "source": [
    "# 1 predictor: Income Per Capita\n",
    "df_test = df[[\"Income Per Capita\",\"Volume Sold (Gallons) Per Capita\"]]\n",
    "df_test = standardize(df_test)\n",
    "response = \"Volume Sold (Gallons) Per Capita\"\n",
    "folds = k_fold(5,df_test)\n",
    "out = cv(folds, response)\n",
    "print(\"test errors:\", out[0])\n",
    "print(\"     \")\n",
    "print(\"rmse:\", out[1])\n",
    "IPC = out[1]\n",
    "\n",
    "test_errs = []\n",
    "for i in range(5,50):\n",
    "    folds = k_fold(i, df_test)\n",
    "    out = cv(folds, response)\n",
    "    test_errs.append(out[1])\n",
    "plt.plot(test_errs)\n",
    "print(\"K-Folds = \", test_errs.index(min(test_errs)))\n",
    "print(\"Minimum RMSE = \", min(test_errs))"
   ]
  },
  {
   "cell_type": "code",
   "execution_count": 19,
   "metadata": {},
   "outputs": [
    {
     "name": "stdout",
     "output_type": "stream",
     "text": [
      "test errors: [-0.9629951993331423, -0.9794195993498143, -0.9315383647199776, -1.1144029128154345, -0.857402876428432]\n",
      "     \n",
      "rmse: 0.9844550728851774\n",
      "K-Folds =  2\n",
      "Minimum RMSE =  0.9836356577877657\n"
     ]
    },
    {
     "data": {
      "image/png": "[encoded data removed]",
      "text/plain": [
       "<Figure size 432x288 with 1 Axes>"
      ]
     },
     "metadata": {
      "needs_background": "light"
     },
     "output_type": "display_data"
    }
   ],
   "source": [
    "# 1 predictor: Alcohol Type\n",
    "df_test = df[[\"Consolidated_Brandy\",\"Consolidated_Gin\",\"Consolidated_Rum\",\n",
    "              \"Consolidated_Schnapps\",\"Consolidated_Tequila\",\"Consolidated_Vodka\",\"Consolidated_Whiskey\"\n",
    "              ,\"Volume Sold (Gallons) Per Capita\"]]\n",
    "df_test = standardize(df_test)\n",
    "response = \"Volume Sold (Gallons) Per Capita\"\n",
    "folds = k_fold(5,df_test)\n",
    "out = cv(folds, response)\n",
    "print(\"test errors:\", out[0])\n",
    "print(\"     \")\n",
    "print(\"rmse:\", out[1])\n",
    "ALC = out[1]\n",
    "\n",
    "test_errs = []\n",
    "for i in range(5,50):\n",
    "    folds = k_fold(i, df_test)\n",
    "    out = cv(folds, response)\n",
    "    test_errs.append(out[1])\n",
    "plt.plot(test_errs)\n",
    "print(\"K-Folds = \", test_errs.index(min(test_errs)))\n",
    "print(\"Minimum RMSE = \", min(test_errs))"
   ]
  },
  {
   "cell_type": "code",
   "execution_count": 20,
   "metadata": {},
   "outputs": [
    {
     "data": {
      "text/html": [
       "<div>\n",
       "<style scoped>\n",
       "    .dataframe tbody tr th:only-of-type {\n",
       "        vertical-align: middle;\n",
       "    }\n",
       "\n",
       "    .dataframe tbody tr th {\n",
       "        vertical-align: top;\n",
       "    }\n",
       "\n",
       "    .dataframe thead th {\n",
       "        text-align: right;\n",
       "    }\n",
       "</style>\n",
       "<table border=\"1\" class=\"dataframe\">\n",
       "  <thead>\n",
       "    <tr style=\"text-align: right;\">\n",
       "      <th></th>\n",
       "      <th></th>\n",
       "      <th>Pack</th>\n",
       "      <th>State Bottle Cost</th>\n",
       "      <th>State Bottle Retail</th>\n",
       "      <th>Bottles Sold Per Capita</th>\n",
       "      <th>Alcohol Expense Per Capita</th>\n",
       "      <th>Volume Sold (Gallons) Per Capita</th>\n",
       "      <th>Consolidated_Brandy</th>\n",
       "      <th>Consolidated_Gin</th>\n",
       "      <th>Consolidated_Rum</th>\n",
       "      <th>Consolidated_Schnapps</th>\n",
       "      <th>Consolidated_Tequila</th>\n",
       "      <th>Consolidated_Vodka</th>\n",
       "      <th>Consolidated_Whiskey</th>\n",
       "      <th>Population</th>\n",
       "      <th>Income Per Capita</th>\n",
       "    </tr>\n",
       "    <tr>\n",
       "      <th>County</th>\n",
       "      <th>Month-Year</th>\n",
       "      <th></th>\n",
       "      <th></th>\n",
       "      <th></th>\n",
       "      <th></th>\n",
       "      <th></th>\n",
       "      <th></th>\n",
       "      <th></th>\n",
       "      <th></th>\n",
       "      <th></th>\n",
       "      <th></th>\n",
       "      <th></th>\n",
       "      <th></th>\n",
       "      <th></th>\n",
       "      <th></th>\n",
       "      <th></th>\n",
       "    </tr>\n",
       "  </thead>\n",
       "  <tbody>\n",
       "    <tr>\n",
       "      <th rowspan=\"5\" valign=\"top\">Adair</th>\n",
       "      <th>01-2012</th>\n",
       "      <td>10.411765</td>\n",
       "      <td>7.212647</td>\n",
       "      <td>10.852941</td>\n",
       "      <td>0.000914</td>\n",
       "      <td>0.009719</td>\n",
       "      <td>0.000267</td>\n",
       "      <td>0.000000</td>\n",
       "      <td>0.029412</td>\n",
       "      <td>0.088235</td>\n",
       "      <td>0.176471</td>\n",
       "      <td>0.00000</td>\n",
       "      <td>0.235294</td>\n",
       "      <td>0.323529</td>\n",
       "      <td>7468</td>\n",
       "      <td>42093</td>\n",
       "    </tr>\n",
       "    <tr>\n",
       "      <th>02-2012</th>\n",
       "      <td>10.394737</td>\n",
       "      <td>9.180263</td>\n",
       "      <td>13.802105</td>\n",
       "      <td>0.000927</td>\n",
       "      <td>0.011195</td>\n",
       "      <td>0.000250</td>\n",
       "      <td>0.052632</td>\n",
       "      <td>0.105263</td>\n",
       "      <td>0.052632</td>\n",
       "      <td>0.105263</td>\n",
       "      <td>0.00000</td>\n",
       "      <td>0.184211</td>\n",
       "      <td>0.394737</td>\n",
       "      <td>7468</td>\n",
       "      <td>42093</td>\n",
       "    </tr>\n",
       "    <tr>\n",
       "      <th>03-2012</th>\n",
       "      <td>12.307692</td>\n",
       "      <td>7.256923</td>\n",
       "      <td>10.931923</td>\n",
       "      <td>0.000917</td>\n",
       "      <td>0.009475</td>\n",
       "      <td>0.000196</td>\n",
       "      <td>0.076923</td>\n",
       "      <td>0.076923</td>\n",
       "      <td>0.153846</td>\n",
       "      <td>0.153846</td>\n",
       "      <td>0.00000</td>\n",
       "      <td>0.153846</td>\n",
       "      <td>0.346154</td>\n",
       "      <td>7468</td>\n",
       "      <td>42093</td>\n",
       "    </tr>\n",
       "    <tr>\n",
       "      <th>04-2012</th>\n",
       "      <td>12.142857</td>\n",
       "      <td>7.265238</td>\n",
       "      <td>10.922857</td>\n",
       "      <td>0.000969</td>\n",
       "      <td>0.010872</td>\n",
       "      <td>0.000235</td>\n",
       "      <td>0.071429</td>\n",
       "      <td>0.166667</td>\n",
       "      <td>0.047619</td>\n",
       "      <td>0.047619</td>\n",
       "      <td>0.00000</td>\n",
       "      <td>0.214286</td>\n",
       "      <td>0.309524</td>\n",
       "      <td>7468</td>\n",
       "      <td>42093</td>\n",
       "    </tr>\n",
       "    <tr>\n",
       "      <th>05-2012</th>\n",
       "      <td>10.238095</td>\n",
       "      <td>9.279286</td>\n",
       "      <td>13.990476</td>\n",
       "      <td>0.001011</td>\n",
       "      <td>0.013036</td>\n",
       "      <td>0.000260</td>\n",
       "      <td>0.023810</td>\n",
       "      <td>0.047619</td>\n",
       "      <td>0.000000</td>\n",
       "      <td>0.047619</td>\n",
       "      <td>0.02381</td>\n",
       "      <td>0.285714</td>\n",
       "      <td>0.476190</td>\n",
       "      <td>7468</td>\n",
       "      <td>42093</td>\n",
       "    </tr>\n",
       "  </tbody>\n",
       "</table>\n",
       "</div>"
      ],
      "text/plain": [
       "                        Pack  State Bottle Cost  State Bottle Retail  \\\n",
       "County Month-Year                                                      \n",
       "Adair  01-2012     10.411765           7.212647            10.852941   \n",
       "       02-2012     10.394737           9.180263            13.802105   \n",
       "       03-2012     12.307692           7.256923            10.931923   \n",
       "       04-2012     12.142857           7.265238            10.922857   \n",
       "       05-2012     10.238095           9.279286            13.990476   \n",
       "\n",
       "                   Bottles Sold Per Capita  Alcohol Expense Per Capita  \\\n",
       "County Month-Year                                                        \n",
       "Adair  01-2012                    0.000914                    0.009719   \n",
       "       02-2012                    0.000927                    0.011195   \n",
       "       03-2012                    0.000917                    0.009475   \n",
       "       04-2012                    0.000969                    0.010872   \n",
       "       05-2012                    0.001011                    0.013036   \n",
       "\n",
       "                   Volume Sold (Gallons) Per Capita  Consolidated_Brandy  \\\n",
       "County Month-Year                                                          \n",
       "Adair  01-2012                             0.000267             0.000000   \n",
       "       02-2012                             0.000250             0.052632   \n",
       "       03-2012                             0.000196             0.076923   \n",
       "       04-2012                             0.000235             0.071429   \n",
       "       05-2012                             0.000260             0.023810   \n",
       "\n",
       "                   Consolidated_Gin  Consolidated_Rum  Consolidated_Schnapps  \\\n",
       "County Month-Year                                                              \n",
       "Adair  01-2012             0.029412          0.088235               0.176471   \n",
       "       02-2012             0.105263          0.052632               0.105263   \n",
       "       03-2012             0.076923          0.153846               0.153846   \n",
       "       04-2012             0.166667          0.047619               0.047619   \n",
       "       05-2012             0.047619          0.000000               0.047619   \n",
       "\n",
       "                   Consolidated_Tequila  Consolidated_Vodka  \\\n",
       "County Month-Year                                             \n",
       "Adair  01-2012                  0.00000            0.235294   \n",
       "       02-2012                  0.00000            0.184211   \n",
       "       03-2012                  0.00000            0.153846   \n",
       "       04-2012                  0.00000            0.214286   \n",
       "       05-2012                  0.02381            0.285714   \n",
       "\n",
       "                   Consolidated_Whiskey  Population  Income Per Capita  \n",
       "County Month-Year                                                       \n",
       "Adair  01-2012                 0.323529        7468              42093  \n",
       "       02-2012                 0.394737        7468              42093  \n",
       "       03-2012                 0.346154        7468              42093  \n",
       "       04-2012                 0.309524        7468              42093  \n",
       "       05-2012                 0.476190        7468              42093  "
      ]
     },
     "execution_count": 20,
     "metadata": {},
     "output_type": "execute_result"
    }
   ],
   "source": [
    "df.head()"
   ]
  },
  {
   "cell_type": "code",
   "execution_count": 21,
   "metadata": {},
   "outputs": [
    {
     "data": {
      "text/html": [
       "<div>\n",
       "<style scoped>\n",
       "    .dataframe tbody tr th:only-of-type {\n",
       "        vertical-align: middle;\n",
       "    }\n",
       "\n",
       "    .dataframe tbody tr th {\n",
       "        vertical-align: top;\n",
       "    }\n",
       "\n",
       "    .dataframe thead th {\n",
       "        text-align: right;\n",
       "    }\n",
       "</style>\n",
       "<table border=\"1\" class=\"dataframe\">\n",
       "  <thead>\n",
       "    <tr style=\"text-align: right;\">\n",
       "      <th></th>\n",
       "      <th>Predictors</th>\n",
       "      <th>RMSE</th>\n",
       "    </tr>\n",
       "  </thead>\n",
       "  <tbody>\n",
       "    <tr>\n",
       "      <th>0</th>\n",
       "      <td>State Bottle Cost</td>\n",
       "      <td>1.004917</td>\n",
       "    </tr>\n",
       "    <tr>\n",
       "      <th>1</th>\n",
       "      <td>State Bottle Retail</td>\n",
       "      <td>1.004942</td>\n",
       "    </tr>\n",
       "    <tr>\n",
       "      <th>2</th>\n",
       "      <td>Bottles Sold Per Capita</td>\n",
       "      <td>0.465390</td>\n",
       "    </tr>\n",
       "    <tr>\n",
       "      <th>3</th>\n",
       "      <td>Pack</td>\n",
       "      <td>0.997771</td>\n",
       "    </tr>\n",
       "    <tr>\n",
       "      <th>4</th>\n",
       "      <td>Alcohol Expense Per Capita</td>\n",
       "      <td>0.337277</td>\n",
       "    </tr>\n",
       "    <tr>\n",
       "      <th>5</th>\n",
       "      <td>Population</td>\n",
       "      <td>0.998580</td>\n",
       "    </tr>\n",
       "    <tr>\n",
       "      <th>6</th>\n",
       "      <td>Income Per Capita</td>\n",
       "      <td>1.006193</td>\n",
       "    </tr>\n",
       "    <tr>\n",
       "      <th>7</th>\n",
       "      <td>Alcohol Type</td>\n",
       "      <td>0.984455</td>\n",
       "    </tr>\n",
       "  </tbody>\n",
       "</table>\n",
       "</div>"
      ],
      "text/plain": [
       "                   Predictors      RMSE\n",
       "0           State Bottle Cost  1.004917\n",
       "1         State Bottle Retail  1.004942\n",
       "2     Bottles Sold Per Capita  0.465390\n",
       "3                        Pack  0.997771\n",
       "4  Alcohol Expense Per Capita  0.337277\n",
       "5                  Population  0.998580\n",
       "6           Income Per Capita  1.006193\n",
       "7                Alcohol Type  0.984455"
      ]
     },
     "execution_count": 21,
     "metadata": {},
     "output_type": "execute_result"
    }
   ],
   "source": [
    "data = {\"Predictors\": [\"State Bottle Cost\", \"State Bottle Retail\",\"Bottles Sold Per Capita\",\n",
    "                       \"Pack\", \"Alcohol Expense Per Capita\",\"Population\",\"Income Per Capita\",\"Alcohol Type\"],\n",
    "       \"RMSE\": [SBC, SBR, BSPC,PCK,AEPC,PPLN,IPC,ALC],}\n",
    "one_predictor = pd.DataFrame(data, columns = [\"Predictors\", \"RMSE\"])\n",
    "one_predictor"
   ]
  },
  {
   "cell_type": "markdown",
   "metadata": {},
   "source": [
    "# Best individual predictors: Bottles Sold Per Capita, Alcohol Expense Per Capita"
   ]
  },
  {
   "cell_type": "code",
   "execution_count": 22,
   "metadata": {},
   "outputs": [
    {
     "name": "stdout",
     "output_type": "stream",
     "text": [
      "test errors: [-0.11509833770018532, -0.2216694713439997, -0.06495323757600613, -0.07904958959377788, -0.07311297055727588]\n",
      "     \n",
      "rmse: 0.3328313707483851\n",
      "K-Folds =  30\n",
      "Minimum RMSE =  0.3280008919931845\n"
     ]
    },
    {
     "data": {
      "image/png": "[encoded data removed]",
      "text/plain": [
       "<Figure size 432x288 with 1 Axes>"
      ]
     },
     "metadata": {
      "needs_background": "light"
     },
     "output_type": "display_data"
    }
   ],
   "source": [
    "# 2 predictors: Bottles Sold Per Capita, Alcohol Expense Per Capita\n",
    "df_test = df[[\"Bottles Sold Per Capita\",\"Alcohol Expense Per Capita\",\n",
    "              \"Volume Sold (Gallons) Per Capita\"]]\n",
    "df_test = standardize(df_test)\n",
    "response = \"Volume Sold (Gallons) Per Capita\"\n",
    "folds = k_fold(5,df_test)\n",
    "out = cv(folds, response)\n",
    "print(\"test errors:\", out[0])\n",
    "print(\"     \")\n",
    "print(\"rmse:\", out[1])\n",
    "two_pr = out[1] \n",
    "\n",
    "test_errs = []\n",
    "for i in range(5,50):\n",
    "    folds = k_fold(i, df_test)\n",
    "    out = cv(folds, response)\n",
    "    test_errs.append(out[1])\n",
    "plt.plot(test_errs)\n",
    "print(\"K-Folds = \", test_errs.index(min(test_errs)))\n",
    "print(\"Minimum RMSE = \", min(test_errs))"
   ]
  },
  {
   "cell_type": "markdown",
   "metadata": {},
   "source": [
    "# Next 4: State Bottle Cost, State Bottle Retail, Income Per Capita, Population equal weight "
   ]
  },
  {
   "cell_type": "code",
   "execution_count": 23,
   "metadata": {},
   "outputs": [
    {
     "name": "stdout",
     "output_type": "stream",
     "text": [
      "test errors: [-0.10879356872897247, -0.20652268922085334, -0.06198884357339169, -0.07442765892689193, -0.07637206200503088]\n",
      "     \n",
      "rmse: 0.3249937914653572\n",
      "K-Folds =  30\n",
      "Minimum RMSE =  0.3218130057017322\n"
     ]
    },
    {
     "data": {
      "image/png": "[encoded data removed]",
      "text/plain": [
       "<Figure size 432x288 with 1 Axes>"
      ]
     },
     "metadata": {
      "needs_background": "light"
     },
     "output_type": "display_data"
    }
   ],
   "source": [
    "# 3 predictors: Bottles Sold Per Capita, Alcohol Expense Per Capita, \"State Bottle Cost\"\n",
    "df_test = df[[\"Bottles Sold Per Capita\",\"Alcohol Expense Per Capita\",\"State Bottle Cost\",\n",
    "              \"Volume Sold (Gallons) Per Capita\"]]\n",
    "df_test = standardize(df_test)\n",
    "response = \"Volume Sold (Gallons) Per Capita\"\n",
    "folds = k_fold(5,df_test)\n",
    "out = cv(folds, response)\n",
    "print(\"test errors:\", out[0])\n",
    "print(\"     \")\n",
    "print(\"rmse:\", out[1])\n",
    "three_pr1 = out[1]\n",
    "\n",
    "test_errs = []\n",
    "for i in range(5,50):\n",
    "    folds = k_fold(i, df_test)\n",
    "    out = cv(folds, response)\n",
    "    test_errs.append(out[1])\n",
    "plt.plot(test_errs)\n",
    "print(\"K-Folds = \", test_errs.index(min(test_errs)))\n",
    "print(\"Minimum RMSE = \", min(test_errs))"
   ]
  },
  {
   "cell_type": "code",
   "execution_count": 24,
   "metadata": {},
   "outputs": [
    {
     "name": "stdout",
     "output_type": "stream",
     "text": [
      "test errors: [-0.1089122809775263, -0.2066667144046591, -0.06199646464397562, -0.07448105219172522, -0.07630357655032742]\n",
      "     \n",
      "rmse: 0.32507232695762145\n"
     ]
    },
    {
     "ename": "KeyboardInterrupt",
     "evalue": "",
     "output_type": "error",
     "traceback": [
      "\u001b[0;31m---------------------------------------------------------------------------\u001b[0m",
      "\u001b[0;31mKeyboardInterrupt\u001b[0m                         Traceback (most recent call last)",
      "\u001b[0;32m<ipython-input-24-eaea25b3b6b2>\u001b[0m in \u001b[0;36m<module>\u001b[0;34m\u001b[0m\n\u001b[1;32m     14\u001b[0m \u001b[0;32mfor\u001b[0m \u001b[0mi\u001b[0m \u001b[0;32min\u001b[0m \u001b[0mrange\u001b[0m\u001b[0;34m(\u001b[0m\u001b[0;36m5\u001b[0m\u001b[0;34m,\u001b[0m\u001b[0;36m50\u001b[0m\u001b[0;34m)\u001b[0m\u001b[0;34m:\u001b[0m\u001b[0;34m\u001b[0m\u001b[0;34m\u001b[0m\u001b[0m\n\u001b[1;32m     15\u001b[0m     \u001b[0mfolds\u001b[0m \u001b[0;34m=\u001b[0m \u001b[0mk_fold\u001b[0m\u001b[0;34m(\u001b[0m\u001b[0mi\u001b[0m\u001b[0;34m,\u001b[0m \u001b[0mdf_test\u001b[0m\u001b[0;34m)\u001b[0m\u001b[0;34m\u001b[0m\u001b[0;34m\u001b[0m\u001b[0m\n\u001b[0;32m---> 16\u001b[0;31m     \u001b[0mout\u001b[0m \u001b[0;34m=\u001b[0m \u001b[0mcv\u001b[0m\u001b[0;34m(\u001b[0m\u001b[0mfolds\u001b[0m\u001b[0;34m,\u001b[0m \u001b[0mresponse\u001b[0m\u001b[0;34m)\u001b[0m\u001b[0;34m\u001b[0m\u001b[0;34m\u001b[0m\u001b[0m\n\u001b[0m\u001b[1;32m     17\u001b[0m     \u001b[0mtest_errs\u001b[0m\u001b[0;34m.\u001b[0m\u001b[0mappend\u001b[0m\u001b[0;34m(\u001b[0m\u001b[0mout\u001b[0m\u001b[0;34m[\u001b[0m\u001b[0;36m1\u001b[0m\u001b[0;34m]\u001b[0m\u001b[0;34m)\u001b[0m\u001b[0;34m\u001b[0m\u001b[0;34m\u001b[0m\u001b[0m\n\u001b[1;32m     18\u001b[0m \u001b[0mplt\u001b[0m\u001b[0;34m.\u001b[0m\u001b[0mplot\u001b[0m\u001b[0;34m(\u001b[0m\u001b[0mtest_errs\u001b[0m\u001b[0;34m)\u001b[0m\u001b[0;34m\u001b[0m\u001b[0;34m\u001b[0m\u001b[0m\n",
      "\u001b[0;32m<ipython-input-5-9ef54e97eda0>\u001b[0m in \u001b[0;36mcv\u001b[0;34m(folds, response)\u001b[0m\n\u001b[1;32m     27\u001b[0m             \u001b[0;32mif\u001b[0m \u001b[0mi\u001b[0m \u001b[0;34m!=\u001b[0m \u001b[0mj\u001b[0m\u001b[0;34m:\u001b[0m\u001b[0;34m\u001b[0m\u001b[0;34m\u001b[0m\u001b[0m\n\u001b[1;32m     28\u001b[0m                 \u001b[0mX_train\u001b[0m \u001b[0;34m=\u001b[0m \u001b[0mX_train\u001b[0m\u001b[0;34m.\u001b[0m\u001b[0mappend\u001b[0m\u001b[0;34m(\u001b[0m\u001b[0mfolds\u001b[0m\u001b[0;34m[\u001b[0m\u001b[0mj\u001b[0m\u001b[0;34m]\u001b[0m\u001b[0;34m.\u001b[0m\u001b[0mdrop\u001b[0m\u001b[0;34m(\u001b[0m\u001b[0;34m[\u001b[0m\u001b[0mresponse\u001b[0m\u001b[0;34m]\u001b[0m\u001b[0;34m,\u001b[0m \u001b[0maxis\u001b[0m\u001b[0;34m=\u001b[0m\u001b[0;36m1\u001b[0m\u001b[0;34m)\u001b[0m\u001b[0;34m)\u001b[0m\u001b[0;34m\u001b[0m\u001b[0;34m\u001b[0m\u001b[0m\n\u001b[0;32m---> 29\u001b[0;31m                 \u001b[0mY_train\u001b[0m \u001b[0;34m=\u001b[0m \u001b[0mY_train\u001b[0m\u001b[0;34m.\u001b[0m\u001b[0mappend\u001b[0m\u001b[0;34m(\u001b[0m\u001b[0mfolds\u001b[0m\u001b[0;34m[\u001b[0m\u001b[0mj\u001b[0m\u001b[0;34m]\u001b[0m\u001b[0;34m[\u001b[0m\u001b[0mresponse\u001b[0m\u001b[0;34m]\u001b[0m\u001b[0;34m)\u001b[0m\u001b[0;34m\u001b[0m\u001b[0;34m\u001b[0m\u001b[0m\n\u001b[0m\u001b[1;32m     30\u001b[0m \u001b[0;34m\u001b[0m\u001b[0m\n\u001b[1;32m     31\u001b[0m         \u001b[0mmodel\u001b[0m \u001b[0;34m=\u001b[0m \u001b[0mLR\u001b[0m\u001b[0;34m(\u001b[0m\u001b[0;34m)\u001b[0m\u001b[0;34m\u001b[0m\u001b[0;34m\u001b[0m\u001b[0m\n",
      "\u001b[0;32m/opt/tljh/user/lib/python3.7/site-packages/pandas/core/series.py\u001b[0m in \u001b[0;36mappend\u001b[0;34m(self, to_append, ignore_index, verify_integrity)\u001b[0m\n\u001b[1;32m   2687\u001b[0m             \u001b[0;32mraise\u001b[0m \u001b[0mTypeError\u001b[0m\u001b[0;34m(\u001b[0m\u001b[0mmsg\u001b[0m\u001b[0;34m)\u001b[0m\u001b[0;34m\u001b[0m\u001b[0;34m\u001b[0m\u001b[0m\n\u001b[1;32m   2688\u001b[0m         return concat(\n\u001b[0;32m-> 2689\u001b[0;31m             \u001b[0mto_concat\u001b[0m\u001b[0;34m,\u001b[0m \u001b[0mignore_index\u001b[0m\u001b[0;34m=\u001b[0m\u001b[0mignore_index\u001b[0m\u001b[0;34m,\u001b[0m \u001b[0mverify_integrity\u001b[0m\u001b[0;34m=\u001b[0m\u001b[0mverify_integrity\u001b[0m\u001b[0;34m\u001b[0m\u001b[0;34m\u001b[0m\u001b[0m\n\u001b[0m\u001b[1;32m   2690\u001b[0m         )\n\u001b[1;32m   2691\u001b[0m \u001b[0;34m\u001b[0m\u001b[0m\n",
      "\u001b[0;32m/opt/tljh/user/lib/python3.7/site-packages/pandas/core/reshape/concat.py\u001b[0m in \u001b[0;36mconcat\u001b[0;34m(objs, axis, join, ignore_index, keys, levels, names, verify_integrity, sort, copy)\u001b[0m\n\u001b[1;32m    282\u001b[0m         \u001b[0mverify_integrity\u001b[0m\u001b[0;34m=\u001b[0m\u001b[0mverify_integrity\u001b[0m\u001b[0;34m,\u001b[0m\u001b[0;34m\u001b[0m\u001b[0;34m\u001b[0m\u001b[0m\n\u001b[1;32m    283\u001b[0m         \u001b[0mcopy\u001b[0m\u001b[0;34m=\u001b[0m\u001b[0mcopy\u001b[0m\u001b[0;34m,\u001b[0m\u001b[0;34m\u001b[0m\u001b[0;34m\u001b[0m\u001b[0m\n\u001b[0;32m--> 284\u001b[0;31m         \u001b[0msort\u001b[0m\u001b[0;34m=\u001b[0m\u001b[0msort\u001b[0m\u001b[0;34m,\u001b[0m\u001b[0;34m\u001b[0m\u001b[0;34m\u001b[0m\u001b[0m\n\u001b[0m\u001b[1;32m    285\u001b[0m     )\n\u001b[1;32m    286\u001b[0m \u001b[0;34m\u001b[0m\u001b[0m\n",
      "\u001b[0;32m/opt/tljh/user/lib/python3.7/site-packages/pandas/core/reshape/concat.py\u001b[0m in \u001b[0;36m__init__\u001b[0;34m(self, objs, axis, join, keys, levels, names, ignore_index, verify_integrity, copy, sort)\u001b[0m\n\u001b[1;32m    452\u001b[0m         \u001b[0mself\u001b[0m\u001b[0;34m.\u001b[0m\u001b[0mcopy\u001b[0m \u001b[0;34m=\u001b[0m \u001b[0mcopy\u001b[0m\u001b[0;34m\u001b[0m\u001b[0;34m\u001b[0m\u001b[0m\n\u001b[1;32m    453\u001b[0m \u001b[0;34m\u001b[0m\u001b[0m\n\u001b[0;32m--> 454\u001b[0;31m         \u001b[0mself\u001b[0m\u001b[0;34m.\u001b[0m\u001b[0mnew_axes\u001b[0m \u001b[0;34m=\u001b[0m \u001b[0mself\u001b[0m\u001b[0;34m.\u001b[0m\u001b[0m_get_new_axes\u001b[0m\u001b[0;34m(\u001b[0m\u001b[0;34m)\u001b[0m\u001b[0;34m\u001b[0m\u001b[0;34m\u001b[0m\u001b[0m\n\u001b[0m\u001b[1;32m    455\u001b[0m \u001b[0;34m\u001b[0m\u001b[0m\n\u001b[1;32m    456\u001b[0m     \u001b[0;32mdef\u001b[0m \u001b[0mget_result\u001b[0m\u001b[0;34m(\u001b[0m\u001b[0mself\u001b[0m\u001b[0;34m)\u001b[0m\u001b[0;34m:\u001b[0m\u001b[0;34m\u001b[0m\u001b[0;34m\u001b[0m\u001b[0m\n",
      "\u001b[0;32m/opt/tljh/user/lib/python3.7/site-packages/pandas/core/reshape/concat.py\u001b[0m in \u001b[0;36m_get_new_axes\u001b[0;34m(self)\u001b[0m\n\u001b[1;32m    519\u001b[0m         return [\n\u001b[1;32m    520\u001b[0m             \u001b[0mself\u001b[0m\u001b[0;34m.\u001b[0m\u001b[0m_get_concat_axis\u001b[0m\u001b[0;34m(\u001b[0m\u001b[0;34m)\u001b[0m \u001b[0;32mif\u001b[0m \u001b[0mi\u001b[0m \u001b[0;34m==\u001b[0m \u001b[0mself\u001b[0m\u001b[0;34m.\u001b[0m\u001b[0mbm_axis\u001b[0m \u001b[0;32melse\u001b[0m \u001b[0mself\u001b[0m\u001b[0;34m.\u001b[0m\u001b[0m_get_comb_axis\u001b[0m\u001b[0;34m(\u001b[0m\u001b[0mi\u001b[0m\u001b[0;34m)\u001b[0m\u001b[0;34m\u001b[0m\u001b[0;34m\u001b[0m\u001b[0m\n\u001b[0;32m--> 521\u001b[0;31m             \u001b[0;32mfor\u001b[0m \u001b[0mi\u001b[0m \u001b[0;32min\u001b[0m \u001b[0mrange\u001b[0m\u001b[0;34m(\u001b[0m\u001b[0mndim\u001b[0m\u001b[0;34m)\u001b[0m\u001b[0;34m\u001b[0m\u001b[0;34m\u001b[0m\u001b[0m\n\u001b[0m\u001b[1;32m    522\u001b[0m         ]\n\u001b[1;32m    523\u001b[0m \u001b[0;34m\u001b[0m\u001b[0m\n",
      "\u001b[0;32m/opt/tljh/user/lib/python3.7/site-packages/pandas/core/reshape/concat.py\u001b[0m in \u001b[0;36m<listcomp>\u001b[0;34m(.0)\u001b[0m\n\u001b[1;32m    519\u001b[0m         return [\n\u001b[1;32m    520\u001b[0m             \u001b[0mself\u001b[0m\u001b[0;34m.\u001b[0m\u001b[0m_get_concat_axis\u001b[0m\u001b[0;34m(\u001b[0m\u001b[0;34m)\u001b[0m \u001b[0;32mif\u001b[0m \u001b[0mi\u001b[0m \u001b[0;34m==\u001b[0m \u001b[0mself\u001b[0m\u001b[0;34m.\u001b[0m\u001b[0mbm_axis\u001b[0m \u001b[0;32melse\u001b[0m \u001b[0mself\u001b[0m\u001b[0;34m.\u001b[0m\u001b[0m_get_comb_axis\u001b[0m\u001b[0;34m(\u001b[0m\u001b[0mi\u001b[0m\u001b[0;34m)\u001b[0m\u001b[0;34m\u001b[0m\u001b[0;34m\u001b[0m\u001b[0m\n\u001b[0;32m--> 521\u001b[0;31m             \u001b[0;32mfor\u001b[0m \u001b[0mi\u001b[0m \u001b[0;32min\u001b[0m \u001b[0mrange\u001b[0m\u001b[0;34m(\u001b[0m\u001b[0mndim\u001b[0m\u001b[0;34m)\u001b[0m\u001b[0;34m\u001b[0m\u001b[0;34m\u001b[0m\u001b[0m\n\u001b[0m\u001b[1;32m    522\u001b[0m         ]\n\u001b[1;32m    523\u001b[0m \u001b[0;34m\u001b[0m\u001b[0m\n",
      "\u001b[0;32m/opt/tljh/user/lib/python3.7/site-packages/pandas/core/reshape/concat.py\u001b[0m in \u001b[0;36m_get_concat_axis\u001b[0;34m(self)\u001b[0m\n\u001b[1;32m    572\u001b[0m \u001b[0;34m\u001b[0m\u001b[0m\n\u001b[1;32m    573\u001b[0m         \u001b[0;32mif\u001b[0m \u001b[0mself\u001b[0m\u001b[0;34m.\u001b[0m\u001b[0mkeys\u001b[0m \u001b[0;32mis\u001b[0m \u001b[0;32mNone\u001b[0m\u001b[0;34m:\u001b[0m\u001b[0;34m\u001b[0m\u001b[0;34m\u001b[0m\u001b[0m\n\u001b[0;32m--> 574\u001b[0;31m             \u001b[0mconcat_axis\u001b[0m \u001b[0;34m=\u001b[0m \u001b[0m_concat_indexes\u001b[0m\u001b[0;34m(\u001b[0m\u001b[0mindexes\u001b[0m\u001b[0;34m)\u001b[0m\u001b[0;34m\u001b[0m\u001b[0;34m\u001b[0m\u001b[0m\n\u001b[0m\u001b[1;32m    575\u001b[0m         \u001b[0;32melse\u001b[0m\u001b[0;34m:\u001b[0m\u001b[0;34m\u001b[0m\u001b[0;34m\u001b[0m\u001b[0m\n\u001b[1;32m    576\u001b[0m             concat_axis = _make_concat_multiindex(\n",
      "\u001b[0;32m/opt/tljh/user/lib/python3.7/site-packages/pandas/core/reshape/concat.py\u001b[0m in \u001b[0;36m_concat_indexes\u001b[0;34m(indexes)\u001b[0m\n\u001b[1;32m    590\u001b[0m \u001b[0;34m\u001b[0m\u001b[0m\n\u001b[1;32m    591\u001b[0m \u001b[0;32mdef\u001b[0m \u001b[0m_concat_indexes\u001b[0m\u001b[0;34m(\u001b[0m\u001b[0mindexes\u001b[0m\u001b[0;34m)\u001b[0m \u001b[0;34m->\u001b[0m \u001b[0mIndex\u001b[0m\u001b[0;34m:\u001b[0m\u001b[0;34m\u001b[0m\u001b[0;34m\u001b[0m\u001b[0m\n\u001b[0;32m--> 592\u001b[0;31m     \u001b[0;32mreturn\u001b[0m \u001b[0mindexes\u001b[0m\u001b[0;34m[\u001b[0m\u001b[0;36m0\u001b[0m\u001b[0;34m]\u001b[0m\u001b[0;34m.\u001b[0m\u001b[0mappend\u001b[0m\u001b[0;34m(\u001b[0m\u001b[0mindexes\u001b[0m\u001b[0;34m[\u001b[0m\u001b[0;36m1\u001b[0m\u001b[0;34m:\u001b[0m\u001b[0;34m]\u001b[0m\u001b[0;34m)\u001b[0m\u001b[0;34m\u001b[0m\u001b[0;34m\u001b[0m\u001b[0m\n\u001b[0m\u001b[1;32m    593\u001b[0m \u001b[0;34m\u001b[0m\u001b[0m\n\u001b[1;32m    594\u001b[0m \u001b[0;34m\u001b[0m\u001b[0m\n",
      "\u001b[0;32m/opt/tljh/user/lib/python3.7/site-packages/pandas/core/indexes/base.py\u001b[0m in \u001b[0;36mappend\u001b[0;34m(self, other)\u001b[0m\n\u001b[1;32m   4151\u001b[0m         \u001b[0mname\u001b[0m \u001b[0;34m=\u001b[0m \u001b[0;32mNone\u001b[0m \u001b[0;32mif\u001b[0m \u001b[0mlen\u001b[0m\u001b[0;34m(\u001b[0m\u001b[0mnames\u001b[0m\u001b[0;34m)\u001b[0m \u001b[0;34m>\u001b[0m \u001b[0;36m1\u001b[0m \u001b[0;32melse\u001b[0m \u001b[0mself\u001b[0m\u001b[0;34m.\u001b[0m\u001b[0mname\u001b[0m\u001b[0;34m\u001b[0m\u001b[0;34m\u001b[0m\u001b[0m\n\u001b[1;32m   4152\u001b[0m \u001b[0;34m\u001b[0m\u001b[0m\n\u001b[0;32m-> 4153\u001b[0;31m         \u001b[0;32mreturn\u001b[0m \u001b[0mself\u001b[0m\u001b[0;34m.\u001b[0m\u001b[0m_concat\u001b[0m\u001b[0;34m(\u001b[0m\u001b[0mto_concat\u001b[0m\u001b[0;34m,\u001b[0m \u001b[0mname\u001b[0m\u001b[0;34m)\u001b[0m\u001b[0;34m\u001b[0m\u001b[0;34m\u001b[0m\u001b[0m\n\u001b[0m\u001b[1;32m   4154\u001b[0m \u001b[0;34m\u001b[0m\u001b[0m\n\u001b[1;32m   4155\u001b[0m     \u001b[0;32mdef\u001b[0m \u001b[0m_concat\u001b[0m\u001b[0;34m(\u001b[0m\u001b[0mself\u001b[0m\u001b[0;34m,\u001b[0m \u001b[0mto_concat\u001b[0m\u001b[0;34m,\u001b[0m \u001b[0mname\u001b[0m\u001b[0;34m)\u001b[0m\u001b[0;34m:\u001b[0m\u001b[0;34m\u001b[0m\u001b[0;34m\u001b[0m\u001b[0m\n",
      "\u001b[0;32m/opt/tljh/user/lib/python3.7/site-packages/pandas/core/indexes/base.py\u001b[0m in \u001b[0;36m_concat\u001b[0;34m(self, to_concat, name)\u001b[0m\n\u001b[1;32m   4159\u001b[0m         \u001b[0mto_concat\u001b[0m \u001b[0;34m=\u001b[0m \u001b[0;34m[\u001b[0m\u001b[0mx\u001b[0m\u001b[0;34m.\u001b[0m\u001b[0m_values\u001b[0m \u001b[0;32mif\u001b[0m \u001b[0misinstance\u001b[0m\u001b[0;34m(\u001b[0m\u001b[0mx\u001b[0m\u001b[0;34m,\u001b[0m \u001b[0mIndex\u001b[0m\u001b[0;34m)\u001b[0m \u001b[0;32melse\u001b[0m \u001b[0mx\u001b[0m \u001b[0;32mfor\u001b[0m \u001b[0mx\u001b[0m \u001b[0;32min\u001b[0m \u001b[0mto_concat\u001b[0m\u001b[0;34m]\u001b[0m\u001b[0;34m\u001b[0m\u001b[0;34m\u001b[0m\u001b[0m\n\u001b[1;32m   4160\u001b[0m \u001b[0;34m\u001b[0m\u001b[0m\n\u001b[0;32m-> 4161\u001b[0;31m         \u001b[0mresult\u001b[0m \u001b[0;34m=\u001b[0m \u001b[0m_concat\u001b[0m\u001b[0;34m.\u001b[0m\u001b[0mconcat_compat\u001b[0m\u001b[0;34m(\u001b[0m\u001b[0mto_concat\u001b[0m\u001b[0;34m)\u001b[0m\u001b[0;34m\u001b[0m\u001b[0;34m\u001b[0m\u001b[0m\n\u001b[0m\u001b[1;32m   4162\u001b[0m         \u001b[0;32mreturn\u001b[0m \u001b[0mIndex\u001b[0m\u001b[0;34m(\u001b[0m\u001b[0mresult\u001b[0m\u001b[0;34m,\u001b[0m \u001b[0mname\u001b[0m\u001b[0;34m=\u001b[0m\u001b[0mname\u001b[0m\u001b[0;34m)\u001b[0m\u001b[0;34m\u001b[0m\u001b[0;34m\u001b[0m\u001b[0m\n\u001b[1;32m   4163\u001b[0m \u001b[0;34m\u001b[0m\u001b[0m\n",
      "\u001b[0;32m/opt/tljh/user/lib/python3.7/site-packages/pandas/core/dtypes/concat.py\u001b[0m in \u001b[0;36mconcat_compat\u001b[0;34m(to_concat, axis)\u001b[0m\n\u001b[1;32m    141\u001b[0m         \u001b[0mto_concat\u001b[0m \u001b[0;34m=\u001b[0m \u001b[0mnon_empties\u001b[0m\u001b[0;34m\u001b[0m\u001b[0;34m\u001b[0m\u001b[0m\n\u001b[1;32m    142\u001b[0m \u001b[0;34m\u001b[0m\u001b[0m\n\u001b[0;32m--> 143\u001b[0;31m     \u001b[0mtyps\u001b[0m \u001b[0;34m=\u001b[0m \u001b[0mget_dtype_kinds\u001b[0m\u001b[0;34m(\u001b[0m\u001b[0mto_concat\u001b[0m\u001b[0;34m)\u001b[0m\u001b[0;34m\u001b[0m\u001b[0;34m\u001b[0m\u001b[0m\n\u001b[0m\u001b[1;32m    144\u001b[0m     \u001b[0m_contains_datetime\u001b[0m \u001b[0;34m=\u001b[0m \u001b[0many\u001b[0m\u001b[0;34m(\u001b[0m\u001b[0mtyp\u001b[0m\u001b[0;34m.\u001b[0m\u001b[0mstartswith\u001b[0m\u001b[0;34m(\u001b[0m\u001b[0;34m\"datetime\"\u001b[0m\u001b[0;34m)\u001b[0m \u001b[0;32mfor\u001b[0m \u001b[0mtyp\u001b[0m \u001b[0;32min\u001b[0m \u001b[0mtyps\u001b[0m\u001b[0;34m)\u001b[0m\u001b[0;34m\u001b[0m\u001b[0;34m\u001b[0m\u001b[0m\n\u001b[1;32m    145\u001b[0m \u001b[0;34m\u001b[0m\u001b[0m\n",
      "\u001b[0;32m/opt/tljh/user/lib/python3.7/site-packages/pandas/core/dtypes/concat.py\u001b[0m in \u001b[0;36mget_dtype_kinds\u001b[0;34m(l)\u001b[0m\n\u001b[1;32m     55\u001b[0m         \u001b[0;32melif\u001b[0m \u001b[0mis_timedelta64_dtype\u001b[0m\u001b[0;34m(\u001b[0m\u001b[0mdtype\u001b[0m\u001b[0;34m)\u001b[0m\u001b[0;34m:\u001b[0m\u001b[0;34m\u001b[0m\u001b[0;34m\u001b[0m\u001b[0m\n\u001b[1;32m     56\u001b[0m             \u001b[0mtyp\u001b[0m \u001b[0;34m=\u001b[0m \u001b[0;34m\"timedelta\"\u001b[0m\u001b[0;34m\u001b[0m\u001b[0;34m\u001b[0m\u001b[0m\n\u001b[0;32m---> 57\u001b[0;31m         \u001b[0;32melif\u001b[0m \u001b[0mis_object_dtype\u001b[0m\u001b[0;34m(\u001b[0m\u001b[0mdtype\u001b[0m\u001b[0;34m)\u001b[0m\u001b[0;34m:\u001b[0m\u001b[0;34m\u001b[0m\u001b[0;34m\u001b[0m\u001b[0m\n\u001b[0m\u001b[1;32m     58\u001b[0m             \u001b[0mtyp\u001b[0m \u001b[0;34m=\u001b[0m \u001b[0;34m\"object\"\u001b[0m\u001b[0;34m\u001b[0m\u001b[0;34m\u001b[0m\u001b[0m\n\u001b[1;32m     59\u001b[0m         \u001b[0;32melif\u001b[0m \u001b[0mis_bool_dtype\u001b[0m\u001b[0;34m(\u001b[0m\u001b[0mdtype\u001b[0m\u001b[0;34m)\u001b[0m\u001b[0;34m:\u001b[0m\u001b[0;34m\u001b[0m\u001b[0;34m\u001b[0m\u001b[0m\n",
      "\u001b[0;32m/opt/tljh/user/lib/python3.7/site-packages/pandas/core/dtypes/common.py\u001b[0m in \u001b[0;36mis_object_dtype\u001b[0;34m(arr_or_dtype)\u001b[0m\n\u001b[1;32m    219\u001b[0m     \u001b[0;32mFalse\u001b[0m\u001b[0;34m\u001b[0m\u001b[0;34m\u001b[0m\u001b[0m\n\u001b[1;32m    220\u001b[0m     \"\"\"\n\u001b[0;32m--> 221\u001b[0;31m     \u001b[0;32mreturn\u001b[0m \u001b[0m_is_dtype_type\u001b[0m\u001b[0;34m(\u001b[0m\u001b[0marr_or_dtype\u001b[0m\u001b[0;34m,\u001b[0m \u001b[0mclasses\u001b[0m\u001b[0;34m(\u001b[0m\u001b[0mnp\u001b[0m\u001b[0;34m.\u001b[0m\u001b[0mobject_\u001b[0m\u001b[0;34m)\u001b[0m\u001b[0;34m)\u001b[0m\u001b[0;34m\u001b[0m\u001b[0;34m\u001b[0m\u001b[0m\n\u001b[0m\u001b[1;32m    222\u001b[0m \u001b[0;34m\u001b[0m\u001b[0m\n\u001b[1;32m    223\u001b[0m \u001b[0;34m\u001b[0m\u001b[0m\n",
      "\u001b[0;31mKeyboardInterrupt\u001b[0m: "
     ]
    }
   ],
   "source": [
    "# 3 predictors: Bottles Sold Per Capita, Alcohol Expense Per Capita, \"State Bottle Retail\"\n",
    "df_test = df[[\"Bottles Sold Per Capita\",\"Alcohol Expense Per Capita\",\"State Bottle Retail\",\n",
    "              \"Volume Sold (Gallons) Per Capita\"]]\n",
    "df_test = standardize(df_test)\n",
    "response = \"Volume Sold (Gallons) Per Capita\"\n",
    "folds = k_fold(5,df_test)\n",
    "out = cv(folds, response)\n",
    "print(\"test errors:\", out[0])\n",
    "print(\"     \")\n",
    "print(\"rmse:\", out[1])\n",
    "three_pr2 = out[1]\n",
    "\n",
    "test_errs = []\n",
    "for i in range(5,50):\n",
    "    folds = k_fold(i, df_test)\n",
    "    out = cv(folds, response)\n",
    "    test_errs.append(out[1])\n",
    "plt.plot(test_errs)\n",
    "print(\"K-Folds = \", test_errs.index(min(test_errs)))\n",
    "print(\"Minimum RMSE = \", min(test_errs))"
   ]
  },
  {
   "cell_type": "code",
   "execution_count": null,
   "metadata": {},
   "outputs": [],
   "source": [
    "# 3 predictors: Bottles Sold Per Capita, Alcohol Expense Per Capita, Income Per Capita\n",
    "df_test = df[[\"Bottles Sold Per Capita\",\"Alcohol Expense Per Capita\",\"Income Per Capita\",\n",
    "              \"Volume Sold (Gallons) Per Capita\"]]\n",
    "df_test = standardize(df_test)\n",
    "response = \"Volume Sold (Gallons) Per Capita\"\n",
    "folds = k_fold(5,df_test)\n",
    "out = cv(folds, response)\n",
    "print(\"test errors:\", out[0])\n",
    "print(\"     \")\n",
    "print(\"rmse:\", out[1])\n",
    "\n",
    "test_errs = []\n",
    "for i in range(5,50):\n",
    "    folds = k_fold(i, df_test)\n",
    "    out = cv(folds, response)\n",
    "    test_errs.append(out[1])\n",
    "plt.plot(test_errs)\n",
    "print(\"K-Folds = \", test_errs.index(min(test_errs)))\n",
    "print(\"Minimum RMSE = \", min(test_errs))"
   ]
  },
  {
   "cell_type": "code",
   "execution_count": null,
   "metadata": {},
   "outputs": [],
   "source": [
    "# 3 predictors: Bottles Sold Per Capita, Alcohol Expense Per Capita, Population\n",
    "df_test = df[[\"Bottles Sold Per Capita\",\"Alcohol Expense Per Capita\",\"Population\",\n",
    "              \"Volume Sold (Gallons) Per Capita\"]]\n",
    "df_test = standardize(df_test)\n",
    "response = \"Volume Sold (Gallons) Per Capita\"\n",
    "folds = k_fold(5,df_test)\n",
    "out = cv(folds, response)\n",
    "print(\"test errors:\", out[0])\n",
    "print(\"     \")\n",
    "print(\"rmse:\", out[1])\n",
    "\n",
    "test_errs = []\n",
    "for i in range(5,50):\n",
    "    folds = k_fold(i, df_test)\n",
    "    out = cv(folds, response)\n",
    "    test_errs.append(out[1])\n",
    "plt.plot(test_errs)\n",
    "print(\"K-Folds = \", test_errs.index(min(test_errs)))\n",
    "print(\"Minimum RMSE = \", min(test_errs))"
   ]
  },
  {
   "cell_type": "code",
   "execution_count": null,
   "metadata": {},
   "outputs": [],
   "source": [
    "# 3 predictors: Bottles Sold Per Capita, Alcohol Expense Per Capita, Alcohol Type\n",
    "df_test = df[[\"Bottles Sold Per Capita\",\"Alcohol Expense Per Capita\",\"Consolidated_Brandy\",\"Consolidated_Gin\",\n",
    "              \"Consolidated_Rum\",\"Consolidated_Schnapps\",\"Consolidated_Tequila\",\n",
    "              \"Consolidated_Vodka\",\"Consolidated_Whiskey\", \"Volume Sold (Gallons) Per Capita\"]]\n",
    "df_test = standardize(df_test)\n",
    "response = \"Volume Sold (Gallons) Per Capita\"\n",
    "folds = k_fold(5,df_test)\n",
    "out = cv(folds, response)\n",
    "print(\"test errors:\", out[0])\n",
    "print(\"     \")\n",
    "print(\"rmse:\", out[1])\n",
    "\n",
    "test_errs = []\n",
    "for i in range(5,50):\n",
    "    folds = k_fold(i, df_test)\n",
    "    out = cv(folds, response)\n",
    "    test_errs.append(out[1])\n",
    "plt.plot(test_errs)\n",
    "print(\"K-Folds = \", test_errs.index(min(test_errs)))\n",
    "print(\"Minimum RMSE = \", min(test_errs))"
   ]
  },
  {
   "cell_type": "code",
   "execution_count": null,
   "metadata": {},
   "outputs": [],
   "source": [
    "# 3 predictors: Bottles Sold Per Capita, Alcohol Expense Per Capita, Pack\n",
    "df_test = df[[\"Bottles Sold Per Capita\",\"Alcohol Expense Per Capita\",\"Pack\", \"Volume Sold (Gallons) Per Capita\"]]\n",
    "df_test = standardize(df_test)\n",
    "response = \"Volume Sold (Gallons) Per Capita\"\n",
    "folds = k_fold(5,df_test)\n",
    "out = cv(folds, response)\n",
    "print(\"test errors:\", out[0])\n",
    "print(\"     \")\n",
    "print(\"rmse:\", out[1])\n",
    "three_pr3 = out[1]\n",
    "\n",
    "test_errs = []\n",
    "for i in range(5,50):\n",
    "    folds = k_fold(i, df_test)\n",
    "    out = cv(folds, response)\n",
    "    test_errs.append(out[1])\n",
    "plt.plot(test_errs)\n",
    "print(\"K-Folds = \", test_errs.index(min(test_errs)))\n",
    "print(\"Minimum RMSE = \", min(test_errs))"
   ]
  },
  {
   "cell_type": "markdown",
   "metadata": {},
   "source": [
    "# Best 3 Predictor Model:  Bottles Sold Per Capita * Alcohol Expense Per Capita * Pack"
   ]
  },
  {
   "cell_type": "code",
   "execution_count": null,
   "metadata": {},
   "outputs": [],
   "source": [
    "# 4 predictors: Bottles Sold Per Capita, Alcohol Expense Per Capita, Pack, Population\n",
    "df_test = df[[\"Bottles Sold Per Capita\",\"Alcohol Expense Per Capita\", \"Pack\",\"Population\",\n",
    "              \"Volume Sold (Gallons) Per Capita\"]]\n",
    "df_test = standardize(df_test)\n",
    "response = \"Volume Sold (Gallons) Per Capita\"\n",
    "folds = k_fold(5,df_test)\n",
    "out = cv(folds, response)\n",
    "print(\"test errors:\", out[0])\n",
    "print(\"     \")\n",
    "print(\"rmse:\", out[1])\n",
    "\n",
    "test_errs = []\n",
    "for i in range(5,50):\n",
    "    folds = k_fold(i, df_test)\n",
    "    out = cv(folds, response)\n",
    "    test_errs.append(out[1])\n",
    "plt.plot(test_errs)\n",
    "print(\"K-Folds = \", test_errs.index(min(test_errs)))\n",
    "print(\"Minimum RMSE = \", min(test_errs))"
   ]
  },
  {
   "cell_type": "code",
   "execution_count": null,
   "metadata": {},
   "outputs": [],
   "source": [
    "# 4 predictors: Bottles Sold Per Capita, Alcohol Expense Per Capita, Pack, State Bottle Retail\n",
    "df_test = df[[\"Bottles Sold Per Capita\",\"Alcohol Expense Per Capita\", \"Pack\",\"State Bottle Retail\",\n",
    "              \"Volume Sold (Gallons) Per Capita\"]]\n",
    "df_test = standardize(df_test)\n",
    "response = \"Volume Sold (Gallons) Per Capita\"\n",
    "folds = k_fold(5,df_test)\n",
    "out = cv(folds, response)\n",
    "print(\"test errors:\", out[0])\n",
    "print(\"     \")\n",
    "print(\"rmse:\", out[1])\n",
    "four_pr1 = out[1]\n",
    "\n",
    "test_errs = []\n",
    "for i in range(5,50):\n",
    "    folds = k_fold(i, df_test)\n",
    "    out = cv(folds, response)\n",
    "    test_errs.append(out[1])\n",
    "plt.plot(test_errs)\n",
    "print(\"K-Folds = \", test_errs.index(min(test_errs)))\n",
    "print(\"Minimum RMSE = \", min(test_errs))"
   ]
  },
  {
   "cell_type": "code",
   "execution_count": null,
   "metadata": {},
   "outputs": [],
   "source": [
    "# 4 predictors: Bottles Sold Per Capita, Alcohol Expense Per Capita, Pack, Income Per Capita\n",
    "df_test = df[[\"Bottles Sold Per Capita\",\"Alcohol Expense Per Capita\",\"Pack\", \"Income Per Capita\",\n",
    "              \"Volume Sold (Gallons) Per Capita\"]]\n",
    "df_test = standardize(df_test)\n",
    "response = \"Volume Sold (Gallons) Per Capita\"\n",
    "folds = k_fold(5,df_test)\n",
    "out = cv(folds, response)\n",
    "print(\"test errors:\", out[0])\n",
    "print(\"     \")\n",
    "print(\"rmse:\", out[1])\n",
    "\n",
    "test_errs = []\n",
    "for i in range(5,50):\n",
    "    folds = k_fold(i, df_test)\n",
    "    out = cv(folds, response)\n",
    "    test_errs.append(out[1])\n",
    "plt.plot(test_errs)\n",
    "print(\"K-Folds = \", test_errs.index(min(test_errs)))\n",
    "print(\"Minimum RMSE = \", min(test_errs))"
   ]
  },
  {
   "cell_type": "code",
   "execution_count": null,
   "metadata": {},
   "outputs": [],
   "source": [
    "# 4 predictors: Bottles Sold Per Capita, Alcohol Expense Per Capita, Pack, State Bottle Cost\n",
    "df_test = df[[\"Bottles Sold Per Capita\",\"Alcohol Expense Per Capita\",\"Pack\", \"State Bottle Cost\",\n",
    "              \"Volume Sold (Gallons) Per Capita\"]]\n",
    "df_test = standardize(df_test)\n",
    "response = \"Volume Sold (Gallons) Per Capita\"\n",
    "folds = k_fold(5,df_test)\n",
    "out = cv(folds, response)\n",
    "print(\"test errors:\", out[0])\n",
    "print(\"     \")\n",
    "print(\"rmse:\", out[1])\n",
    "four_pr2 = out[1]\n",
    "\n",
    "test_errs = []\n",
    "for i in range(5,50):\n",
    "    folds = k_fold(i, df_test)\n",
    "    out = cv(folds, response)\n",
    "    test_errs.append(out[1])\n",
    "plt.plot(test_errs)\n",
    "print(\"K-Folds = \", test_errs.index(min(test_errs)))\n",
    "print(\"Minimum RMSE = \", min(test_errs))"
   ]
  },
  {
   "cell_type": "code",
   "execution_count": null,
   "metadata": {},
   "outputs": [],
   "source": [
    "# 4 predictors: Bottles Sold Per Capita, Alcohol Expense Per Capita, Pack, Alcohol Type\n",
    "df_test = df[[\"Bottles Sold Per Capita\",\"Alcohol Expense Per Capita\",\"Pack\", \"Consolidated_Brandy\",\n",
    "              \"Consolidated_Gin\", \"Consolidated_Rum\",\"Consolidated_Schnapps\",\"Consolidated_Tequila\",\n",
    "              \"Consolidated_Vodka\",\"Consolidated_Whiskey\", \"Volume Sold (Gallons) Per Capita\"]]\n",
    "df_test = standardize(df_test)\n",
    "response = \"Volume Sold (Gallons) Per Capita\"\n",
    "folds = k_fold(5,df_test)\n",
    "out = cv(folds, response)\n",
    "print(\"test errors:\", out[0])\n",
    "print(\"     \")\n",
    "print(\"rmse:\", out[1])\n",
    "\n",
    "test_errs = []\n",
    "for i in range(5,50):\n",
    "    folds = k_fold(i, df_test)\n",
    "    out = cv(folds, response)\n",
    "    test_errs.append(out[1])\n",
    "plt.plot(test_errs)\n",
    "print(\"K-Folds = \", test_errs.index(min(test_errs)))\n",
    "print(\"Minimum RMSE = \", min(test_errs))"
   ]
  },
  {
   "cell_type": "markdown",
   "metadata": {},
   "source": [
    "# Best 4 Predictor Model:  Bottles Sold Per Capita * Alcohol Expense Per Capita * Pack * State Bottle Cost"
   ]
  },
  {
   "cell_type": "code",
   "execution_count": null,
   "metadata": {},
   "outputs": [],
   "source": [
    "# 5 predictors: Bottles Sold Per Capita, Alcohol Expense Per Capita, Pack, State Bottle Cost, State Bottle Retail\n",
    "df_test = df[[\"Bottles Sold Per Capita\",\"Alcohol Expense Per Capita\",\"Pack\",\n",
    "              \"State Bottle Retail\",\"State Bottle Cost\",\n",
    "              \"Volume Sold (Gallons) Per Capita\"]]\n",
    "df_test = standardize(df_test)\n",
    "response = \"Volume Sold (Gallons) Per Capita\"\n",
    "folds = k_fold(5,df_test)\n",
    "out = cv(folds, response)\n",
    "print(\"test errors:\", out[0])\n",
    "print(\"     \")\n",
    "print(\"rmse:\", out[1])\n",
    "five_pr1 = out[1]\n",
    "\n",
    "test_errs = []\n",
    "for i in range(5,50):\n",
    "    folds = k_fold(i, df_test)\n",
    "    out = cv(folds, response)\n",
    "    test_errs.append(out[1])\n",
    "plt.plot(test_errs)\n",
    "print(\"K-Folds = \", test_errs.index(min(test_errs)))\n",
    "print(\"Minimum RMSE = \", min(test_errs))"
   ]
  },
  {
   "cell_type": "code",
   "execution_count": null,
   "metadata": {},
   "outputs": [],
   "source": [
    "# 5 predictors: Bottles Sold Per Capita, Alcohol Expense Per Capita, Pack, State Bottle Cost, Income Per capita\n",
    "df_test = df[[\"Bottles Sold Per Capita\",\"Alcohol Expense Per Capita\",\"Pack\", \n",
    "              \"State Bottle Cost\",\"Income Per Capita\",\n",
    "              \"Volume Sold (Gallons) Per Capita\"]]\n",
    "df_test = standardize(df_test)\n",
    "response = \"Volume Sold (Gallons) Per Capita\"\n",
    "folds = k_fold(5,df_test)\n",
    "out = cv(folds, response)\n",
    "print(\"test errors:\", out[0])\n",
    "print(\"     \")\n",
    "print(\"rmse:\", out[1])\n",
    "five_pr2 = out[1]\n",
    "\n",
    "test_errs = []\n",
    "for i in range(5,50):\n",
    "    folds = k_fold(i, df_test)\n",
    "    out = cv(folds, response)\n",
    "    test_errs.append(out[1])\n",
    "plt.plot(test_errs)\n",
    "print(\"K-Folds = \", test_errs.index(min(test_errs)))\n",
    "print(\"Minimum RMSE = \", min(test_errs))"
   ]
  },
  {
   "cell_type": "code",
   "execution_count": null,
   "metadata": {},
   "outputs": [],
   "source": [
    "# 5 predictors: Bottles Sold Per Capita, Alcohol Expense Per Capita, Pack, State Bottle Cost, Alcohol Type\n",
    "df_test = df[[\"Bottles Sold Per Capita\",\"Alcohol Expense Per Capita\",\"Pack\", \n",
    "              \"State Bottle Cost\",\"Consolidated_Brandy\",\"Consolidated_Gin\", \"Consolidated_Rum\",\n",
    "              \"Consolidated_Schnapps\",\"Consolidated_Tequila\",\"Consolidated_Vodka\",\"Consolidated_Whiskey\",\n",
    "              \"Volume Sold (Gallons) Per Capita\"]]\n",
    "df_test = standardize(df_test)\n",
    "response = \"Volume Sold (Gallons) Per Capita\"\n",
    "folds = k_fold(5,df_test)\n",
    "out = cv(folds, response)\n",
    "print(\"test errors:\", out[0])\n",
    "print(\"     \")\n",
    "print(\"rmse:\", out[1])\n",
    "\n",
    "test_errs = []\n",
    "for i in range(5,50):\n",
    "    folds = k_fold(i, df_test)\n",
    "    out = cv(folds, response)\n",
    "    test_errs.append(out[1])\n",
    "plt.plot(test_errs)\n",
    "print(\"K-Folds = \", test_errs.index(min(test_errs)))\n",
    "print(\"Minimum RMSE = \", min(test_errs))"
   ]
  },
  {
   "cell_type": "code",
   "execution_count": null,
   "metadata": {},
   "outputs": [],
   "source": [
    "# 5 predictors: Bottles Sold Per Capita, Alcohol Expense Per Capita, Pack, State Bottle Cost, Population\n",
    "df_test = df[[\"Bottles Sold Per Capita\",\"Alcohol Expense Per Capita\",\"Pack\", \n",
    "              \"State Bottle Cost\",\"Population\",\n",
    "              \"Volume Sold (Gallons) Per Capita\"]]\n",
    "df_test = standardize(df_test)\n",
    "response = \"Volume Sold (Gallons) Per Capita\"\n",
    "folds = k_fold(5,df_test)\n",
    "out = cv(folds, response)\n",
    "print(\"test errors:\", out[0])\n",
    "print(\"     \")\n",
    "print(\"rmse:\", out[1])\n",
    "\n",
    "test_errs = []\n",
    "for i in range(5,50):\n",
    "    folds = k_fold(i, df_test)\n",
    "    out = cv(folds, response)\n",
    "    test_errs.append(out[1])\n",
    "plt.plot(test_errs)\n",
    "print(\"K-Folds = \", test_errs.index(min(test_errs)))\n",
    "print(\"Minimum RMSE = \", min(test_errs))"
   ]
  },
  {
   "cell_type": "markdown",
   "metadata": {},
   "source": [
    "# Best 5 Predictor Model:  Bottles Sold Per Capita * Alcohol Expense Per Capita * Income Per Capita * State Bottle Cost * Pack"
   ]
  },
  {
   "cell_type": "code",
   "execution_count": null,
   "metadata": {},
   "outputs": [],
   "source": [
    "# 6 predictors: State Bottle Cost, State Bottle Retail, Pack,\n",
    "#             Bottles Sold Per Capita, Alcohol Expense Per Capita, Income Per Capita\n",
    "\n",
    "df_test = df[[\"State Bottle Cost\",\"State Bottle Retail\",\"Pack\",\"Bottles Sold Per Capita\",\n",
    "              \"Alcohol Expense Per Capita\",\"Income Per Capita\",\"Volume Sold (Gallons) Per Capita\"]]\n",
    "df_test = standardize(df_test)\n",
    "response = \"Volume Sold (Gallons) Per Capita\"\n",
    "folds = k_fold(5,df_test)\n",
    "out = cv(folds, response)\n",
    "print(\"test errors:\", out[0])\n",
    "print(\"     \")\n",
    "print(\"rmse:\", out[1])\n",
    "six_pr1 = out[1]\n",
    "\n",
    "test_errs = []\n",
    "for i in range(5,50):\n",
    "    folds = k_fold(i, df_test)\n",
    "    out = cv(folds, response)\n",
    "    test_errs.append(out[1])\n",
    "plt.plot(test_errs)\n",
    "print(\"K-Folds = \", test_errs.index(min(test_errs)))\n",
    "print(\"Minimum RMSE = \", min(test_errs))"
   ]
  },
  {
   "cell_type": "code",
   "execution_count": null,
   "metadata": {},
   "outputs": [],
   "source": [
    "# 6 predictors: State Bottle Cost, Population, Pack,\n",
    "#             Bottles Sold Per Capita, Alcohol Expense Per Capita, Income Per Capita\n",
    "\n",
    "df_test = df[[\"State Bottle Cost\",\"Income Per Capita\",\"Pack\",\"Bottles Sold Per Capita\",\n",
    "              \"Alcohol Expense Per Capita\",\"Population\",\"Volume Sold (Gallons) Per Capita\"]]\n",
    "df_test = standardize(df_test)\n",
    "response = \"Volume Sold (Gallons) Per Capita\"\n",
    "folds = k_fold(5,df_test)\n",
    "out = cv(folds, response)\n",
    "print(\"test errors:\", out[0])\n",
    "print(\"     \")\n",
    "print(\"rmse:\", out[1])\n",
    "\n",
    "test_errs = []\n",
    "for i in range(5,50):\n",
    "    folds = k_fold(i, df_test)\n",
    "    out = cv(folds, response)\n",
    "    test_errs.append(out[1])\n",
    "plt.plot(test_errs)\n",
    "print(\"K-Folds = \", test_errs.index(min(test_errs)))\n",
    "print(\"Minimum RMSE = \", min(test_errs))"
   ]
  },
  {
   "cell_type": "code",
   "execution_count": null,
   "metadata": {},
   "outputs": [],
   "source": [
    "# 6 predictors: State Bottle Cost, Alcohol Type, Pack,\n",
    "#             Bottles Sold Per Capita, Alcohol Expense Per Capita, Income Per Capita\n",
    "\n",
    "df_test = df[[\"State Bottle Cost\",\"Income Per Capita\",\"Pack\",\"Bottles Sold Per Capita\",\n",
    "              \"Alcohol Expense Per Capita\",\"Consolidated_Brandy\",\"Consolidated_Gin\", \"Consolidated_Rum\",\n",
    "              \"Consolidated_Schnapps\",\"Consolidated_Tequila\",\"Consolidated_Vodka\",\"Consolidated_Whiskey\"\n",
    "              ,\"Volume Sold (Gallons) Per Capita\"]]\n",
    "df_test = standardize(df_test)\n",
    "response = \"Volume Sold (Gallons) Per Capita\"\n",
    "folds = k_fold(5,df_test)\n",
    "out = cv(folds, response)\n",
    "print(\"test errors:\", out[0])\n",
    "print(\"     \")\n",
    "print(\"rmse:\", out[1])\n",
    "six_pr2 = out[1]\n",
    "\n",
    "test_errs = []\n",
    "for i in range(5,50):\n",
    "    folds = k_fold(i, df_test)\n",
    "    out = cv(folds, response)\n",
    "    test_errs.append(out[1])\n",
    "plt.plot(test_errs)\n",
    "print(\"K-Folds = \", test_errs.index(min(test_errs)))\n",
    "print(\"Minimum RMSE = \", min(test_errs))"
   ]
  },
  {
   "cell_type": "markdown",
   "metadata": {},
   "source": [
    "# Best 6 Predictor Model:  Bottles Sold Per Capita * Alcohol Expense Per Capita * Income Per Capita * State Bottle Cost * Pack * State Bottle Retail"
   ]
  },
  {
   "cell_type": "code",
   "execution_count": null,
   "metadata": {},
   "outputs": [],
   "source": [
    "# 7 predictors: State Bottle Cost, State Bottle Retail, Alcohol Type, Pack,\n",
    "#             Bottles Sold Per Capita, Alcohol Expense Per Capita, Income Per Capita\n",
    "\n",
    "df_test = df[[\"State Bottle Cost\",\"State Bottle Retail\",\"Pack\",\"Bottles Sold Per Capita\",\n",
    "              \"Alcohol Expense Per Capita\",\"Income Per Capita\",\"Consolidated_Brandy\",\"Consolidated_Gin\", \"Consolidated_Rum\",\n",
    "              \"Consolidated_Schnapps\",\"Consolidated_Tequila\",\"Consolidated_Vodka\",\"Consolidated_Whiskey\"\n",
    "              ,\"Volume Sold (Gallons) Per Capita\"]]\n",
    "df_test = standardize(df_test)\n",
    "response = \"Volume Sold (Gallons) Per Capita\"\n",
    "folds = k_fold(5,df_test)\n",
    "out = cv(folds, response)\n",
    "print(\"test errors:\", out[0])\n",
    "print(\"     \")\n",
    "print(\"rmse:\", out[1])\n",
    "seven_pr1 = out[1]\n",
    "\n",
    "test_errs = []\n",
    "for i in range(5,50):\n",
    "    folds = k_fold(i, df_test)\n",
    "    out = cv(folds, response)\n",
    "    test_errs.append(out[1])\n",
    "plt.plot(test_errs)\n",
    "print(\"K-Folds = \", test_errs.index(min(test_errs)))\n",
    "print(\"Minimum RMSE = \", min(test_errs))"
   ]
  },
  {
   "cell_type": "code",
   "execution_count": null,
   "metadata": {},
   "outputs": [],
   "source": [
    "# 7 predictors: State Bottle Cost, State Bottle Retail, Population, Pack,\n",
    "#             Bottles Sold Per Capita, Alcohol Expense Per Capita, Income Per Capita\n",
    "\n",
    "df_test = df[[\"State Bottle Cost\",\"State Bottle Retail\",\"Pack\",\"Bottles Sold Per Capita\",\n",
    "              \"Alcohol Expense Per Capita\",\"Income Per Capita\",\"Population\",\n",
    "              \"Volume Sold (Gallons) Per Capita\"]]\n",
    "df_test = standardize(df_test)\n",
    "response = \"Volume Sold (Gallons) Per Capita\"\n",
    "folds = k_fold(5,df_test)\n",
    "out = cv(folds, response)\n",
    "print(\"test errors:\", out[0])\n",
    "print(\"     \")\n",
    "print(\"rmse:\", out[1])\n",
    "\n",
    "test_errs = []\n",
    "for i in range(5,50):\n",
    "    folds = k_fold(i, df_test)\n",
    "    out = cv(folds, response)\n",
    "    test_errs.append(out[1])\n",
    "plt.plot(test_errs)\n",
    "print(\"K-Folds = \", test_errs.index(min(test_errs)))\n",
    "print(\"Minimum RMSE = \", min(test_errs))"
   ]
  },
  {
   "cell_type": "markdown",
   "metadata": {},
   "source": [
    "#  Best 7 Predictor Model:  Bottles Sold Per Capita * Alcohol Expense Per Capita * Income Per Capita * State Bottle Cost * Pack * State Bottle Retail * Alcohol Type"
   ]
  },
  {
   "cell_type": "code",
   "execution_count": null,
   "metadata": {},
   "outputs": [],
   "source": [
    "# 8 predictors: State Bottle Cost, State Bottle Retail, Alcohol Type, Pack,\n",
    "#             Bottles Sold Per Capita, Alcohol Expense Per Capita, Income Per Capita, Population\n",
    "\n",
    "df_test = df[[\"State Bottle Cost\",\"State Bottle Retail\",\"Pack\",\"Bottles Sold Per Capita\",\"Population\",\n",
    "              \"Alcohol Expense Per Capita\",\"Income Per Capita\",\"Consolidated_Brandy\",\"Consolidated_Gin\", \"Consolidated_Rum\",\n",
    "              \"Consolidated_Schnapps\",\"Consolidated_Tequila\",\"Consolidated_Vodka\",\"Consolidated_Whiskey\"\n",
    "              ,\"Volume Sold (Gallons) Per Capita\"]]\n",
    "df_test = standardize(df_test)\n",
    "response = \"Volume Sold (Gallons) Per Capita\"\n",
    "folds = k_fold(5,df_test)\n",
    "out = cv(folds, response)\n",
    "print(\"test errors:\", out[0])\n",
    "print(\"     \")\n",
    "print(\"rmse:\", out[1])\n",
    "eight_pr1 = out[1]\n",
    "\n",
    "test_errs = []\n",
    "for i in range(5,50):\n",
    "    folds = k_fold(i, df_test)\n",
    "    out = cv(folds, response)\n",
    "    test_errs.append(out[1])\n",
    "plt.plot(test_errs)\n",
    "print(\"K-Folds = \", test_errs.index(min(test_errs)))\n",
    "print(\"Minimum RMSE = \", min(test_errs))"
   ]
  },
  {
   "cell_type": "markdown",
   "metadata": {},
   "source": [
    "# Best Models "
   ]
  },
  {
   "cell_type": "code",
   "execution_count": null,
   "metadata": {},
   "outputs": [],
   "source": [
    "data = {\"Predictors\": [\"State Bottle Cost\", \"State Bottle Retail\",\"Bottles Sold Per Capita\",\n",
    "                       \"Pack\", \"Alcohol Expense Per Capita\",\"Population\",\"Income Per Capita\", \"Alcohol Type\"],\n",
    "       \"RMSE\": [SBC, SBR, BSPC,PCK,AEPC,PPLN,IPC,ALC],}\n",
    "one_predictor = pd.DataFrame(data, columns = [\"Predictors\", \"RMSE\"])\n",
    "one_predictor"
   ]
  },
  {
   "cell_type": "code",
   "execution_count": null,
   "metadata": {},
   "outputs": [],
   "source": [
    "data = {\"Test\":[\"Test 1\", \"Test 2\", \"Test 3\", \"Test 4\", \"Test 5\", \"Test 6\", \"Test 7\", \"Test 8\",\n",
    "               \"Test 9\",\"Test 10\", \"Test 11\",\"Test 12\"],\n",
    "       \"RMSE\": [two_pr, three_pr1, three_pr2, three_pr3, four_pr1, four_pr2, five_pr1, \n",
    "                five_pr2, six_pr1, six_pr2, seven_pr1, eight_pr1],\n",
    "       \"Predictors\": [\"BSPC*AEPC\",\n",
    "                      \"BSPC*AEPC*SBC\",\n",
    "                      \"BSPC*AEPC*SBR\",\n",
    "                      \"BSPC*AEPC*PCK\",\n",
    "                      \"BSPC*AEPC*PCK*SBR\",\n",
    "                      \"BSPC*AEPC*PCK*SBC\",\n",
    "                      \"BSPC*AEPC*PCK*SBC*SBR\",\n",
    "                      \"BSPC*AEPC*PCK*SBC*IPC\",\n",
    "                      \"BSPC*AEPC*PCK*SBC*IPC*SBR\",\n",
    "                      \"BSPC*AEPC*PCK*SBC*IPC*ALC\",\n",
    "                      \"BSPC*AEPC*PCK*SBC*IPC*SBR*ALC\",\n",
    "                      \"BSPC*AEPC*PCK*SBC*IPC*SBR*ALC*PPLN\"],}\n",
    "models = pd.DataFrame(data, columns = [\"Test\", \"RMSE\", \"Predictors\"])\n",
    "models"
   ]
  },
  {
   "cell_type": "code",
   "execution_count": null,
   "metadata": {},
   "outputs": [],
   "source": [
    "data = {\"Predictor\": [\"BSPC\",\"AEPC\",\"SBC\",\"PCK\",\"PPLN\",\"SBR\",\"IPC\",\"ALC\"],\n",
    "       \"Mapping\": [\"Bottles Sold Per Capita\", \"Alcohol Expense Per Capita\", \"State Bottle Cost\",\"Pack\",\n",
    "                  \"Population\", \"State Bottle Retail\", \"Income Per Capita\",\"Alcohol Type\"],}\n",
    "mapping = pd.DataFrame(data, columns = [\"Predictor\", \"Mapping\"])\n",
    "mapping"
   ]
  }
 ],
 "metadata": {
  "kernelspec": {
   "display_name": "Python 3",
   "language": "python",
   "name": "python3"
  },
  "language_info": {
   "codemirror_mode": {
    "name": "ipython",
    "version": 3
   },
   "file_extension": ".py",
   "mimetype": "text/x-python",
   "name": "python",
   "nbconvert_exporter": "python",
   "pygments_lexer": "ipython3",
   "version": "3.7.3"
  }
 },
 "nbformat": 4,
 "nbformat_minor": 4
}
